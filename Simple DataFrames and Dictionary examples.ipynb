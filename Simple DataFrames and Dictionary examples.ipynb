{
 "cells": [
  {
   "cell_type": "markdown",
   "id": "161dea1f",
   "metadata": {},
   "source": [
    "# DataFrames\n",
    "\n",
    "## Replacing Data"
   ]
  },
  {
   "cell_type": "code",
   "execution_count": 1,
   "id": "d393e184",
   "metadata": {},
   "outputs": [],
   "source": [
    "using DataFrames"
   ]
  },
  {
   "cell_type": "code",
   "execution_count": 2,
   "id": "600a1e3d",
   "metadata": {},
   "outputs": [
    {
     "data": {
      "text/html": [
       "<div class=\"data-frame\"><p>4 rows × 4 columns</p><table class=\"data-frame\"><thead><tr><th></th><th>a</th><th>b</th><th>c</th><th>d</th></tr><tr><th></th><th title=\"String\">String</th><th title=\"Int64\">Int64</th><th title=\"String\">String</th><th title=\"String\">String</th></tr></thead><tbody><tr><th>1</th><td>a</td><td>1</td><td>dummy</td><td>x</td></tr><tr><th>2</th><td>dummy</td><td>2</td><td>j</td><td>y</td></tr><tr><th>3</th><td>b</td><td>3</td><td>k</td><td>dummy</td></tr><tr><th>4</th><td>dummy</td><td>4</td><td>h</td><td>z</td></tr></tbody></table></div>"
      ],
      "text/latex": [
       "\\begin{tabular}{r|cccc}\n",
       "\t& a & b & c & d\\\\\n",
       "\t\\hline\n",
       "\t& String & Int64 & String & String\\\\\n",
       "\t\\hline\n",
       "\t1 & a & 1 & dummy & x \\\\\n",
       "\t2 & dummy & 2 & j & y \\\\\n",
       "\t3 & b & 3 & k & dummy \\\\\n",
       "\t4 & dummy & 4 & h & z \\\\\n",
       "\\end{tabular}\n"
      ],
      "text/plain": [
       "\u001b[1m4×4 DataFrame\u001b[0m\n",
       "\u001b[1m Row \u001b[0m│\u001b[1m a      \u001b[0m\u001b[1m b     \u001b[0m\u001b[1m c      \u001b[0m\u001b[1m d      \u001b[0m\n",
       "\u001b[1m     \u001b[0m│\u001b[90m String \u001b[0m\u001b[90m Int64 \u001b[0m\u001b[90m String \u001b[0m\u001b[90m String \u001b[0m\n",
       "─────┼───────────────────────────────\n",
       "   1 │ a           1  dummy   x\n",
       "   2 │ dummy       2  j       y\n",
       "   3 │ b           3  k       dummy\n",
       "   4 │ dummy       4  h       z"
      ]
     },
     "execution_count": 2,
     "metadata": {},
     "output_type": "execute_result"
    }
   ],
   "source": [
    "df = DataFrame( a=[\"a\", \"dummy\", \"b\", \"dummy\"],\n",
    "                b=1:4, c=[\"dummy\", \"j\", \"k\", \"h\"],\n",
    "                d=[\"x\", \"y\", \"dummy\", \"z\"])"
   ]
  },
  {
   "cell_type": "code",
   "execution_count": 3,
   "id": "ddb7d0ce",
   "metadata": {},
   "outputs": [
    {
     "data": {
      "text/plain": [
       "4-element Vector{String}:\n",
       " \"a\"\n",
       " \"c\"\n",
       " \"b\"\n",
       " \"c\""
      ]
     },
     "execution_count": 3,
     "metadata": {},
     "output_type": "execute_result"
    }
   ],
   "source": [
    "#replace the dummy variable with c\n",
    "replace!(df.a, \"dummy\" => \"c\")"
   ]
  },
  {
   "cell_type": "code",
   "execution_count": 4,
   "id": "4752f1cc",
   "metadata": {},
   "outputs": [
    {
     "data": {
      "text/html": [
       "<div class=\"data-frame\"><p>4 rows × 4 columns</p><table class=\"data-frame\"><thead><tr><th></th><th>a</th><th>b</th><th>c</th><th>d</th></tr><tr><th></th><th title=\"String\">String</th><th title=\"Int64\">Int64</th><th title=\"String\">String</th><th title=\"String\">String</th></tr></thead><tbody><tr><th>1</th><td>a</td><td>1</td><td>dummy</td><td>x</td></tr><tr><th>2</th><td>c</td><td>2</td><td>j</td><td>y</td></tr><tr><th>3</th><td>b</td><td>3</td><td>k</td><td>dummy</td></tr><tr><th>4</th><td>c</td><td>4</td><td>h</td><td>z</td></tr></tbody></table></div>"
      ],
      "text/latex": [
       "\\begin{tabular}{r|cccc}\n",
       "\t& a & b & c & d\\\\\n",
       "\t\\hline\n",
       "\t& String & Int64 & String & String\\\\\n",
       "\t\\hline\n",
       "\t1 & a & 1 & dummy & x \\\\\n",
       "\t2 & c & 2 & j & y \\\\\n",
       "\t3 & b & 3 & k & dummy \\\\\n",
       "\t4 & c & 4 & h & z \\\\\n",
       "\\end{tabular}\n"
      ],
      "text/plain": [
       "\u001b[1m4×4 DataFrame\u001b[0m\n",
       "\u001b[1m Row \u001b[0m│\u001b[1m a      \u001b[0m\u001b[1m b     \u001b[0m\u001b[1m c      \u001b[0m\u001b[1m d      \u001b[0m\n",
       "\u001b[1m     \u001b[0m│\u001b[90m String \u001b[0m\u001b[90m Int64 \u001b[0m\u001b[90m String \u001b[0m\u001b[90m String \u001b[0m\n",
       "─────┼───────────────────────────────\n",
       "   1 │ a           1  dummy   x\n",
       "   2 │ c           2  j       y\n",
       "   3 │ b           3  k       dummy\n",
       "   4 │ c           4  h       z"
      ]
     },
     "execution_count": 4,
     "metadata": {},
     "output_type": "execute_result"
    }
   ],
   "source": [
    "df"
   ]
  },
  {
   "cell_type": "markdown",
   "id": "8005e0e8",
   "metadata": {},
   "source": [
    "## Insert a column into a DataFrame"
   ]
  },
  {
   "cell_type": "code",
   "execution_count": 5,
   "id": "78c94ce5",
   "metadata": {},
   "outputs": [
    {
     "data": {
      "text/html": [
       "<div class=\"data-frame\"><p>3 rows × 1 columns</p><table class=\"data-frame\"><thead><tr><th></th><th>a</th></tr><tr><th></th><th title=\"Int64\">Int64</th></tr></thead><tbody><tr><th>1</th><td>1</td></tr><tr><th>2</th><td>2</td></tr><tr><th>3</th><td>3</td></tr></tbody></table></div>"
      ],
      "text/latex": [
       "\\begin{tabular}{r|c}\n",
       "\t& a\\\\\n",
       "\t\\hline\n",
       "\t& Int64\\\\\n",
       "\t\\hline\n",
       "\t1 & 1 \\\\\n",
       "\t2 & 2 \\\\\n",
       "\t3 & 3 \\\\\n",
       "\\end{tabular}\n"
      ],
      "text/plain": [
       "\u001b[1m3×1 DataFrame\u001b[0m\n",
       "\u001b[1m Row \u001b[0m│\u001b[1m a     \u001b[0m\n",
       "\u001b[1m     \u001b[0m│\u001b[90m Int64 \u001b[0m\n",
       "─────┼───────\n",
       "   1 │     1\n",
       "   2 │     2\n",
       "   3 │     3"
      ]
     },
     "execution_count": 5,
     "metadata": {},
     "output_type": "execute_result"
    }
   ],
   "source": [
    "df2 = DataFrame(a=1:3)"
   ]
  },
  {
   "cell_type": "code",
   "execution_count": 9,
   "id": "3ce9b436",
   "metadata": {},
   "outputs": [
    {
     "data": {
      "text/html": [
       "<div class=\"data-frame\"><p>3 rows × 2 columns</p><table class=\"data-frame\"><thead><tr><th></th><th>a</th><th>w</th></tr><tr><th></th><th title=\"Int64\">Int64</th><th title=\"Char\">Char</th></tr></thead><tbody><tr><th>1</th><td>1</td><td>a</td></tr><tr><th>2</th><td>2</td><td>b</td></tr><tr><th>3</th><td>3</td><td>c</td></tr></tbody></table></div>"
      ],
      "text/latex": [
       "\\begin{tabular}{r|cc}\n",
       "\t& a & w\\\\\n",
       "\t\\hline\n",
       "\t& Int64 & Char\\\\\n",
       "\t\\hline\n",
       "\t1 & 1 & a \\\\\n",
       "\t2 & 2 & b \\\\\n",
       "\t3 & 3 & c \\\\\n",
       "\\end{tabular}\n"
      ],
      "text/plain": [
       "\u001b[1m3×2 DataFrame\u001b[0m\n",
       "\u001b[1m Row \u001b[0m│\u001b[1m a     \u001b[0m\u001b[1m w    \u001b[0m\n",
       "\u001b[1m     \u001b[0m│\u001b[90m Int64 \u001b[0m\u001b[90m Char \u001b[0m\n",
       "─────┼─────────────\n",
       "   1 │     1  a\n",
       "   2 │     2  b\n",
       "   3 │     3  c"
      ]
     },
     "execution_count": 9,
     "metadata": {},
     "output_type": "execute_result"
    }
   ],
   "source": [
    "insertcols!(df2, 2, :w => 'a':'c')"
   ]
  },
  {
   "cell_type": "code",
   "execution_count": 10,
   "id": "49544a78",
   "metadata": {},
   "outputs": [
    {
     "data": {
      "text/plain": [
       "2"
      ]
     },
     "execution_count": 10,
     "metadata": {},
     "output_type": "execute_result"
    }
   ],
   "source": [
    "# number of columns of data frame\n",
    "ncol(df2)"
   ]
  },
  {
   "cell_type": "code",
   "execution_count": 12,
   "id": "81975474",
   "metadata": {},
   "outputs": [
    {
     "data": {
      "text/plain": [
       "(3, 2)"
      ]
     },
     "execution_count": 12,
     "metadata": {},
     "output_type": "execute_result"
    }
   ],
   "source": [
    "# dims of data frame\n",
    "size(df2)"
   ]
  },
  {
   "cell_type": "markdown",
   "id": "5b4c85a4",
   "metadata": {},
   "source": [
    "# Dictionaries\n",
    "\n",
    "## Constructing (generating) them"
   ]
  },
  {
   "cell_type": "code",
   "execution_count": 7,
   "id": "e8f06bbd",
   "metadata": {},
   "outputs": [
    {
     "data": {
      "text/plain": [
       "Dict{String, Int64} with 2 entries:\n",
       "  \"B\" => 2\n",
       "  \"A\" => 1"
      ]
     },
     "execution_count": 7,
     "metadata": {},
     "output_type": "execute_result"
    }
   ],
   "source": [
    "d1 = Dict(\"A\"=>1, \"B\"=>2)"
   ]
  },
  {
   "cell_type": "code",
   "execution_count": 8,
   "id": "9daf39c2",
   "metadata": {},
   "outputs": [
    {
     "data": {
      "text/plain": [
       "Dict{String, Int64} with 2 entries:\n",
       "  \"B\" => 2\n",
       "  \"A\" => 1"
      ]
     },
     "execution_count": 8,
     "metadata": {},
     "output_type": "execute_result"
    }
   ],
   "source": [
    "d2 = Dict([(\"A\", 1), (\"B\", 2)]) # equivalent method to generate a Dictionary"
   ]
  },
  {
   "cell_type": "code",
   "execution_count": null,
   "id": "301eb23d",
   "metadata": {},
   "outputs": [],
   "source": []
  }
 ],
 "metadata": {
  "@webio": {
   "lastCommId": null,
   "lastKernelId": null
  },
  "kernelspec": {
   "display_name": "Julia 1.7.3",
   "language": "julia",
   "name": "julia-1.7"
  },
  "language_info": {
   "file_extension": ".jl",
   "mimetype": "application/julia",
   "name": "julia",
   "version": "1.7.3"
  }
 },
 "nbformat": 4,
 "nbformat_minor": 5
}
