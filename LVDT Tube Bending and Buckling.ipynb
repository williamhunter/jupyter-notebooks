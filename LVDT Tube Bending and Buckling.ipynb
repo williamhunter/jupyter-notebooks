{
 "cells": [
  {
   "cell_type": "markdown",
   "id": "5a03921d",
   "metadata": {},
   "source": [
    "# LVDT Tube Buckling\n",
    "---"
   ]
  },
  {
   "cell_type": "code",
   "execution_count": 17,
   "id": "3ec52532",
   "metadata": {},
   "outputs": [],
   "source": [
    "import math as m\n",
    "π = m.pi"
   ]
  },
  {
   "cell_type": "markdown",
   "id": "e3eab702",
   "metadata": {},
   "source": [
    "## Euler Buckling"
   ]
  },
  {
   "cell_type": "markdown",
   "id": "fb82b13c",
   "metadata": {},
   "source": [
    "### Critical load formula"
   ]
  },
  {
   "cell_type": "markdown",
   "id": "2d73ffe8",
   "metadata": {},
   "source": [
    "$$P_{cr} = \\frac{\\pi^2 EI}{(KL)^2}$$"
   ]
  },
  {
   "cell_type": "markdown",
   "id": "f99dd3f7",
   "metadata": {},
   "source": [
    "### Tube dimensions"
   ]
  },
  {
   "cell_type": "code",
   "execution_count": 26,
   "id": "fae34ad7",
   "metadata": {},
   "outputs": [],
   "source": [
    "# units in metre\n",
    "OD, ID = 0.0127, 0.0094\n",
    "L = 2.4"
   ]
  },
  {
   "cell_type": "markdown",
   "id": "cdf15d15",
   "metadata": {},
   "source": [
    "### Cross-section 2nd moment of area"
   ]
  },
  {
   "cell_type": "code",
   "execution_count": 31,
   "id": "04d30202",
   "metadata": {},
   "outputs": [
    {
     "data": {
      "text/plain": [
       "8.937327708327605e-10"
      ]
     },
     "execution_count": 31,
     "metadata": {},
     "output_type": "execute_result"
    }
   ],
   "source": [
    "I = π/64 * (OD**4 - ID**4)\n",
    "I"
   ]
  },
  {
   "cell_type": "markdown",
   "id": "dcf56090",
   "metadata": {},
   "source": [
    "### Material constant and boundary condition"
   ]
  },
  {
   "cell_type": "code",
   "execution_count": 28,
   "id": "b0ce2312",
   "metadata": {},
   "outputs": [],
   "source": [
    "E = 190e9 # [GPa] Young's modulus for stainless steel\n",
    "K = 1 # Euler buckling boundary condition"
   ]
  },
  {
   "cell_type": "markdown",
   "id": "54bc52a9",
   "metadata": {},
   "source": [
    "### Critical load"
   ]
  },
  {
   "cell_type": "code",
   "execution_count": 29,
   "id": "0871b583",
   "metadata": {},
   "outputs": [],
   "source": [
    "P_cr = π**2 * E * I / (K * L)**2 # newton"
   ]
  },
  {
   "cell_type": "code",
   "execution_count": 30,
   "id": "3d5cc1b9",
   "metadata": {},
   "outputs": [
    {
     "data": {
      "text/plain": [
       "29.65989014889979"
      ]
     },
     "execution_count": 30,
     "metadata": {},
     "output_type": "execute_result"
    }
   ],
   "source": [
    "P_cr / 9.81"
   ]
  },
  {
   "cell_type": "markdown",
   "id": "0316f3f3-d514-4245-bf25-5b1c572e4d1f",
   "metadata": {},
   "source": [
    "## Combined compression and bending"
   ]
  },
  {
   "cell_type": "markdown",
   "id": "c9b1babc-e93b-4193-8071-690f721ccc38",
   "metadata": {},
   "source": [
    "### Compressive stress due to axial load P_cr"
   ]
  },
  {
   "cell_type": "code",
   "execution_count": 10,
   "id": "9f453142-0c13-4c85-a0e8-310fe4985043",
   "metadata": {},
   "outputs": [],
   "source": [
    "A = π/4 * (OD**2 - ID**2)\n",
    "f_a = P_cr / A # axial stress\n",
    "# f_a / 1e6 # compr stress in MPa"
   ]
  },
  {
   "cell_type": "markdown",
   "id": "a90bc76d-4a7c-4d4e-af6e-a06a639df150",
   "metadata": {},
   "source": [
    "### Bending of tube due to lateral acceleration\n",
    "Assume simply supported beam with uniformly distributed load (self-weight)"
   ]
  },
  {
   "cell_type": "code",
   "execution_count": 23,
   "id": "331d1891-895b-439d-b784-feaefe6fe372",
   "metadata": {},
   "outputs": [
    {
     "data": {
      "text/plain": [
       "3.6457369637898944"
      ]
     },
     "execution_count": 23,
     "metadata": {},
     "output_type": "execute_result"
    }
   ],
   "source": [
    "UTS_a_xy = m.sqrt(0.718**2 + 0.35**2) # m/s^2\n",
    "mass_per_metre = 7980 * A # mass per metre [kg/m] of tube\n",
    "mass_pm_lvdt = π/4 * ID**2 * 3000\n",
    "w = (mass_per_metre + mass_pm_lvdt) * (9.81 + 1.15) * m.sin(m.radians(30))\n",
    "w"
   ]
  },
  {
   "cell_type": "code",
   "execution_count": 19,
   "id": "b7606209-1e0d-4bd0-a05f-8ab4ab862b96",
   "metadata": {},
   "outputs": [
    {
     "data": {
      "text/plain": [
       "0.7987640452599253"
      ]
     },
     "execution_count": 19,
     "metadata": {},
     "output_type": "execute_result"
    }
   ],
   "source": [
    "UTS_a_xy"
   ]
  },
  {
   "cell_type": "code",
   "execution_count": 12,
   "id": "97132137",
   "metadata": {},
   "outputs": [
    {
     "data": {
      "text/plain": [
       "0.6652804678448713"
      ]
     },
     "execution_count": 12,
     "metadata": {},
     "output_type": "execute_result"
    }
   ],
   "source": [
    "mass_per_metre + mass_pm_lvdt"
   ]
  },
  {
   "cell_type": "code",
   "execution_count": 13,
   "id": "c94c2d70-ec5b-4b16-ae59-b8cd91b7993a",
   "metadata": {},
   "outputs": [
    {
     "data": {
      "text/plain": [
       "6.21673873236039"
      ]
     },
     "execution_count": 13,
     "metadata": {},
     "output_type": "execute_result"
    }
   ],
   "source": [
    "M = w/12 * (6*L*L/2 - 6*(L/2)**2 - L**2) # moment at mid of beam/tube\n",
    "f_b = M * OD/2 / I # max bending stress\n",
    "f_b / 1e6 # MPa"
   ]
  },
  {
   "cell_type": "code",
   "execution_count": 14,
   "id": "3e69bac8-e858-4e0d-8ca1-7e075be22690",
   "metadata": {},
   "outputs": [
    {
     "data": {
      "text/plain": [
       "1.8549738447159076"
      ]
     },
     "execution_count": 14,
     "metadata": {},
     "output_type": "execute_result"
    }
   ],
   "source": [
    "y_max = w*L**4/(384*E*I) # max displ due to bending at centre\n",
    "y_max * 1000 # defelction in mm"
   ]
  },
  {
   "cell_type": "code",
   "execution_count": 15,
   "id": "7983277c-fb36-4176-9033-1db680c7c7d1",
   "metadata": {},
   "outputs": [],
   "source": [
    "F_a = 205_000_000\n",
    "F_b = 205_000_000\n",
    "F_e = 149_000_000/((L/OD/2)**2)"
   ]
  },
  {
   "cell_type": "code",
   "execution_count": 16,
   "id": "da1ec834-7d5b-428c-9b40-9ccba6952919",
   "metadata": {},
   "outputs": [],
   "source": [
    "if f_a/F_a > 0.15:\n",
    "    formula = f_a/F_a + 0.85*f_b/((1-f_a/F_e)*F_b)\n",
    "else:\n",
    "    formula = f_a/F_a + f_b/F_b"
   ]
  },
  {
   "cell_type": "code",
   "execution_count": 17,
   "id": "adfe461d-6a4f-49f6-a305-295514c39f4d",
   "metadata": {},
   "outputs": [
    {
     "name": "stdout",
     "output_type": "stream",
     "text": [
      "Safe:  0.08089550308448089 < 1\n"
     ]
    }
   ],
   "source": [
    "if formula < 1:\n",
    "  print(\"Safe: \", formula, \"< 1\")\n",
    "else:\n",
    "  print(\"Fail: \", formula, \"> 1\")"
   ]
  },
  {
   "cell_type": "code",
   "execution_count": null,
   "id": "3ed6304f-a59c-4119-bd2c-9b6ab53a1ae4",
   "metadata": {},
   "outputs": [],
   "source": []
  },
  {
   "cell_type": "code",
   "execution_count": null,
   "id": "67cdbef0",
   "metadata": {},
   "outputs": [],
   "source": []
  }
 ],
 "metadata": {
  "@webio": {
   "lastCommId": null,
   "lastKernelId": null
  },
  "kernelspec": {
   "display_name": "Python 3 (ipykernel)",
   "language": "python",
   "name": "python3"
  },
  "language_info": {
   "codemirror_mode": {
    "name": "ipython",
    "version": 3
   },
   "file_extension": ".py",
   "mimetype": "text/x-python",
   "name": "python",
   "nbconvert_exporter": "python",
   "pygments_lexer": "ipython3",
   "version": "3.10.4"
  }
 },
 "nbformat": 4,
 "nbformat_minor": 5
}
