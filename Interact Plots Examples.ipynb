{
 "cells": [
  {
   "cell_type": "code",
   "execution_count": 1,
   "id": "dd789ca8",
   "metadata": {},
   "outputs": [
    {
     "data": {
      "application/vnd.webio.node+json": {
       "children": [],
       "instanceArgs": {
        "namespace": "html",
        "tag": "div"
       },
       "nodeType": "DOM",
       "props": {},
       "type": "node"
      },
      "text/html": [
       "<div style=\"padding: 1em; background-color: #f8d6da; border: 1px solid #f5c6cb; font-weight: bold;\">\n",
       "<p>The WebIO Jupyter extension was not detected. See the\n",
       "<a href=\"https://juliagizmos.github.io/WebIO.jl/latest/providers/ijulia/\" target=\"_blank\">\n",
       "    WebIO Jupyter integration documentation\n",
       "</a>\n",
       "for more information.\n",
       "</div>\n"
      ],
      "text/plain": [
       "WebIO._IJuliaInit()"
      ]
     },
     "metadata": {
      "application/vnd.webio.node+json": {
       "kernelId": "b055c6ba-bceb-4b24-a48f-f03bb564cc9b"
      }
     },
     "output_type": "display_data"
    }
   ],
   "source": [
    "using Plots, Interact"
   ]
  },
  {
   "cell_type": "markdown",
   "id": "fa62343d",
   "metadata": {},
   "source": [
    "# Phase shift"
   ]
  },
  {
   "cell_type": "code",
   "execution_count": 16,
   "id": "e1f56ae3",
   "metadata": {},
   "outputs": [
    {
     "data": {
      "application/vnd.webio.node+json": {
       "children": [
        {
         "children": [
          {
           "children": [
            {
             "children": [
              {
               "children": [
                {
                 "children": [
                  "Phase shift"
                 ],
                 "instanceArgs": {
                  "namespace": "html",
                  "tag": "label"
                 },
                 "nodeType": "DOM",
                 "props": {
                  "className": "interact ",
                  "style": {
                   "padding": "5px 10px 0px 10px"
                  }
                 },
                 "type": "node"
                }
               ],
               "instanceArgs": {
                "namespace": "html",
                "tag": "div"
               },
               "nodeType": "DOM",
               "props": {
                "className": "interact-flex-row-left"
               },
               "type": "node"
              },
              {
               "children": [
                {
                 "children": [],
                 "instanceArgs": {
                  "namespace": "html",
                  "tag": "input"
                 },
                 "nodeType": "DOM",
                 "props": {
                  "attributes": {
                   "data-bind": "numericValue: index, valueUpdate: 'input', event: {change: function (){this.changes(this.changes()+1)}}",
                   "orient": "horizontal",
                   "type": "range"
                  },
                  "className": "slider slider is-fullwidth",
                  "max": 19,
                  "min": 1,
                  "step": 1,
                  "style": {}
                 },
                 "type": "node"
                }
               ],
               "instanceArgs": {
                "namespace": "html",
                "tag": "div"
               },
               "nodeType": "DOM",
               "props": {
                "className": "interact-flex-row-center"
               },
               "type": "node"
              },
              {
               "children": [
                {
                 "children": [],
                 "instanceArgs": {
                  "namespace": "html",
                  "tag": "p"
                 },
                 "nodeType": "DOM",
                 "props": {
                  "attributes": {
                   "data-bind": "text: formatted_val"
                  }
                 },
                 "type": "node"
                }
               ],
               "instanceArgs": {
                "namespace": "html",
                "tag": "div"
               },
               "nodeType": "DOM",
               "props": {
                "className": "interact-flex-row-right"
               },
               "type": "node"
              }
             ],
             "instanceArgs": {
              "namespace": "html",
              "tag": "div"
             },
             "nodeType": "DOM",
             "props": {
              "className": "interact-flex-row interact-widget"
             },
             "type": "node"
            }
           ],
           "instanceArgs": {
            "handlers": {
             "changes": [
              "(function (val){return (val!=this.model[\"changes\"]()) ? (this.valueFromJulia[\"changes\"]=true, this.model[\"changes\"](val)) : undefined})"
             ],
             "index": [
              "(function (val){return (val!=this.model[\"index\"]()) ? (this.valueFromJulia[\"index\"]=true, this.model[\"index\"](val)) : undefined})"
             ]
            },
            "id": "7022968363668310744",
            "imports": {
             "data": [
              {
               "name": "knockout",
               "type": "js",
               "url": "/assetserver/b06b1d10f9a22ed58d41d733179ca1f7324f1691-knockout.js"
              },
              {
               "name": "knockout_punches",
               "type": "js",
               "url": "/assetserver/8b802bee336af6b9ad8d794ceaaab92b93e96af6-knockout_punches.js"
              },
              {
               "name": null,
               "type": "js",
               "url": "/assetserver/69fa1b1e372cfc111090896336dbb1a716187f6c-all.js"
              },
              {
               "name": null,
               "type": "css",
               "url": "/assetserver/fa4819bd9f6af153420bbb94b51c68520cecda0b-style.css"
              },
              {
               "name": null,
               "type": "css",
               "url": "/assetserver/2899be340498081a6535ce0ea18fe2d17b6e93b7-bulma_confined.min.css"
              }
             ],
             "type": "async_block"
            },
            "mount_callbacks": [
             "function () {\n    var handler = (function (ko, koPunches) {\n    ko.punches.enableAll();\n    ko.bindingHandlers.numericValue = {\n        init: function(element, valueAccessor, allBindings, data, context) {\n            var stringified = ko.observable(ko.unwrap(valueAccessor()));\n            stringified.subscribe(function(value) {\n                var val = parseFloat(value);\n                if (!isNaN(val)) {\n                    valueAccessor()(val);\n                }\n            });\n            valueAccessor().subscribe(function(value) {\n                var str = JSON.stringify(value);\n                if ((str == \"0\") && ([\"-0\", \"-0.\"].indexOf(stringified()) >= 0))\n                     return;\n                 if ([\"null\", \"\"].indexOf(str) >= 0)\n                     return;\n                stringified(str);\n            });\n            ko.applyBindingsToNode(\n                element,\n                {\n                    value: stringified,\n                    valueUpdate: allBindings.get('valueUpdate'),\n                },\n                context,\n            );\n        }\n    };\n    var json_data = {\"formatted_vals\":[\"0\",\"10\",\"20\",\"30\",\"40\",\"50\",\"60\",\"70\",\"80\",\"90\",\"100\",\"110\",\"120\",\"130\",\"140\",\"150\",\"160\",\"170\",\"180\"],\"changes\":WebIO.getval({\"name\":\"changes\",\"scope\":\"7022968363668310744\",\"id\":\"9491916090165757532\",\"type\":\"observable\"}),\"index\":WebIO.getval({\"name\":\"index\",\"scope\":\"7022968363668310744\",\"id\":\"4380652452879748752\",\"type\":\"observable\"})};\n    var self = this;\n    function AppViewModel() {\n        for (var key in json_data) {\n            var el = json_data[key];\n            this[key] = Array.isArray(el) ? ko.observableArray(el) : ko.observable(el);\n        }\n        \n        [this[\"formatted_val\"]=ko.computed(    function(){\n        return this.formatted_vals()[parseInt(this.index())-(1)];\n    }\n,this)]\n        [this[\"changes\"].subscribe((function (val){!(this.valueFromJulia[\"changes\"]) ? (WebIO.setval({\"name\":\"changes\",\"scope\":\"7022968363668310744\",\"id\":\"9491916090165757532\",\"type\":\"observable\"},val)) : undefined; return this.valueFromJulia[\"changes\"]=false}),self),this[\"index\"].subscribe((function (val){!(this.valueFromJulia[\"index\"]) ? (WebIO.setval({\"name\":\"index\",\"scope\":\"7022968363668310744\",\"id\":\"4380652452879748752\",\"type\":\"observable\"},val)) : undefined; return this.valueFromJulia[\"index\"]=false}),self)]\n        \n    }\n    self.model = new AppViewModel();\n    self.valueFromJulia = {};\n    for (var key in json_data) {\n        self.valueFromJulia[key] = false;\n    }\n    ko.applyBindings(self.model, self.dom);\n}\n);\n    (WebIO.importBlock({\"data\":[{\"name\":\"knockout\",\"type\":\"js\",\"url\":\"/assetserver/b06b1d10f9a22ed58d41d733179ca1f7324f1691-knockout.js\"},{\"name\":\"knockout_punches\",\"type\":\"js\",\"url\":\"/assetserver/8b802bee336af6b9ad8d794ceaaab92b93e96af6-knockout_punches.js\"}],\"type\":\"async_block\"})).then((imports) => handler.apply(this, imports));\n}\n"
            ],
            "observables": {
             "changes": {
              "id": "9491916090165757532",
              "sync": false,
              "value": 0
             },
             "index": {
              "id": "4380652452879748752",
              "sync": true,
              "value": 10
             }
            },
            "systemjs_options": null
           },
           "nodeType": "Scope",
           "props": {},
           "type": "node"
          }
         ],
         "instanceArgs": {
          "namespace": "html",
          "tag": "div"
         },
         "nodeType": "DOM",
         "props": {
          "className": "field interact-widget"
         },
         "type": "node"
        },
        {
         "children": [
          {
           "children": [],
           "instanceArgs": {
            "id": "576372791708435473",
            "name": "obs-node"
           },
           "nodeType": "ObservableNode",
           "props": {},
           "type": "node"
          }
         ],
         "instanceArgs": {
          "handlers": {},
          "id": "17373382279427420682",
          "imports": {
           "data": [],
           "type": "async_block"
          },
          "mount_callbacks": [],
          "observables": {
           "obs-node": {
            "id": "576372791708435473",
            "sync": false,
            "value": {
             "children": [
              {
               "children": [],
               "instanceArgs": {
                "namespace": "html",
                "tag": "div"
               },
               "nodeType": "DOM",
               "props": {
                "setInnerHtml": "<?xml version=\"1.0\" encoding=\"utf-8\"?>\n<svg xmlns=\"http://www.w3.org/2000/svg\" xmlns:xlink=\"http://www.w3.org/1999/xlink\" width=\"600\" height=\"400\" viewBox=\"0 0 2400 1600\">\n<defs>\n  <clipPath id=\"clip840\">\n    <rect x=\"0\" y=\"0\" width=\"2400\" height=\"1600\"/>\n  </clipPath>\n</defs>\n<path clip-path=\"url(#clip840)\" d=\"\nM0 1600 L2400 1600 L2400 0 L0 0  Z\n  \" fill=\"#ffffff\" fill-rule=\"evenodd\" fill-opacity=\"1\"/>\n<defs>\n  <clipPath id=\"clip841\">\n    <rect x=\"480\" y=\"0\" width=\"1681\" height=\"1600\"/>\n  </clipPath>\n</defs>\n<path clip-path=\"url(#clip840)\" d=\"\nM193.936 1486.45 L2352.76 1486.45 L2352.76 47.2441 L193.936 47.2441  Z\n  \" fill=\"#ffffff\" fill-rule=\"evenodd\" fill-opacity=\"1\"/>\n<defs>\n  <clipPath id=\"clip842\">\n    <rect x=\"193\" y=\"47\" width=\"2160\" height=\"1440\"/>\n  </clipPath>\n</defs>\n<polyline clip-path=\"url(#clip842)\" style=\"stroke:#000000; stroke-linecap:butt; stroke-linejoin:round; stroke-width:2; stroke-opacity:0.1; fill:none\" points=\"\n  255.035,1486.45 255.035,47.2441 \n  \"/>\n<polyline clip-path=\"url(#clip842)\" style=\"stroke:#000000; stroke-linecap:butt; stroke-linejoin:round; stroke-width:2; stroke-opacity:0.1; fill:none\" points=\"\n  820.763,1486.45 820.763,47.2441 \n  \"/>\n<polyline clip-path=\"url(#clip842)\" style=\"stroke:#000000; stroke-linecap:butt; stroke-linejoin:round; stroke-width:2; stroke-opacity:0.1; fill:none\" points=\"\n  1386.49,1486.45 1386.49,47.2441 \n  \"/>\n<polyline clip-path=\"url(#clip842)\" style=\"stroke:#000000; stroke-linecap:butt; stroke-linejoin:round; stroke-width:2; stroke-opacity:0.1; fill:none\" points=\"\n  1952.22,1486.45 1952.22,47.2441 \n  \"/>\n<polyline clip-path=\"url(#clip840)\" style=\"stroke:#000000; stroke-linecap:butt; stroke-linejoin:round; stroke-width:4; stroke-opacity:1; fill:none\" points=\"\n  193.936,1486.45 2352.76,1486.45 \n  \"/>\n<polyline clip-path=\"url(#clip840)\" style=\"stroke:#000000; stroke-linecap:butt; stroke-linejoin:round; stroke-width:4; stroke-opacity:1; fill:none\" points=\"\n  255.035,1486.45 255.035,1467.55 \n  \"/>\n<polyline clip-path=\"url(#clip840)\" style=\"stroke:#000000; stroke-linecap:butt; stroke-linejoin:round; stroke-width:4; stroke-opacity:1; fill:none\" points=\"\n  820.763,1486.45 820.763,1467.55 \n  \"/>\n<polyline clip-path=\"url(#clip840)\" style=\"stroke:#000000; stroke-linecap:butt; stroke-linejoin:round; stroke-width:4; stroke-opacity:1; fill:none\" points=\"\n  1386.49,1486.45 1386.49,1467.55 \n  \"/>\n<polyline clip-path=\"url(#clip840)\" style=\"stroke:#000000; stroke-linecap:butt; stroke-linejoin:round; stroke-width:4; stroke-opacity:1; fill:none\" points=\"\n  1952.22,1486.45 1952.22,1467.55 \n  \"/>\n<path clip-path=\"url(#clip840)\" d=\"M255.035 1517.37 Q251.424 1517.37 249.595 1520.93 Q247.789 1524.47 247.789 1531.6 Q247.789 1538.71 249.595 1542.27 Q251.424 1545.82 255.035 1545.82 Q258.669 1545.82 260.474 1542.27 Q262.303 1538.71 262.303 1531.6 Q262.303 1524.47 260.474 1520.93 Q258.669 1517.37 255.035 1517.37 M255.035 1513.66 Q260.845 1513.66 263.9 1518.27 Q266.979 1522.85 266.979 1531.6 Q266.979 1540.33 263.9 1544.94 Q260.845 1549.52 255.035 1549.52 Q249.225 1549.52 246.146 1544.94 Q243.09 1540.33 243.09 1531.6 Q243.09 1522.85 246.146 1518.27 Q249.225 1513.66 255.035 1513.66 Z\" fill=\"#000000\" fill-rule=\"evenodd\" fill-opacity=\"1\" /><path clip-path=\"url(#clip840)\" d=\"M780.37 1544.91 L788.009 1544.91 L788.009 1518.55 L779.699 1520.21 L779.699 1515.95 L787.962 1514.29 L792.638 1514.29 L792.638 1544.91 L800.277 1544.91 L800.277 1548.85 L780.37 1548.85 L780.37 1544.91 Z\" fill=\"#000000\" fill-rule=\"evenodd\" fill-opacity=\"1\" /><path clip-path=\"url(#clip840)\" d=\"M819.722 1517.37 Q816.11 1517.37 814.282 1520.93 Q812.476 1524.47 812.476 1531.6 Q812.476 1538.71 814.282 1542.27 Q816.11 1545.82 819.722 1545.82 Q823.356 1545.82 825.161 1542.27 Q826.99 1538.71 826.99 1531.6 Q826.99 1524.47 825.161 1520.93 Q823.356 1517.37 819.722 1517.37 M819.722 1513.66 Q825.532 1513.66 828.587 1518.27 Q831.666 1522.85 831.666 1531.6 Q831.666 1540.33 828.587 1544.94 Q825.532 1549.52 819.722 1549.52 Q813.911 1549.52 810.833 1544.94 Q807.777 1540.33 807.777 1531.6 Q807.777 1522.85 810.833 1518.27 Q813.911 1513.66 819.722 1513.66 Z\" fill=\"#000000\" fill-rule=\"evenodd\" fill-opacity=\"1\" /><path clip-path=\"url(#clip840)\" d=\"M849.883 1517.37 Q846.272 1517.37 844.444 1520.93 Q842.638 1524.47 842.638 1531.6 Q842.638 1538.71 844.444 1542.27 Q846.272 1545.82 849.883 1545.82 Q853.518 1545.82 855.323 1542.27 Q857.152 1538.71 857.152 1531.6 Q857.152 1524.47 855.323 1520.93 Q853.518 1517.37 849.883 1517.37 M849.883 1513.66 Q855.694 1513.66 858.749 1518.27 Q861.828 1522.85 861.828 1531.6 Q861.828 1540.33 858.749 1544.94 Q855.694 1549.52 849.883 1549.52 Q844.073 1549.52 840.995 1544.94 Q837.939 1540.33 837.939 1531.6 Q837.939 1522.85 840.995 1518.27 Q844.073 1513.66 849.883 1513.66 Z\" fill=\"#000000\" fill-rule=\"evenodd\" fill-opacity=\"1\" /><path clip-path=\"url(#clip840)\" d=\"M1350.18 1544.91 L1366.5 1544.91 L1366.5 1548.85 L1344.56 1548.85 L1344.56 1544.91 Q1347.22 1542.16 1351.8 1537.53 Q1356.41 1532.88 1357.59 1531.53 Q1359.84 1529.01 1360.72 1527.27 Q1361.62 1525.51 1361.62 1523.82 Q1361.62 1521.07 1359.67 1519.33 Q1357.75 1517.6 1354.65 1517.6 Q1352.45 1517.6 1350 1518.36 Q1347.57 1519.13 1344.79 1520.68 L1344.79 1515.95 Q1347.61 1514.82 1350.07 1514.24 Q1352.52 1513.66 1354.56 1513.66 Q1359.93 1513.66 1363.12 1516.35 Q1366.32 1519.03 1366.32 1523.52 Q1366.32 1525.65 1365.51 1527.57 Q1364.72 1529.47 1362.61 1532.07 Q1362.04 1532.74 1358.93 1535.95 Q1355.83 1539.15 1350.18 1544.91 Z\" fill=\"#000000\" fill-rule=\"evenodd\" fill-opacity=\"1\" /><path clip-path=\"url(#clip840)\" d=\"M1386.32 1517.37 Q1382.71 1517.37 1380.88 1520.93 Q1379.07 1524.47 1379.07 1531.6 Q1379.07 1538.71 1380.88 1542.27 Q1382.71 1545.82 1386.32 1545.82 Q1389.95 1545.82 1391.76 1542.27 Q1393.59 1538.71 1393.59 1531.6 Q1393.59 1524.47 1391.76 1520.93 Q1389.95 1517.37 1386.32 1517.37 M1386.32 1513.66 Q1392.13 1513.66 1395.18 1518.27 Q1398.26 1522.85 1398.26 1531.6 Q1398.26 1540.33 1395.18 1544.94 Q1392.13 1549.52 1386.32 1549.52 Q1380.51 1549.52 1377.43 1544.94 Q1374.37 1540.33 1374.37 1531.6 Q1374.37 1522.85 1377.43 1518.27 Q1380.51 1513.66 1386.32 1513.66 Z\" fill=\"#000000\" fill-rule=\"evenodd\" fill-opacity=\"1\" /><path clip-path=\"url(#clip840)\" d=\"M1416.48 1517.37 Q1412.87 1517.37 1411.04 1520.93 Q1409.23 1524.47 1409.23 1531.6 Q1409.23 1538.71 1411.04 1542.27 Q1412.87 1545.82 1416.48 1545.82 Q1420.11 1545.82 1421.92 1542.27 Q1423.75 1538.71 1423.75 1531.6 Q1423.75 1524.47 1421.92 1520.93 Q1420.11 1517.37 1416.48 1517.37 M1416.48 1513.66 Q1422.29 1513.66 1425.35 1518.27 Q1428.42 1522.85 1428.42 1531.6 Q1428.42 1540.33 1425.35 1544.94 Q1422.29 1549.52 1416.48 1549.52 Q1410.67 1549.52 1407.59 1544.94 Q1404.54 1540.33 1404.54 1531.6 Q1404.54 1522.85 1407.59 1518.27 Q1410.67 1513.66 1416.48 1513.66 Z\" fill=\"#000000\" fill-rule=\"evenodd\" fill-opacity=\"1\" /><path clip-path=\"url(#clip840)\" d=\"M1925.98 1530.21 Q1929.34 1530.93 1931.21 1533.2 Q1933.11 1535.47 1933.11 1538.8 Q1933.11 1543.92 1929.59 1546.72 Q1926.07 1549.52 1919.59 1549.52 Q1917.42 1549.52 1915.1 1549.08 Q1912.81 1548.66 1910.36 1547.81 L1910.36 1543.29 Q1912.3 1544.43 1914.62 1545.01 Q1916.93 1545.58 1919.45 1545.58 Q1923.85 1545.58 1926.14 1543.85 Q1928.46 1542.11 1928.46 1538.8 Q1928.46 1535.75 1926.31 1534.03 Q1924.18 1532.3 1920.36 1532.3 L1916.33 1532.3 L1916.33 1528.45 L1920.54 1528.45 Q1923.99 1528.45 1925.82 1527.09 Q1927.65 1525.7 1927.65 1523.11 Q1927.65 1520.45 1925.75 1519.03 Q1923.88 1517.6 1920.36 1517.6 Q1918.44 1517.6 1916.24 1518.01 Q1914.04 1518.43 1911.4 1519.31 L1911.4 1515.14 Q1914.06 1514.4 1916.38 1514.03 Q1918.71 1513.66 1920.77 1513.66 Q1926.1 1513.66 1929.2 1516.09 Q1932.3 1518.5 1932.3 1522.62 Q1932.3 1525.49 1930.66 1527.48 Q1929.01 1529.45 1925.98 1530.21 Z\" fill=\"#000000\" fill-rule=\"evenodd\" fill-opacity=\"1\" /><path clip-path=\"url(#clip840)\" d=\"M1951.98 1517.37 Q1948.37 1517.37 1946.54 1520.93 Q1944.73 1524.47 1944.73 1531.6 Q1944.73 1538.71 1946.54 1542.27 Q1948.37 1545.82 1951.98 1545.82 Q1955.61 1545.82 1957.42 1542.27 Q1959.25 1538.71 1959.25 1531.6 Q1959.25 1524.47 1957.42 1520.93 Q1955.61 1517.37 1951.98 1517.37 M1951.98 1513.66 Q1957.79 1513.66 1960.84 1518.27 Q1963.92 1522.85 1963.92 1531.6 Q1963.92 1540.33 1960.84 1544.94 Q1957.79 1549.52 1951.98 1549.52 Q1946.17 1549.52 1943.09 1544.94 Q1940.03 1540.33 1940.03 1531.6 Q1940.03 1522.85 1943.09 1518.27 Q1946.17 1513.66 1951.98 1513.66 Z\" fill=\"#000000\" fill-rule=\"evenodd\" fill-opacity=\"1\" /><path clip-path=\"url(#clip840)\" d=\"M1982.14 1517.37 Q1978.53 1517.37 1976.7 1520.93 Q1974.89 1524.47 1974.89 1531.6 Q1974.89 1538.71 1976.7 1542.27 Q1978.53 1545.82 1982.14 1545.82 Q1985.77 1545.82 1987.58 1542.27 Q1989.41 1538.71 1989.41 1531.6 Q1989.41 1524.47 1987.58 1520.93 Q1985.77 1517.37 1982.14 1517.37 M1982.14 1513.66 Q1987.95 1513.66 1991 1518.27 Q1994.08 1522.85 1994.08 1531.6 Q1994.08 1540.33 1991 1544.94 Q1987.95 1549.52 1982.14 1549.52 Q1976.33 1549.52 1973.25 1544.94 Q1970.19 1540.33 1970.19 1531.6 Q1970.19 1522.85 1973.25 1518.27 Q1976.33 1513.66 1982.14 1513.66 Z\" fill=\"#000000\" fill-rule=\"evenodd\" fill-opacity=\"1\" /><polyline clip-path=\"url(#clip842)\" style=\"stroke:#000000; stroke-linecap:butt; stroke-linejoin:round; stroke-width:2; stroke-opacity:0.1; fill:none\" points=\"\n  193.936,1445.72 2352.76,1445.72 \n  \"/>\n<polyline clip-path=\"url(#clip842)\" style=\"stroke:#000000; stroke-linecap:butt; stroke-linejoin:round; stroke-width:2; stroke-opacity:0.1; fill:none\" points=\"\n  193.936,1106.28 2352.76,1106.28 \n  \"/>\n<polyline clip-path=\"url(#clip842)\" style=\"stroke:#000000; stroke-linecap:butt; stroke-linejoin:round; stroke-width:2; stroke-opacity:0.1; fill:none\" points=\"\n  193.936,766.846 2352.76,766.846 \n  \"/>\n<polyline clip-path=\"url(#clip842)\" style=\"stroke:#000000; stroke-linecap:butt; stroke-linejoin:round; stroke-width:2; stroke-opacity:0.1; fill:none\" points=\"\n  193.936,427.411 2352.76,427.411 \n  \"/>\n<polyline clip-path=\"url(#clip842)\" style=\"stroke:#000000; stroke-linecap:butt; stroke-linejoin:round; stroke-width:2; stroke-opacity:0.1; fill:none\" points=\"\n  193.936,87.9763 2352.76,87.9763 \n  \"/>\n<polyline clip-path=\"url(#clip840)\" style=\"stroke:#000000; stroke-linecap:butt; stroke-linejoin:round; stroke-width:4; stroke-opacity:1; fill:none\" points=\"\n  193.936,1486.45 193.936,47.2441 \n  \"/>\n<polyline clip-path=\"url(#clip840)\" style=\"stroke:#000000; stroke-linecap:butt; stroke-linejoin:round; stroke-width:4; stroke-opacity:1; fill:none\" points=\"\n  193.936,1445.72 212.834,1445.72 \n  \"/>\n<polyline clip-path=\"url(#clip840)\" style=\"stroke:#000000; stroke-linecap:butt; stroke-linejoin:round; stroke-width:4; stroke-opacity:1; fill:none\" points=\"\n  193.936,1106.28 212.834,1106.28 \n  \"/>\n<polyline clip-path=\"url(#clip840)\" style=\"stroke:#000000; stroke-linecap:butt; stroke-linejoin:round; stroke-width:4; stroke-opacity:1; fill:none\" points=\"\n  193.936,766.846 212.834,766.846 \n  \"/>\n<polyline clip-path=\"url(#clip840)\" style=\"stroke:#000000; stroke-linecap:butt; stroke-linejoin:round; stroke-width:4; stroke-opacity:1; fill:none\" points=\"\n  193.936,427.411 212.834,427.411 \n  \"/>\n<polyline clip-path=\"url(#clip840)\" style=\"stroke:#000000; stroke-linecap:butt; stroke-linejoin:round; stroke-width:4; stroke-opacity:1; fill:none\" points=\"\n  193.936,87.9763 212.834,87.9763 \n  \"/>\n<path clip-path=\"url(#clip840)\" d=\"M50.9921 1446.17 L80.6679 1446.17 L80.6679 1450.1 L50.9921 1450.1 L50.9921 1446.17 Z\" fill=\"#000000\" fill-rule=\"evenodd\" fill-opacity=\"1\" /><path clip-path=\"url(#clip840)\" d=\"M91.5706 1459.06 L99.2095 1459.06 L99.2095 1432.69 L90.8993 1434.36 L90.8993 1430.1 L99.1632 1428.44 L103.839 1428.44 L103.839 1459.06 L111.478 1459.06 L111.478 1463 L91.5706 1463 L91.5706 1459.06 Z\" fill=\"#000000\" fill-rule=\"evenodd\" fill-opacity=\"1\" /><path clip-path=\"url(#clip840)\" d=\"M120.922 1457.12 L125.807 1457.12 L125.807 1463 L120.922 1463 L120.922 1457.12 Z\" fill=\"#000000\" fill-rule=\"evenodd\" fill-opacity=\"1\" /><path clip-path=\"url(#clip840)\" d=\"M145.992 1431.51 Q142.381 1431.51 140.552 1435.08 Q138.746 1438.62 138.746 1445.75 Q138.746 1452.86 140.552 1456.42 Q142.381 1459.96 145.992 1459.96 Q149.626 1459.96 151.431 1456.42 Q153.26 1452.86 153.26 1445.75 Q153.26 1438.62 151.431 1435.08 Q149.626 1431.51 145.992 1431.51 M145.992 1427.81 Q151.802 1427.81 154.857 1432.42 Q157.936 1437 157.936 1445.75 Q157.936 1454.48 154.857 1459.08 Q151.802 1463.67 145.992 1463.67 Q140.181 1463.67 137.103 1459.08 Q134.047 1454.48 134.047 1445.75 Q134.047 1437 137.103 1432.42 Q140.181 1427.81 145.992 1427.81 Z\" fill=\"#000000\" fill-rule=\"evenodd\" fill-opacity=\"1\" /><path clip-path=\"url(#clip840)\" d=\"M51.9875 1106.73 L81.6633 1106.73 L81.6633 1110.67 L51.9875 1110.67 L51.9875 1106.73 Z\" fill=\"#000000\" fill-rule=\"evenodd\" fill-opacity=\"1\" /><path clip-path=\"url(#clip840)\" d=\"M101.756 1092.08 Q98.1447 1092.08 96.316 1095.64 Q94.5104 1099.19 94.5104 1106.32 Q94.5104 1113.42 96.316 1116.99 Q98.1447 1120.53 101.756 1120.53 Q105.39 1120.53 107.196 1116.99 Q109.024 1113.42 109.024 1106.32 Q109.024 1099.19 107.196 1095.64 Q105.39 1092.08 101.756 1092.08 M101.756 1088.38 Q107.566 1088.38 110.621 1092.98 Q113.7 1097.57 113.7 1106.32 Q113.7 1115.04 110.621 1119.65 Q107.566 1124.23 101.756 1124.23 Q95.9456 1124.23 92.8669 1119.65 Q89.8114 1115.04 89.8114 1106.32 Q89.8114 1097.57 92.8669 1092.98 Q95.9456 1088.38 101.756 1088.38 Z\" fill=\"#000000\" fill-rule=\"evenodd\" fill-opacity=\"1\" /><path clip-path=\"url(#clip840)\" d=\"M121.918 1117.68 L126.802 1117.68 L126.802 1123.56 L121.918 1123.56 L121.918 1117.68 Z\" fill=\"#000000\" fill-rule=\"evenodd\" fill-opacity=\"1\" /><path clip-path=\"url(#clip840)\" d=\"M137.033 1089 L155.39 1089 L155.39 1092.94 L141.316 1092.94 L141.316 1101.41 Q142.334 1101.06 143.353 1100.9 Q144.371 1100.71 145.39 1100.71 Q151.177 1100.71 154.556 1103.89 Q157.936 1107.06 157.936 1112.47 Q157.936 1118.05 154.464 1121.15 Q150.992 1124.23 144.672 1124.23 Q142.496 1124.23 140.228 1123.86 Q137.982 1123.49 135.575 1122.75 L135.575 1118.05 Q137.658 1119.19 139.881 1119.74 Q142.103 1120.3 144.58 1120.3 Q148.584 1120.3 150.922 1118.19 Q153.26 1116.08 153.26 1112.47 Q153.26 1108.86 150.922 1106.76 Q148.584 1104.65 144.58 1104.65 Q142.705 1104.65 140.83 1105.07 Q138.978 1105.48 137.033 1106.36 L137.033 1089 Z\" fill=\"#000000\" fill-rule=\"evenodd\" fill-opacity=\"1\" /><path clip-path=\"url(#clip840)\" d=\"M100.76 752.645 Q97.1493 752.645 95.3206 756.209 Q93.515 759.751 93.515 766.881 Q93.515 773.987 95.3206 777.552 Q97.1493 781.094 100.76 781.094 Q104.395 781.094 106.2 777.552 Q108.029 773.987 108.029 766.881 Q108.029 759.751 106.2 756.209 Q104.395 752.645 100.76 752.645 M100.76 748.941 Q106.571 748.941 109.626 753.547 Q112.705 758.131 112.705 766.881 Q112.705 775.608 109.626 780.214 Q106.571 784.797 100.76 784.797 Q94.9502 784.797 91.8715 780.214 Q88.816 775.608 88.816 766.881 Q88.816 758.131 91.8715 753.547 Q94.9502 748.941 100.76 748.941 Z\" fill=\"#000000\" fill-rule=\"evenodd\" fill-opacity=\"1\" /><path clip-path=\"url(#clip840)\" d=\"M120.922 778.246 L125.807 778.246 L125.807 784.126 L120.922 784.126 L120.922 778.246 Z\" fill=\"#000000\" fill-rule=\"evenodd\" fill-opacity=\"1\" /><path clip-path=\"url(#clip840)\" d=\"M145.992 752.645 Q142.381 752.645 140.552 756.209 Q138.746 759.751 138.746 766.881 Q138.746 773.987 140.552 777.552 Q142.381 781.094 145.992 781.094 Q149.626 781.094 151.431 777.552 Q153.26 773.987 153.26 766.881 Q153.26 759.751 151.431 756.209 Q149.626 752.645 145.992 752.645 M145.992 748.941 Q151.802 748.941 154.857 753.547 Q157.936 758.131 157.936 766.881 Q157.936 775.608 154.857 780.214 Q151.802 784.797 145.992 784.797 Q140.181 784.797 137.103 780.214 Q134.047 775.608 134.047 766.881 Q134.047 758.131 137.103 753.547 Q140.181 748.941 145.992 748.941 Z\" fill=\"#000000\" fill-rule=\"evenodd\" fill-opacity=\"1\" /><path clip-path=\"url(#clip840)\" d=\"M101.756 413.21 Q98.1447 413.21 96.316 416.775 Q94.5104 420.316 94.5104 427.446 Q94.5104 434.552 96.316 438.117 Q98.1447 441.659 101.756 441.659 Q105.39 441.659 107.196 438.117 Q109.024 434.552 109.024 427.446 Q109.024 420.316 107.196 416.775 Q105.39 413.21 101.756 413.21 M101.756 409.506 Q107.566 409.506 110.621 414.113 Q113.7 418.696 113.7 427.446 Q113.7 436.173 110.621 440.779 Q107.566 445.362 101.756 445.362 Q95.9456 445.362 92.8669 440.779 Q89.8114 436.173 89.8114 427.446 Q89.8114 418.696 92.8669 414.113 Q95.9456 409.506 101.756 409.506 Z\" fill=\"#000000\" fill-rule=\"evenodd\" fill-opacity=\"1\" /><path clip-path=\"url(#clip840)\" d=\"M121.918 438.812 L126.802 438.812 L126.802 444.691 L121.918 444.691 L121.918 438.812 Z\" fill=\"#000000\" fill-rule=\"evenodd\" fill-opacity=\"1\" /><path clip-path=\"url(#clip840)\" d=\"M137.033 410.131 L155.39 410.131 L155.39 414.066 L141.316 414.066 L141.316 422.538 Q142.334 422.191 143.353 422.029 Q144.371 421.844 145.39 421.844 Q151.177 421.844 154.556 425.015 Q157.936 428.187 157.936 433.603 Q157.936 439.182 154.464 442.284 Q150.992 445.362 144.672 445.362 Q142.496 445.362 140.228 444.992 Q137.982 444.622 135.575 443.881 L135.575 439.182 Q137.658 440.316 139.881 440.872 Q142.103 441.427 144.58 441.427 Q148.584 441.427 150.922 439.321 Q153.26 437.214 153.26 433.603 Q153.26 429.992 150.922 427.886 Q148.584 425.779 144.58 425.779 Q142.705 425.779 140.83 426.196 Q138.978 426.613 137.033 427.492 L137.033 410.131 Z\" fill=\"#000000\" fill-rule=\"evenodd\" fill-opacity=\"1\" /><path clip-path=\"url(#clip840)\" d=\"M91.5706 101.321 L99.2095 101.321 L99.2095 74.9555 L90.8993 76.6222 L90.8993 72.3629 L99.1632 70.6963 L103.839 70.6963 L103.839 101.321 L111.478 101.321 L111.478 105.256 L91.5706 105.256 L91.5706 101.321 Z\" fill=\"#000000\" fill-rule=\"evenodd\" fill-opacity=\"1\" /><path clip-path=\"url(#clip840)\" d=\"M120.922 99.3767 L125.807 99.3767 L125.807 105.256 L120.922 105.256 L120.922 99.3767 Z\" fill=\"#000000\" fill-rule=\"evenodd\" fill-opacity=\"1\" /><path clip-path=\"url(#clip840)\" d=\"M145.992 73.775 Q142.381 73.775 140.552 77.3398 Q138.746 80.8814 138.746 88.011 Q138.746 95.1174 140.552 98.6822 Q142.381 102.224 145.992 102.224 Q149.626 102.224 151.431 98.6822 Q153.26 95.1174 153.26 88.011 Q153.26 80.8814 151.431 77.3398 Q149.626 73.775 145.992 73.775 M145.992 70.0713 Q151.802 70.0713 154.857 74.6777 Q157.936 79.261 157.936 88.011 Q157.936 96.7378 154.857 101.344 Q151.802 105.928 145.992 105.928 Q140.181 105.928 137.103 101.344 Q134.047 96.7378 134.047 88.011 Q134.047 79.261 137.103 74.6777 Q140.181 70.0713 145.992 70.0713 Z\" fill=\"#000000\" fill-rule=\"evenodd\" fill-opacity=\"1\" /><polyline clip-path=\"url(#clip842)\" style=\"stroke:#009af9; stroke-linecap:butt; stroke-linejoin:round; stroke-width:4; stroke-opacity:1; fill:none\" points=\"\n  255.035,87.9763 260.692,88.0797 266.349,88.3898 272.007,88.9066 277.664,89.63 283.321,90.5596 288.978,91.6952 294.636,93.0365 300.293,94.583 305.95,96.3343 \n  311.608,98.2898 317.265,100.449 322.922,102.811 328.579,105.376 334.237,108.142 339.894,111.108 345.551,114.275 351.209,117.64 356.866,121.203 362.523,124.962 \n  368.18,128.917 373.838,133.067 379.495,137.409 385.152,141.943 390.81,146.668 396.467,151.581 402.124,156.682 407.781,161.969 413.439,167.44 419.096,173.093 \n  424.753,178.928 430.411,184.941 436.068,191.132 441.725,197.498 447.382,204.037 453.04,210.748 458.697,217.629 464.354,224.677 470.011,231.889 475.669,239.265 \n  481.326,246.802 486.983,254.497 492.641,262.347 498.298,270.352 503.955,278.508 509.612,286.813 515.27,295.263 520.927,303.858 526.584,312.593 532.242,321.467 \n  537.899,330.477 543.556,339.619 549.213,348.892 554.871,358.292 560.528,367.816 566.185,377.462 571.843,387.227 577.5,397.107 583.157,407.1 588.814,417.202 \n  594.472,427.411 600.129,437.723 605.786,448.136 611.444,458.646 617.101,469.249 622.758,479.943 628.415,490.725 634.073,501.59 639.73,512.537 645.387,523.561 \n  651.045,534.659 656.702,545.828 662.359,557.064 668.016,568.364 673.674,579.724 679.331,591.142 684.988,602.613 690.646,614.134 696.303,625.701 701.96,637.312 \n  707.617,648.961 713.275,660.647 718.932,672.366 724.589,684.113 730.247,695.885 735.904,707.679 741.561,719.49 747.218,731.317 752.876,743.154 758.533,754.998 \n  764.19,766.846 769.848,778.694 775.505,790.538 781.162,802.375 786.819,814.202 792.477,826.013 798.134,837.807 803.791,849.579 809.449,861.326 815.106,873.045 \n  820.763,884.73 826.42,896.38 832.078,907.991 837.735,919.558 843.392,931.079 849.05,942.55 854.707,953.968 860.364,965.328 866.021,976.628 871.679,987.864 \n  877.336,999.033 882.993,1010.13 888.651,1021.16 894.308,1032.1 899.965,1042.97 905.622,1053.75 911.28,1064.44 916.937,1075.05 922.594,1085.56 928.252,1095.97 \n  933.909,1106.28 939.566,1116.49 945.223,1126.59 950.881,1136.58 956.538,1146.47 962.195,1156.23 967.853,1165.88 973.51,1175.4 979.167,1184.8 984.824,1194.07 \n  990.482,1203.22 996.139,1212.22 1001.8,1221.1 1007.45,1229.83 1013.11,1238.43 1018.77,1246.88 1024.43,1255.18 1030.08,1263.34 1035.74,1271.34 1041.4,1279.2 \n  1047.05,1286.89 1052.71,1294.43 1058.37,1301.8 1064.03,1309.02 1069.68,1316.06 1075.34,1322.94 1081,1329.65 1086.66,1336.19 1092.31,1342.56 1097.97,1348.75 \n  1103.63,1354.76 1109.28,1360.6 1114.94,1366.25 1120.6,1371.72 1126.26,1377.01 1131.91,1382.11 1137.57,1387.02 1143.23,1391.75 1148.89,1396.28 1154.54,1400.63 \n  1160.2,1404.77 1165.86,1408.73 1171.51,1412.49 1177.17,1416.05 1182.83,1419.42 1188.49,1422.58 1194.14,1425.55 1199.8,1428.32 1205.46,1430.88 1211.12,1433.24 \n  1216.77,1435.4 1222.43,1437.36 1228.09,1439.11 1233.74,1440.66 1239.4,1442 1245.06,1443.13 1250.72,1444.06 1256.37,1444.79 1262.03,1445.3 1267.69,1445.61 \n  1273.35,1445.72 1279,1445.61 1284.66,1445.3 1290.32,1444.79 1295.98,1444.06 1301.63,1443.13 1307.29,1442 1312.95,1440.66 1318.6,1439.11 1324.26,1437.36 \n  1329.92,1435.4 1335.58,1433.24 1341.23,1430.88 1346.89,1428.32 1352.55,1425.55 1358.21,1422.58 1363.86,1419.42 1369.52,1416.05 1375.18,1412.49 1380.83,1408.73 \n  1386.49,1404.77 1392.15,1400.63 1397.81,1396.28 1403.46,1391.75 1409.12,1387.02 1414.78,1382.11 1420.44,1377.01 1426.09,1371.72 1431.75,1366.25 1437.41,1360.6 \n  1443.06,1354.76 1448.72,1348.75 1454.38,1342.56 1460.04,1336.19 1465.69,1329.65 1471.35,1322.94 1477.01,1316.06 1482.67,1309.02 1488.32,1301.8 1493.98,1294.43 \n  1499.64,1286.89 1505.29,1279.2 1510.95,1271.34 1516.61,1263.34 1522.27,1255.18 1527.92,1246.88 1533.58,1238.43 1539.24,1229.83 1544.9,1221.1 1550.55,1212.22 \n  1556.21,1203.22 1561.87,1194.07 1567.52,1184.8 1573.18,1175.4 1578.84,1165.88 1584.5,1156.23 1590.15,1146.47 1595.81,1136.58 1601.47,1126.59 1607.13,1116.49 \n  1612.78,1106.28 1618.44,1095.97 1624.1,1085.56 1629.75,1075.05 1635.41,1064.44 1641.07,1053.75 1646.73,1042.97 1652.38,1032.1 1658.04,1021.16 1663.7,1010.13 \n  1669.36,999.033 1675.01,987.864 1680.67,976.628 1686.33,965.328 1691.99,953.968 1697.64,942.55 1703.3,931.079 1708.96,919.558 1714.61,907.991 1720.27,896.38 \n  1725.93,884.73 1731.59,873.045 1737.24,861.326 1742.9,849.579 1748.56,837.807 1754.22,826.013 1759.87,814.202 1765.53,802.375 1771.19,790.538 1776.84,778.694 \n  1782.5,766.846 1788.16,754.998 1793.82,743.154 1799.47,731.317 1805.13,719.49 1810.79,707.679 1816.45,695.885 1822.1,684.113 1827.76,672.366 1833.42,660.647 \n  1839.07,648.961 1844.73,637.312 1850.39,625.701 1856.05,614.134 1861.7,602.613 1867.36,591.142 1873.02,579.724 1878.68,568.364 1884.33,557.064 1889.99,545.828 \n  1895.65,534.659 1901.3,523.561 1906.96,512.537 1912.62,501.59 1918.28,490.725 1923.93,479.943 1929.59,469.249 1935.25,458.646 1940.91,448.136 1946.56,437.723 \n  1952.22,427.411 1957.88,417.202 1963.53,407.1 1969.19,397.107 1974.85,387.227 1980.51,377.462 1986.16,367.816 1991.82,358.292 1997.48,348.892 2003.14,339.619 \n  2008.79,330.477 2014.45,321.467 2020.11,312.593 2025.76,303.858 2031.42,295.263 2037.08,286.813 2042.74,278.508 2048.39,270.352 2054.05,262.347 2059.71,254.497 \n  2065.37,246.802 2071.02,239.265 2076.68,231.889 2082.34,224.677 2087.99,217.629 2093.65,210.748 2099.31,204.037 2104.97,197.498 2110.62,191.132 2116.28,184.941 \n  2121.94,178.928 2127.6,173.093 2133.25,167.44 2138.91,161.969 2144.57,156.682 2150.23,151.581 2155.88,146.668 2161.54,141.943 2167.2,137.409 2172.85,133.067 \n  2178.51,128.917 2184.17,124.962 2189.83,121.203 2195.48,117.64 2201.14,114.275 2206.8,111.108 2212.46,108.142 2218.11,105.376 2223.77,102.811 2229.43,100.449 \n  2235.08,98.2898 2240.74,96.3343 2246.4,94.583 2252.06,93.0365 2257.71,91.6952 2263.37,90.5596 2269.03,89.63 2274.69,88.9066 2280.34,88.3898 2286,88.0797 \n  2291.66,87.9763 \n  \"/>\n</svg>\n"
               },
               "type": "node"
              }
             ],
             "instanceArgs": {
              "namespace": "html",
              "tag": "div"
             },
             "nodeType": "DOM",
             "props": {
              "className": "interact-flex-row interact-widget"
             },
             "type": "node"
            }
           }
          },
          "systemjs_options": null
         },
         "nodeType": "Scope",
         "props": {},
         "type": "node"
        }
       ],
       "instanceArgs": {
        "namespace": "html",
        "tag": "div"
       },
       "nodeType": "DOM",
       "props": {},
       "type": "node"
      },
      "text/html": [
       "<div\n",
       "    class=\"webio-mountpoint\"\n",
       "    data-webio-mountpoint=\"11214339251578990705\"\n",
       ">\n",
       "    <script>\n",
       "    (function(){\n",
       "    // Some integrations (namely, IJulia/Jupyter) use an alternate render pathway than\n",
       "    // just putting the html on the page. If WebIO isn't defined, then it's pretty likely\n",
       "    // that we're in one of those situations and the integration just isn't installed\n",
       "    // correctly.\n",
       "    if (typeof window.WebIO === \"undefined\") {\n",
       "        document\n",
       "            .querySelector('[data-webio-mountpoint=\"11214339251578990705\"]')\n",
       "            .innerHTML = (\n",
       "                '<div style=\"padding: 1em; background-color: #f8d6da; border: 1px solid #f5c6cb; font-weight: bold;\">' +\n",
       "                '<p><strong>WebIO not detected.</strong></p>' +\n",
       "                '<p>Please read ' +\n",
       "                '<a href=\"https://juliagizmos.github.io/WebIO.jl/latest/troubleshooting/not-detected/\" target=\"_blank\">the troubleshooting guide</a> ' +\n",
       "                'for more information on how to resolve this issue.</p>' +\n",
       "                '<p><a href=\"https://juliagizmos.github.io/WebIO.jl/latest/troubleshooting/not-detected/\" target=\"_blank\">https://juliagizmos.github.io/WebIO.jl/latest/troubleshooting/not-detected/</a></p>' +\n",
       "                '</div>'\n",
       "            );\n",
       "        return;\n",
       "    }\n",
       "    WebIO.mount(\n",
       "        document.querySelector('[data-webio-mountpoint=\"11214339251578990705\"]'),\n",
       "        {\"props\":{},\"nodeType\":\"DOM\",\"type\":\"node\",\"instanceArgs\":{\"namespace\":\"html\",\"tag\":\"div\"},\"children\":[{\"props\":{\"className\":\"field interact-widget\"},\"nodeType\":\"DOM\",\"type\":\"node\",\"instanceArgs\":{\"namespace\":\"html\",\"tag\":\"div\"},\"children\":[{\"props\":{},\"nodeType\":\"Scope\",\"type\":\"node\",\"instanceArgs\":{\"imports\":{\"data\":[{\"name\":\"knockout\",\"type\":\"js\",\"url\":\"\\/assetserver\\/b06b1d10f9a22ed58d41d733179ca1f7324f1691-knockout.js\"},{\"name\":\"knockout_punches\",\"type\":\"js\",\"url\":\"\\/assetserver\\/8b802bee336af6b9ad8d794ceaaab92b93e96af6-knockout_punches.js\"},{\"name\":null,\"type\":\"js\",\"url\":\"\\/assetserver\\/69fa1b1e372cfc111090896336dbb1a716187f6c-all.js\"},{\"name\":null,\"type\":\"css\",\"url\":\"\\/assetserver\\/fa4819bd9f6af153420bbb94b51c68520cecda0b-style.css\"},{\"name\":null,\"type\":\"css\",\"url\":\"\\/assetserver\\/2899be340498081a6535ce0ea18fe2d17b6e93b7-bulma_confined.min.css\"}],\"type\":\"async_block\"},\"id\":\"7022968363668310744\",\"handlers\":{\"changes\":[\"(function (val){return (val!=this.model[\\\"changes\\\"]()) ? (this.valueFromJulia[\\\"changes\\\"]=true, this.model[\\\"changes\\\"](val)) : undefined})\"],\"index\":[\"(function (val){return (val!=this.model[\\\"index\\\"]()) ? (this.valueFromJulia[\\\"index\\\"]=true, this.model[\\\"index\\\"](val)) : undefined})\"]},\"systemjs_options\":null,\"mount_callbacks\":[\"function () {\\n    var handler = (function (ko, koPunches) {\\n    ko.punches.enableAll();\\n    ko.bindingHandlers.numericValue = {\\n        init: function(element, valueAccessor, allBindings, data, context) {\\n            var stringified = ko.observable(ko.unwrap(valueAccessor()));\\n            stringified.subscribe(function(value) {\\n                var val = parseFloat(value);\\n                if (!isNaN(val)) {\\n                    valueAccessor()(val);\\n                }\\n            });\\n            valueAccessor().subscribe(function(value) {\\n                var str = JSON.stringify(value);\\n                if ((str == \\\"0\\\") && ([\\\"-0\\\", \\\"-0.\\\"].indexOf(stringified()) >= 0))\\n                     return;\\n                 if ([\\\"null\\\", \\\"\\\"].indexOf(str) >= 0)\\n                     return;\\n                stringified(str);\\n            });\\n            ko.applyBindingsToNode(\\n                element,\\n                {\\n                    value: stringified,\\n                    valueUpdate: allBindings.get('valueUpdate'),\\n                },\\n                context,\\n            );\\n        }\\n    };\\n    var json_data = {\\\"formatted_vals\\\":[\\\"0\\\",\\\"10\\\",\\\"20\\\",\\\"30\\\",\\\"40\\\",\\\"50\\\",\\\"60\\\",\\\"70\\\",\\\"80\\\",\\\"90\\\",\\\"100\\\",\\\"110\\\",\\\"120\\\",\\\"130\\\",\\\"140\\\",\\\"150\\\",\\\"160\\\",\\\"170\\\",\\\"180\\\"],\\\"changes\\\":WebIO.getval({\\\"name\\\":\\\"changes\\\",\\\"scope\\\":\\\"7022968363668310744\\\",\\\"id\\\":\\\"9491916090165757532\\\",\\\"type\\\":\\\"observable\\\"}),\\\"index\\\":WebIO.getval({\\\"name\\\":\\\"index\\\",\\\"scope\\\":\\\"7022968363668310744\\\",\\\"id\\\":\\\"4380652452879748752\\\",\\\"type\\\":\\\"observable\\\"})};\\n    var self = this;\\n    function AppViewModel() {\\n        for (var key in json_data) {\\n            var el = json_data[key];\\n            this[key] = Array.isArray(el) ? ko.observableArray(el) : ko.observable(el);\\n        }\\n        \\n        [this[\\\"formatted_val\\\"]=ko.computed(    function(){\\n        return this.formatted_vals()[parseInt(this.index())-(1)];\\n    }\\n,this)]\\n        [this[\\\"changes\\\"].subscribe((function (val){!(this.valueFromJulia[\\\"changes\\\"]) ? (WebIO.setval({\\\"name\\\":\\\"changes\\\",\\\"scope\\\":\\\"7022968363668310744\\\",\\\"id\\\":\\\"9491916090165757532\\\",\\\"type\\\":\\\"observable\\\"},val)) : undefined; return this.valueFromJulia[\\\"changes\\\"]=false}),self),this[\\\"index\\\"].subscribe((function (val){!(this.valueFromJulia[\\\"index\\\"]) ? (WebIO.setval({\\\"name\\\":\\\"index\\\",\\\"scope\\\":\\\"7022968363668310744\\\",\\\"id\\\":\\\"4380652452879748752\\\",\\\"type\\\":\\\"observable\\\"},val)) : undefined; return this.valueFromJulia[\\\"index\\\"]=false}),self)]\\n        \\n    }\\n    self.model = new AppViewModel();\\n    self.valueFromJulia = {};\\n    for (var key in json_data) {\\n        self.valueFromJulia[key] = false;\\n    }\\n    ko.applyBindings(self.model, self.dom);\\n}\\n);\\n    (WebIO.importBlock({\\\"data\\\":[{\\\"name\\\":\\\"knockout\\\",\\\"type\\\":\\\"js\\\",\\\"url\\\":\\\"\\/assetserver\\/b06b1d10f9a22ed58d41d733179ca1f7324f1691-knockout.js\\\"},{\\\"name\\\":\\\"knockout_punches\\\",\\\"type\\\":\\\"js\\\",\\\"url\\\":\\\"\\/assetserver\\/8b802bee336af6b9ad8d794ceaaab92b93e96af6-knockout_punches.js\\\"}],\\\"type\\\":\\\"async_block\\\"})).then((imports) => handler.apply(this, imports));\\n}\\n\"],\"observables\":{\"changes\":{\"sync\":false,\"id\":\"9491916090165757532\",\"value\":0},\"index\":{\"sync\":true,\"id\":\"4380652452879748752\",\"value\":10}}},\"children\":[{\"props\":{\"className\":\"interact-flex-row interact-widget\"},\"nodeType\":\"DOM\",\"type\":\"node\",\"instanceArgs\":{\"namespace\":\"html\",\"tag\":\"div\"},\"children\":[{\"props\":{\"className\":\"interact-flex-row-left\"},\"nodeType\":\"DOM\",\"type\":\"node\",\"instanceArgs\":{\"namespace\":\"html\",\"tag\":\"div\"},\"children\":[{\"props\":{\"className\":\"interact \",\"style\":{\"padding\":\"5px 10px 0px 10px\"}},\"nodeType\":\"DOM\",\"type\":\"node\",\"instanceArgs\":{\"namespace\":\"html\",\"tag\":\"label\"},\"children\":[\"Phase shift\"]}]},{\"props\":{\"className\":\"interact-flex-row-center\"},\"nodeType\":\"DOM\",\"type\":\"node\",\"instanceArgs\":{\"namespace\":\"html\",\"tag\":\"div\"},\"children\":[{\"props\":{\"max\":19,\"min\":1,\"attributes\":{\"type\":\"range\",\"data-bind\":\"numericValue: index, valueUpdate: 'input', event: {change: function (){this.changes(this.changes()+1)}}\",\"orient\":\"horizontal\"},\"step\":1,\"className\":\"slider slider is-fullwidth\",\"style\":{}},\"nodeType\":\"DOM\",\"type\":\"node\",\"instanceArgs\":{\"namespace\":\"html\",\"tag\":\"input\"},\"children\":[]}]},{\"props\":{\"className\":\"interact-flex-row-right\"},\"nodeType\":\"DOM\",\"type\":\"node\",\"instanceArgs\":{\"namespace\":\"html\",\"tag\":\"div\"},\"children\":[{\"props\":{\"attributes\":{\"data-bind\":\"text: formatted_val\"}},\"nodeType\":\"DOM\",\"type\":\"node\",\"instanceArgs\":{\"namespace\":\"html\",\"tag\":\"p\"},\"children\":[]}]}]}]}]},{\"props\":{},\"nodeType\":\"Scope\",\"type\":\"node\",\"instanceArgs\":{\"imports\":{\"data\":[],\"type\":\"async_block\"},\"id\":\"11875752914556893692\",\"handlers\":{},\"systemjs_options\":null,\"mount_callbacks\":[],\"observables\":{\"obs-node\":{\"sync\":false,\"id\":\"3156375970642245454\",\"value\":{\"props\":{\"className\":\"interact-flex-row interact-widget\"},\"nodeType\":\"DOM\",\"type\":\"node\",\"instanceArgs\":{\"namespace\":\"html\",\"tag\":\"div\"},\"children\":[{\"props\":{\"setInnerHtml\":\"<?xml version=\\\"1.0\\\" encoding=\\\"utf-8\\\"?>\\n<svg xmlns=\\\"http:\\/\\/www.w3.org\\/2000\\/svg\\\" xmlns:xlink=\\\"http:\\/\\/www.w3.org\\/1999\\/xlink\\\" width=\\\"600\\\" height=\\\"400\\\" viewBox=\\\"0 0 2400 1600\\\">\\n<defs>\\n  <clipPath id=\\\"clip800\\\">\\n    <rect x=\\\"0\\\" y=\\\"0\\\" width=\\\"2400\\\" height=\\\"1600\\\"\\/>\\n  <\\/clipPath>\\n<\\/defs>\\n<path clip-path=\\\"url(#clip800)\\\" d=\\\"\\nM0 1600 L2400 1600 L2400 0 L0 0  Z\\n  \\\" fill=\\\"#ffffff\\\" fill-rule=\\\"evenodd\\\" fill-opacity=\\\"1\\\"\\/>\\n<defs>\\n  <clipPath id=\\\"clip801\\\">\\n    <rect x=\\\"480\\\" y=\\\"0\\\" width=\\\"1681\\\" height=\\\"1600\\\"\\/>\\n  <\\/clipPath>\\n<\\/defs>\\n<path clip-path=\\\"url(#clip800)\\\" d=\\\"\\nM193.936 1486.45 L2352.76 1486.45 L2352.76 47.2441 L193.936 47.2441  Z\\n  \\\" fill=\\\"#ffffff\\\" fill-rule=\\\"evenodd\\\" fill-opacity=\\\"1\\\"\\/>\\n<defs>\\n  <clipPath id=\\\"clip802\\\">\\n    <rect x=\\\"193\\\" y=\\\"47\\\" width=\\\"2160\\\" height=\\\"1440\\\"\\/>\\n  <\\/clipPath>\\n<\\/defs>\\n<polyline clip-path=\\\"url(#clip802)\\\" style=\\\"stroke:#000000; stroke-linecap:butt; stroke-linejoin:round; stroke-width:2; stroke-opacity:0.1; fill:none\\\" points=\\\"\\n  255.035,1486.45 255.035,47.2441 \\n  \\\"\\/>\\n<polyline clip-path=\\\"url(#clip802)\\\" style=\\\"stroke:#000000; stroke-linecap:butt; stroke-linejoin:round; stroke-width:2; stroke-opacity:0.1; fill:none\\\" points=\\\"\\n  820.763,1486.45 820.763,47.2441 \\n  \\\"\\/>\\n<polyline clip-path=\\\"url(#clip802)\\\" style=\\\"stroke:#000000; stroke-linecap:butt; stroke-linejoin:round; stroke-width:2; stroke-opacity:0.1; fill:none\\\" points=\\\"\\n  1386.49,1486.45 1386.49,47.2441 \\n  \\\"\\/>\\n<polyline clip-path=\\\"url(#clip802)\\\" style=\\\"stroke:#000000; stroke-linecap:butt; stroke-linejoin:round; stroke-width:2; stroke-opacity:0.1; fill:none\\\" points=\\\"\\n  1952.22,1486.45 1952.22,47.2441 \\n  \\\"\\/>\\n<polyline clip-path=\\\"url(#clip800)\\\" style=\\\"stroke:#000000; stroke-linecap:butt; stroke-linejoin:round; stroke-width:4; stroke-opacity:1; fill:none\\\" points=\\\"\\n  193.936,1486.45 2352.76,1486.45 \\n  \\\"\\/>\\n<polyline clip-path=\\\"url(#clip800)\\\" style=\\\"stroke:#000000; stroke-linecap:butt; stroke-linejoin:round; stroke-width:4; stroke-opacity:1; fill:none\\\" points=\\\"\\n  255.035,1486.45 255.035,1467.55 \\n  \\\"\\/>\\n<polyline clip-path=\\\"url(#clip800)\\\" style=\\\"stroke:#000000; stroke-linecap:butt; stroke-linejoin:round; stroke-width:4; stroke-opacity:1; fill:none\\\" points=\\\"\\n  820.763,1486.45 820.763,1467.55 \\n  \\\"\\/>\\n<polyline clip-path=\\\"url(#clip800)\\\" style=\\\"stroke:#000000; stroke-linecap:butt; stroke-linejoin:round; stroke-width:4; stroke-opacity:1; fill:none\\\" points=\\\"\\n  1386.49,1486.45 1386.49,1467.55 \\n  \\\"\\/>\\n<polyline clip-path=\\\"url(#clip800)\\\" style=\\\"stroke:#000000; stroke-linecap:butt; stroke-linejoin:round; stroke-width:4; stroke-opacity:1; fill:none\\\" points=\\\"\\n  1952.22,1486.45 1952.22,1467.55 \\n  \\\"\\/>\\n<path clip-path=\\\"url(#clip800)\\\" d=\\\"M255.035 1517.37 Q251.424 1517.37 249.595 1520.93 Q247.789 1524.47 247.789 1531.6 Q247.789 1538.71 249.595 1542.27 Q251.424 1545.82 255.035 1545.82 Q258.669 1545.82 260.474 1542.27 Q262.303 1538.71 262.303 1531.6 Q262.303 1524.47 260.474 1520.93 Q258.669 1517.37 255.035 1517.37 M255.035 1513.66 Q260.845 1513.66 263.9 1518.27 Q266.979 1522.85 266.979 1531.6 Q266.979 1540.33 263.9 1544.94 Q260.845 1549.52 255.035 1549.52 Q249.225 1549.52 246.146 1544.94 Q243.09 1540.33 243.09 1531.6 Q243.09 1522.85 246.146 1518.27 Q249.225 1513.66 255.035 1513.66 Z\\\" fill=\\\"#000000\\\" fill-rule=\\\"evenodd\\\" fill-opacity=\\\"1\\\" \\/><path clip-path=\\\"url(#clip800)\\\" d=\\\"M780.37 1544.91 L788.009 1544.91 L788.009 1518.55 L779.699 1520.21 L779.699 1515.95 L787.962 1514.29 L792.638 1514.29 L792.638 1544.91 L800.277 1544.91 L800.277 1548.85 L780.37 1548.85 L780.37 1544.91 Z\\\" fill=\\\"#000000\\\" fill-rule=\\\"evenodd\\\" fill-opacity=\\\"1\\\" \\/><path clip-path=\\\"url(#clip800)\\\" d=\\\"M819.722 1517.37 Q816.11 1517.37 814.282 1520.93 Q812.476 1524.47 812.476 1531.6 Q812.476 1538.71 814.282 1542.27 Q816.11 1545.82 819.722 1545.82 Q823.356 1545.82 825.161 1542.27 Q826.99 1538.71 826.99 1531.6 Q826.99 1524.47 825.161 1520.93 Q823.356 1517.37 819.722 1517.37 M819.722 1513.66 Q825.532 1513.66 828.587 1518.27 Q831.666 1522.85 831.666 1531.6 Q831.666 1540.33 828.587 1544.94 Q825.532 1549.52 819.722 1549.52 Q813.911 1549.52 810.833 1544.94 Q807.777 1540.33 807.777 1531.6 Q807.777 1522.85 810.833 1518.27 Q813.911 1513.66 819.722 1513.66 Z\\\" fill=\\\"#000000\\\" fill-rule=\\\"evenodd\\\" fill-opacity=\\\"1\\\" \\/><path clip-path=\\\"url(#clip800)\\\" d=\\\"M849.883 1517.37 Q846.272 1517.37 844.444 1520.93 Q842.638 1524.47 842.638 1531.6 Q842.638 1538.71 844.444 1542.27 Q846.272 1545.82 849.883 1545.82 Q853.518 1545.82 855.323 1542.27 Q857.152 1538.71 857.152 1531.6 Q857.152 1524.47 855.323 1520.93 Q853.518 1517.37 849.883 1517.37 M849.883 1513.66 Q855.694 1513.66 858.749 1518.27 Q861.828 1522.85 861.828 1531.6 Q861.828 1540.33 858.749 1544.94 Q855.694 1549.52 849.883 1549.52 Q844.073 1549.52 840.995 1544.94 Q837.939 1540.33 837.939 1531.6 Q837.939 1522.85 840.995 1518.27 Q844.073 1513.66 849.883 1513.66 Z\\\" fill=\\\"#000000\\\" fill-rule=\\\"evenodd\\\" fill-opacity=\\\"1\\\" \\/><path clip-path=\\\"url(#clip800)\\\" d=\\\"M1350.18 1544.91 L1366.5 1544.91 L1366.5 1548.85 L1344.56 1548.85 L1344.56 1544.91 Q1347.22 1542.16 1351.8 1537.53 Q1356.41 1532.88 1357.59 1531.53 Q1359.84 1529.01 1360.72 1527.27 Q1361.62 1525.51 1361.62 1523.82 Q1361.62 1521.07 1359.67 1519.33 Q1357.75 1517.6 1354.65 1517.6 Q1352.45 1517.6 1350 1518.36 Q1347.57 1519.13 1344.79 1520.68 L1344.79 1515.95 Q1347.61 1514.82 1350.07 1514.24 Q1352.52 1513.66 1354.56 1513.66 Q1359.93 1513.66 1363.12 1516.35 Q1366.32 1519.03 1366.32 1523.52 Q1366.32 1525.65 1365.51 1527.57 Q1364.72 1529.47 1362.61 1532.07 Q1362.04 1532.74 1358.93 1535.95 Q1355.83 1539.15 1350.18 1544.91 Z\\\" fill=\\\"#000000\\\" fill-rule=\\\"evenodd\\\" fill-opacity=\\\"1\\\" \\/><path clip-path=\\\"url(#clip800)\\\" d=\\\"M1386.32 1517.37 Q1382.71 1517.37 1380.88 1520.93 Q1379.07 1524.47 1379.07 1531.6 Q1379.07 1538.71 1380.88 1542.27 Q1382.71 1545.82 1386.32 1545.82 Q1389.95 1545.82 1391.76 1542.27 Q1393.59 1538.71 1393.59 1531.6 Q1393.59 1524.47 1391.76 1520.93 Q1389.95 1517.37 1386.32 1517.37 M1386.32 1513.66 Q1392.13 1513.66 1395.18 1518.27 Q1398.26 1522.85 1398.26 1531.6 Q1398.26 1540.33 1395.18 1544.94 Q1392.13 1549.52 1386.32 1549.52 Q1380.51 1549.52 1377.43 1544.94 Q1374.37 1540.33 1374.37 1531.6 Q1374.37 1522.85 1377.43 1518.27 Q1380.51 1513.66 1386.32 1513.66 Z\\\" fill=\\\"#000000\\\" fill-rule=\\\"evenodd\\\" fill-opacity=\\\"1\\\" \\/><path clip-path=\\\"url(#clip800)\\\" d=\\\"M1416.48 1517.37 Q1412.87 1517.37 1411.04 1520.93 Q1409.23 1524.47 1409.23 1531.6 Q1409.23 1538.71 1411.04 1542.27 Q1412.87 1545.82 1416.48 1545.82 Q1420.11 1545.82 1421.92 1542.27 Q1423.75 1538.71 1423.75 1531.6 Q1423.75 1524.47 1421.92 1520.93 Q1420.11 1517.37 1416.48 1517.37 M1416.48 1513.66 Q1422.29 1513.66 1425.35 1518.27 Q1428.42 1522.85 1428.42 1531.6 Q1428.42 1540.33 1425.35 1544.94 Q1422.29 1549.52 1416.48 1549.52 Q1410.67 1549.52 1407.59 1544.94 Q1404.54 1540.33 1404.54 1531.6 Q1404.54 1522.85 1407.59 1518.27 Q1410.67 1513.66 1416.48 1513.66 Z\\\" fill=\\\"#000000\\\" fill-rule=\\\"evenodd\\\" fill-opacity=\\\"1\\\" \\/><path clip-path=\\\"url(#clip800)\\\" d=\\\"M1925.98 1530.21 Q1929.34 1530.93 1931.21 1533.2 Q1933.11 1535.47 1933.11 1538.8 Q1933.11 1543.92 1929.59 1546.72 Q1926.07 1549.52 1919.59 1549.52 Q1917.42 1549.52 1915.1 1549.08 Q1912.81 1548.66 1910.36 1547.81 L1910.36 1543.29 Q1912.3 1544.43 1914.62 1545.01 Q1916.93 1545.58 1919.45 1545.58 Q1923.85 1545.58 1926.14 1543.85 Q1928.46 1542.11 1928.46 1538.8 Q1928.46 1535.75 1926.31 1534.03 Q1924.18 1532.3 1920.36 1532.3 L1916.33 1532.3 L1916.33 1528.45 L1920.54 1528.45 Q1923.99 1528.45 1925.82 1527.09 Q1927.65 1525.7 1927.65 1523.11 Q1927.65 1520.45 1925.75 1519.03 Q1923.88 1517.6 1920.36 1517.6 Q1918.44 1517.6 1916.24 1518.01 Q1914.04 1518.43 1911.4 1519.31 L1911.4 1515.14 Q1914.06 1514.4 1916.38 1514.03 Q1918.71 1513.66 1920.77 1513.66 Q1926.1 1513.66 1929.2 1516.09 Q1932.3 1518.5 1932.3 1522.62 Q1932.3 1525.49 1930.66 1527.48 Q1929.01 1529.45 1925.98 1530.21 Z\\\" fill=\\\"#000000\\\" fill-rule=\\\"evenodd\\\" fill-opacity=\\\"1\\\" \\/><path clip-path=\\\"url(#clip800)\\\" d=\\\"M1951.98 1517.37 Q1948.37 1517.37 1946.54 1520.93 Q1944.73 1524.47 1944.73 1531.6 Q1944.73 1538.71 1946.54 1542.27 Q1948.37 1545.82 1951.98 1545.82 Q1955.61 1545.82 1957.42 1542.27 Q1959.25 1538.71 1959.25 1531.6 Q1959.25 1524.47 1957.42 1520.93 Q1955.61 1517.37 1951.98 1517.37 M1951.98 1513.66 Q1957.79 1513.66 1960.84 1518.27 Q1963.92 1522.85 1963.92 1531.6 Q1963.92 1540.33 1960.84 1544.94 Q1957.79 1549.52 1951.98 1549.52 Q1946.17 1549.52 1943.09 1544.94 Q1940.03 1540.33 1940.03 1531.6 Q1940.03 1522.85 1943.09 1518.27 Q1946.17 1513.66 1951.98 1513.66 Z\\\" fill=\\\"#000000\\\" fill-rule=\\\"evenodd\\\" fill-opacity=\\\"1\\\" \\/><path clip-path=\\\"url(#clip800)\\\" d=\\\"M1982.14 1517.37 Q1978.53 1517.37 1976.7 1520.93 Q1974.89 1524.47 1974.89 1531.6 Q1974.89 1538.71 1976.7 1542.27 Q1978.53 1545.82 1982.14 1545.82 Q1985.77 1545.82 1987.58 1542.27 Q1989.41 1538.71 1989.41 1531.6 Q1989.41 1524.47 1987.58 1520.93 Q1985.77 1517.37 1982.14 1517.37 M1982.14 1513.66 Q1987.95 1513.66 1991 1518.27 Q1994.08 1522.85 1994.08 1531.6 Q1994.08 1540.33 1991 1544.94 Q1987.95 1549.52 1982.14 1549.52 Q1976.33 1549.52 1973.25 1544.94 Q1970.19 1540.33 1970.19 1531.6 Q1970.19 1522.85 1973.25 1518.27 Q1976.33 1513.66 1982.14 1513.66 Z\\\" fill=\\\"#000000\\\" fill-rule=\\\"evenodd\\\" fill-opacity=\\\"1\\\" \\/><polyline clip-path=\\\"url(#clip802)\\\" style=\\\"stroke:#000000; stroke-linecap:butt; stroke-linejoin:round; stroke-width:2; stroke-opacity:0.1; fill:none\\\" points=\\\"\\n  193.936,1445.72 2352.76,1445.72 \\n  \\\"\\/>\\n<polyline clip-path=\\\"url(#clip802)\\\" style=\\\"stroke:#000000; stroke-linecap:butt; stroke-linejoin:round; stroke-width:2; stroke-opacity:0.1; fill:none\\\" points=\\\"\\n  193.936,1106.28 2352.76,1106.28 \\n  \\\"\\/>\\n<polyline clip-path=\\\"url(#clip802)\\\" style=\\\"stroke:#000000; stroke-linecap:butt; stroke-linejoin:round; stroke-width:2; stroke-opacity:0.1; fill:none\\\" points=\\\"\\n  193.936,766.846 2352.76,766.846 \\n  \\\"\\/>\\n<polyline clip-path=\\\"url(#clip802)\\\" style=\\\"stroke:#000000; stroke-linecap:butt; stroke-linejoin:round; stroke-width:2; stroke-opacity:0.1; fill:none\\\" points=\\\"\\n  193.936,427.411 2352.76,427.411 \\n  \\\"\\/>\\n<polyline clip-path=\\\"url(#clip802)\\\" style=\\\"stroke:#000000; stroke-linecap:butt; stroke-linejoin:round; stroke-width:2; stroke-opacity:0.1; fill:none\\\" points=\\\"\\n  193.936,87.9763 2352.76,87.9763 \\n  \\\"\\/>\\n<polyline clip-path=\\\"url(#clip800)\\\" style=\\\"stroke:#000000; stroke-linecap:butt; stroke-linejoin:round; stroke-width:4; stroke-opacity:1; fill:none\\\" points=\\\"\\n  193.936,1486.45 193.936,47.2441 \\n  \\\"\\/>\\n<polyline clip-path=\\\"url(#clip800)\\\" style=\\\"stroke:#000000; stroke-linecap:butt; stroke-linejoin:round; stroke-width:4; stroke-opacity:1; fill:none\\\" points=\\\"\\n  193.936,1445.72 212.834,1445.72 \\n  \\\"\\/>\\n<polyline clip-path=\\\"url(#clip800)\\\" style=\\\"stroke:#000000; stroke-linecap:butt; stroke-linejoin:round; stroke-width:4; stroke-opacity:1; fill:none\\\" points=\\\"\\n  193.936,1106.28 212.834,1106.28 \\n  \\\"\\/>\\n<polyline clip-path=\\\"url(#clip800)\\\" style=\\\"stroke:#000000; stroke-linecap:butt; stroke-linejoin:round; stroke-width:4; stroke-opacity:1; fill:none\\\" points=\\\"\\n  193.936,766.846 212.834,766.846 \\n  \\\"\\/>\\n<polyline clip-path=\\\"url(#clip800)\\\" style=\\\"stroke:#000000; stroke-linecap:butt; stroke-linejoin:round; stroke-width:4; stroke-opacity:1; fill:none\\\" points=\\\"\\n  193.936,427.411 212.834,427.411 \\n  \\\"\\/>\\n<polyline clip-path=\\\"url(#clip800)\\\" style=\\\"stroke:#000000; stroke-linecap:butt; stroke-linejoin:round; stroke-width:4; stroke-opacity:1; fill:none\\\" points=\\\"\\n  193.936,87.9763 212.834,87.9763 \\n  \\\"\\/>\\n<path clip-path=\\\"url(#clip800)\\\" d=\\\"M50.9921 1446.17 L80.6679 1446.17 L80.6679 1450.1 L50.9921 1450.1 L50.9921 1446.17 Z\\\" fill=\\\"#000000\\\" fill-rule=\\\"evenodd\\\" fill-opacity=\\\"1\\\" \\/><path clip-path=\\\"url(#clip800)\\\" d=\\\"M91.5706 1459.06 L99.2095 1459.06 L99.2095 1432.69 L90.8993 1434.36 L90.8993 1430.1 L99.1632 1428.44 L103.839 1428.44 L103.839 1459.06 L111.478 1459.06 L111.478 1463 L91.5706 1463 L91.5706 1459.06 Z\\\" fill=\\\"#000000\\\" fill-rule=\\\"evenodd\\\" fill-opacity=\\\"1\\\" \\/><path clip-path=\\\"url(#clip800)\\\" d=\\\"M120.922 1457.12 L125.807 1457.12 L125.807 1463 L120.922 1463 L120.922 1457.12 Z\\\" fill=\\\"#000000\\\" fill-rule=\\\"evenodd\\\" fill-opacity=\\\"1\\\" \\/><path clip-path=\\\"url(#clip800)\\\" d=\\\"M145.992 1431.51 Q142.381 1431.51 140.552 1435.08 Q138.746 1438.62 138.746 1445.75 Q138.746 1452.86 140.552 1456.42 Q142.381 1459.96 145.992 1459.96 Q149.626 1459.96 151.431 1456.42 Q153.26 1452.86 153.26 1445.75 Q153.26 1438.62 151.431 1435.08 Q149.626 1431.51 145.992 1431.51 M145.992 1427.81 Q151.802 1427.81 154.857 1432.42 Q157.936 1437 157.936 1445.75 Q157.936 1454.48 154.857 1459.08 Q151.802 1463.67 145.992 1463.67 Q140.181 1463.67 137.103 1459.08 Q134.047 1454.48 134.047 1445.75 Q134.047 1437 137.103 1432.42 Q140.181 1427.81 145.992 1427.81 Z\\\" fill=\\\"#000000\\\" fill-rule=\\\"evenodd\\\" fill-opacity=\\\"1\\\" \\/><path clip-path=\\\"url(#clip800)\\\" d=\\\"M51.9875 1106.73 L81.6633 1106.73 L81.6633 1110.67 L51.9875 1110.67 L51.9875 1106.73 Z\\\" fill=\\\"#000000\\\" fill-rule=\\\"evenodd\\\" fill-opacity=\\\"1\\\" \\/><path clip-path=\\\"url(#clip800)\\\" d=\\\"M101.756 1092.08 Q98.1447 1092.08 96.316 1095.64 Q94.5104 1099.19 94.5104 1106.32 Q94.5104 1113.42 96.316 1116.99 Q98.1447 1120.53 101.756 1120.53 Q105.39 1120.53 107.196 1116.99 Q109.024 1113.42 109.024 1106.32 Q109.024 1099.19 107.196 1095.64 Q105.39 1092.08 101.756 1092.08 M101.756 1088.38 Q107.566 1088.38 110.621 1092.98 Q113.7 1097.57 113.7 1106.32 Q113.7 1115.04 110.621 1119.65 Q107.566 1124.23 101.756 1124.23 Q95.9456 1124.23 92.8669 1119.65 Q89.8114 1115.04 89.8114 1106.32 Q89.8114 1097.57 92.8669 1092.98 Q95.9456 1088.38 101.756 1088.38 Z\\\" fill=\\\"#000000\\\" fill-rule=\\\"evenodd\\\" fill-opacity=\\\"1\\\" \\/><path clip-path=\\\"url(#clip800)\\\" d=\\\"M121.918 1117.68 L126.802 1117.68 L126.802 1123.56 L121.918 1123.56 L121.918 1117.68 Z\\\" fill=\\\"#000000\\\" fill-rule=\\\"evenodd\\\" fill-opacity=\\\"1\\\" \\/><path clip-path=\\\"url(#clip800)\\\" d=\\\"M137.033 1089 L155.39 1089 L155.39 1092.94 L141.316 1092.94 L141.316 1101.41 Q142.334 1101.06 143.353 1100.9 Q144.371 1100.71 145.39 1100.71 Q151.177 1100.71 154.556 1103.89 Q157.936 1107.06 157.936 1112.47 Q157.936 1118.05 154.464 1121.15 Q150.992 1124.23 144.672 1124.23 Q142.496 1124.23 140.228 1123.86 Q137.982 1123.49 135.575 1122.75 L135.575 1118.05 Q137.658 1119.19 139.881 1119.74 Q142.103 1120.3 144.58 1120.3 Q148.584 1120.3 150.922 1118.19 Q153.26 1116.08 153.26 1112.47 Q153.26 1108.86 150.922 1106.76 Q148.584 1104.65 144.58 1104.65 Q142.705 1104.65 140.83 1105.07 Q138.978 1105.48 137.033 1106.36 L137.033 1089 Z\\\" fill=\\\"#000000\\\" fill-rule=\\\"evenodd\\\" fill-opacity=\\\"1\\\" \\/><path clip-path=\\\"url(#clip800)\\\" d=\\\"M100.76 752.645 Q97.1493 752.645 95.3206 756.209 Q93.515 759.751 93.515 766.881 Q93.515 773.987 95.3206 777.552 Q97.1493 781.094 100.76 781.094 Q104.395 781.094 106.2 777.552 Q108.029 773.987 108.029 766.881 Q108.029 759.751 106.2 756.209 Q104.395 752.645 100.76 752.645 M100.76 748.941 Q106.571 748.941 109.626 753.547 Q112.705 758.131 112.705 766.881 Q112.705 775.608 109.626 780.214 Q106.571 784.797 100.76 784.797 Q94.9502 784.797 91.8715 780.214 Q88.816 775.608 88.816 766.881 Q88.816 758.131 91.8715 753.547 Q94.9502 748.941 100.76 748.941 Z\\\" fill=\\\"#000000\\\" fill-rule=\\\"evenodd\\\" fill-opacity=\\\"1\\\" \\/><path clip-path=\\\"url(#clip800)\\\" d=\\\"M120.922 778.246 L125.807 778.246 L125.807 784.126 L120.922 784.126 L120.922 778.246 Z\\\" fill=\\\"#000000\\\" fill-rule=\\\"evenodd\\\" fill-opacity=\\\"1\\\" \\/><path clip-path=\\\"url(#clip800)\\\" d=\\\"M145.992 752.645 Q142.381 752.645 140.552 756.209 Q138.746 759.751 138.746 766.881 Q138.746 773.987 140.552 777.552 Q142.381 781.094 145.992 781.094 Q149.626 781.094 151.431 777.552 Q153.26 773.987 153.26 766.881 Q153.26 759.751 151.431 756.209 Q149.626 752.645 145.992 752.645 M145.992 748.941 Q151.802 748.941 154.857 753.547 Q157.936 758.131 157.936 766.881 Q157.936 775.608 154.857 780.214 Q151.802 784.797 145.992 784.797 Q140.181 784.797 137.103 780.214 Q134.047 775.608 134.047 766.881 Q134.047 758.131 137.103 753.547 Q140.181 748.941 145.992 748.941 Z\\\" fill=\\\"#000000\\\" fill-rule=\\\"evenodd\\\" fill-opacity=\\\"1\\\" \\/><path clip-path=\\\"url(#clip800)\\\" d=\\\"M101.756 413.21 Q98.1447 413.21 96.316 416.775 Q94.5104 420.316 94.5104 427.446 Q94.5104 434.552 96.316 438.117 Q98.1447 441.659 101.756 441.659 Q105.39 441.659 107.196 438.117 Q109.024 434.552 109.024 427.446 Q109.024 420.316 107.196 416.775 Q105.39 413.21 101.756 413.21 M101.756 409.506 Q107.566 409.506 110.621 414.113 Q113.7 418.696 113.7 427.446 Q113.7 436.173 110.621 440.779 Q107.566 445.362 101.756 445.362 Q95.9456 445.362 92.8669 440.779 Q89.8114 436.173 89.8114 427.446 Q89.8114 418.696 92.8669 414.113 Q95.9456 409.506 101.756 409.506 Z\\\" fill=\\\"#000000\\\" fill-rule=\\\"evenodd\\\" fill-opacity=\\\"1\\\" \\/><path clip-path=\\\"url(#clip800)\\\" d=\\\"M121.918 438.812 L126.802 438.812 L126.802 444.691 L121.918 444.691 L121.918 438.812 Z\\\" fill=\\\"#000000\\\" fill-rule=\\\"evenodd\\\" fill-opacity=\\\"1\\\" \\/><path clip-path=\\\"url(#clip800)\\\" d=\\\"M137.033 410.131 L155.39 410.131 L155.39 414.066 L141.316 414.066 L141.316 422.538 Q142.334 422.191 143.353 422.029 Q144.371 421.844 145.39 421.844 Q151.177 421.844 154.556 425.015 Q157.936 428.187 157.936 433.603 Q157.936 439.182 154.464 442.284 Q150.992 445.362 144.672 445.362 Q142.496 445.362 140.228 444.992 Q137.982 444.622 135.575 443.881 L135.575 439.182 Q137.658 440.316 139.881 440.872 Q142.103 441.427 144.58 441.427 Q148.584 441.427 150.922 439.321 Q153.26 437.214 153.26 433.603 Q153.26 429.992 150.922 427.886 Q148.584 425.779 144.58 425.779 Q142.705 425.779 140.83 426.196 Q138.978 426.613 137.033 427.492 L137.033 410.131 Z\\\" fill=\\\"#000000\\\" fill-rule=\\\"evenodd\\\" fill-opacity=\\\"1\\\" \\/><path clip-path=\\\"url(#clip800)\\\" d=\\\"M91.5706 101.321 L99.2095 101.321 L99.2095 74.9555 L90.8993 76.6222 L90.8993 72.3629 L99.1632 70.6963 L103.839 70.6963 L103.839 101.321 L111.478 101.321 L111.478 105.256 L91.5706 105.256 L91.5706 101.321 Z\\\" fill=\\\"#000000\\\" fill-rule=\\\"evenodd\\\" fill-opacity=\\\"1\\\" \\/><path clip-path=\\\"url(#clip800)\\\" d=\\\"M120.922 99.3767 L125.807 99.3767 L125.807 105.256 L120.922 105.256 L120.922 99.3767 Z\\\" fill=\\\"#000000\\\" fill-rule=\\\"evenodd\\\" fill-opacity=\\\"1\\\" \\/><path clip-path=\\\"url(#clip800)\\\" d=\\\"M145.992 73.775 Q142.381 73.775 140.552 77.3398 Q138.746 80.8814 138.746 88.011 Q138.746 95.1174 140.552 98.6822 Q142.381 102.224 145.992 102.224 Q149.626 102.224 151.431 98.6822 Q153.26 95.1174 153.26 88.011 Q153.26 80.8814 151.431 77.3398 Q149.626 73.775 145.992 73.775 M145.992 70.0713 Q151.802 70.0713 154.857 74.6777 Q157.936 79.261 157.936 88.011 Q157.936 96.7378 154.857 101.344 Q151.802 105.928 145.992 105.928 Q140.181 105.928 137.103 101.344 Q134.047 96.7378 134.047 88.011 Q134.047 79.261 137.103 74.6777 Q140.181 70.0713 145.992 70.0713 Z\\\" fill=\\\"#000000\\\" fill-rule=\\\"evenodd\\\" fill-opacity=\\\"1\\\" \\/><polyline clip-path=\\\"url(#clip802)\\\" style=\\\"stroke:#009af9; stroke-linecap:butt; stroke-linejoin:round; stroke-width:4; stroke-opacity:1; fill:none\\\" points=\\\"\\n  255.035,87.9763 260.692,88.0797 266.349,88.3898 272.007,88.9066 277.664,89.63 283.321,90.5596 288.978,91.6952 294.636,93.0365 300.293,94.583 305.95,96.3343 \\n  311.608,98.2898 317.265,100.449 322.922,102.811 328.579,105.376 334.237,108.142 339.894,111.108 345.551,114.275 351.209,117.64 356.866,121.203 362.523,124.962 \\n  368.18,128.917 373.838,133.067 379.495,137.409 385.152,141.943 390.81,146.668 396.467,151.581 402.124,156.682 407.781,161.969 413.439,167.44 419.096,173.093 \\n  424.753,178.928 430.411,184.941 436.068,191.132 441.725,197.498 447.382,204.037 453.04,210.748 458.697,217.629 464.354,224.677 470.011,231.889 475.669,239.265 \\n  481.326,246.802 486.983,254.497 492.641,262.347 498.298,270.352 503.955,278.508 509.612,286.813 515.27,295.263 520.927,303.858 526.584,312.593 532.242,321.467 \\n  537.899,330.477 543.556,339.619 549.213,348.892 554.871,358.292 560.528,367.816 566.185,377.462 571.843,387.227 577.5,397.107 583.157,407.1 588.814,417.202 \\n  594.472,427.411 600.129,437.723 605.786,448.136 611.444,458.646 617.101,469.249 622.758,479.943 628.415,490.725 634.073,501.59 639.73,512.537 645.387,523.561 \\n  651.045,534.659 656.702,545.828 662.359,557.064 668.016,568.364 673.674,579.724 679.331,591.142 684.988,602.613 690.646,614.134 696.303,625.701 701.96,637.312 \\n  707.617,648.961 713.275,660.647 718.932,672.366 724.589,684.113 730.247,695.885 735.904,707.679 741.561,719.49 747.218,731.317 752.876,743.154 758.533,754.998 \\n  764.19,766.846 769.848,778.694 775.505,790.538 781.162,802.375 786.819,814.202 792.477,826.013 798.134,837.807 803.791,849.579 809.449,861.326 815.106,873.045 \\n  820.763,884.73 826.42,896.38 832.078,907.991 837.735,919.558 843.392,931.079 849.05,942.55 854.707,953.968 860.364,965.328 866.021,976.628 871.679,987.864 \\n  877.336,999.033 882.993,1010.13 888.651,1021.16 894.308,1032.1 899.965,1042.97 905.622,1053.75 911.28,1064.44 916.937,1075.05 922.594,1085.56 928.252,1095.97 \\n  933.909,1106.28 939.566,1116.49 945.223,1126.59 950.881,1136.58 956.538,1146.47 962.195,1156.23 967.853,1165.88 973.51,1175.4 979.167,1184.8 984.824,1194.07 \\n  990.482,1203.22 996.139,1212.22 1001.8,1221.1 1007.45,1229.83 1013.11,1238.43 1018.77,1246.88 1024.43,1255.18 1030.08,1263.34 1035.74,1271.34 1041.4,1279.2 \\n  1047.05,1286.89 1052.71,1294.43 1058.37,1301.8 1064.03,1309.02 1069.68,1316.06 1075.34,1322.94 1081,1329.65 1086.66,1336.19 1092.31,1342.56 1097.97,1348.75 \\n  1103.63,1354.76 1109.28,1360.6 1114.94,1366.25 1120.6,1371.72 1126.26,1377.01 1131.91,1382.11 1137.57,1387.02 1143.23,1391.75 1148.89,1396.28 1154.54,1400.63 \\n  1160.2,1404.77 1165.86,1408.73 1171.51,1412.49 1177.17,1416.05 1182.83,1419.42 1188.49,1422.58 1194.14,1425.55 1199.8,1428.32 1205.46,1430.88 1211.12,1433.24 \\n  1216.77,1435.4 1222.43,1437.36 1228.09,1439.11 1233.74,1440.66 1239.4,1442 1245.06,1443.13 1250.72,1444.06 1256.37,1444.79 1262.03,1445.3 1267.69,1445.61 \\n  1273.35,1445.72 1279,1445.61 1284.66,1445.3 1290.32,1444.79 1295.98,1444.06 1301.63,1443.13 1307.29,1442 1312.95,1440.66 1318.6,1439.11 1324.26,1437.36 \\n  1329.92,1435.4 1335.58,1433.24 1341.23,1430.88 1346.89,1428.32 1352.55,1425.55 1358.21,1422.58 1363.86,1419.42 1369.52,1416.05 1375.18,1412.49 1380.83,1408.73 \\n  1386.49,1404.77 1392.15,1400.63 1397.81,1396.28 1403.46,1391.75 1409.12,1387.02 1414.78,1382.11 1420.44,1377.01 1426.09,1371.72 1431.75,1366.25 1437.41,1360.6 \\n  1443.06,1354.76 1448.72,1348.75 1454.38,1342.56 1460.04,1336.19 1465.69,1329.65 1471.35,1322.94 1477.01,1316.06 1482.67,1309.02 1488.32,1301.8 1493.98,1294.43 \\n  1499.64,1286.89 1505.29,1279.2 1510.95,1271.34 1516.61,1263.34 1522.27,1255.18 1527.92,1246.88 1533.58,1238.43 1539.24,1229.83 1544.9,1221.1 1550.55,1212.22 \\n  1556.21,1203.22 1561.87,1194.07 1567.52,1184.8 1573.18,1175.4 1578.84,1165.88 1584.5,1156.23 1590.15,1146.47 1595.81,1136.58 1601.47,1126.59 1607.13,1116.49 \\n  1612.78,1106.28 1618.44,1095.97 1624.1,1085.56 1629.75,1075.05 1635.41,1064.44 1641.07,1053.75 1646.73,1042.97 1652.38,1032.1 1658.04,1021.16 1663.7,1010.13 \\n  1669.36,999.033 1675.01,987.864 1680.67,976.628 1686.33,965.328 1691.99,953.968 1697.64,942.55 1703.3,931.079 1708.96,919.558 1714.61,907.991 1720.27,896.38 \\n  1725.93,884.73 1731.59,873.045 1737.24,861.326 1742.9,849.579 1748.56,837.807 1754.22,826.013 1759.87,814.202 1765.53,802.375 1771.19,790.538 1776.84,778.694 \\n  1782.5,766.846 1788.16,754.998 1793.82,743.154 1799.47,731.317 1805.13,719.49 1810.79,707.679 1816.45,695.885 1822.1,684.113 1827.76,672.366 1833.42,660.647 \\n  1839.07,648.961 1844.73,637.312 1850.39,625.701 1856.05,614.134 1861.7,602.613 1867.36,591.142 1873.02,579.724 1878.68,568.364 1884.33,557.064 1889.99,545.828 \\n  1895.65,534.659 1901.3,523.561 1906.96,512.537 1912.62,501.59 1918.28,490.725 1923.93,479.943 1929.59,469.249 1935.25,458.646 1940.91,448.136 1946.56,437.723 \\n  1952.22,427.411 1957.88,417.202 1963.53,407.1 1969.19,397.107 1974.85,387.227 1980.51,377.462 1986.16,367.816 1991.82,358.292 1997.48,348.892 2003.14,339.619 \\n  2008.79,330.477 2014.45,321.467 2020.11,312.593 2025.76,303.858 2031.42,295.263 2037.08,286.813 2042.74,278.508 2048.39,270.352 2054.05,262.347 2059.71,254.497 \\n  2065.37,246.802 2071.02,239.265 2076.68,231.889 2082.34,224.677 2087.99,217.629 2093.65,210.748 2099.31,204.037 2104.97,197.498 2110.62,191.132 2116.28,184.941 \\n  2121.94,178.928 2127.6,173.093 2133.25,167.44 2138.91,161.969 2144.57,156.682 2150.23,151.581 2155.88,146.668 2161.54,141.943 2167.2,137.409 2172.85,133.067 \\n  2178.51,128.917 2184.17,124.962 2189.83,121.203 2195.48,117.64 2201.14,114.275 2206.8,111.108 2212.46,108.142 2218.11,105.376 2223.77,102.811 2229.43,100.449 \\n  2235.08,98.2898 2240.74,96.3343 2246.4,94.583 2252.06,93.0365 2257.71,91.6952 2263.37,90.5596 2269.03,89.63 2274.69,88.9066 2280.34,88.3898 2286,88.0797 \\n  2291.66,87.9763 \\n  \\\"\\/>\\n<\\/svg>\\n\"},\"nodeType\":\"DOM\",\"type\":\"node\",\"instanceArgs\":{\"namespace\":\"html\",\"tag\":\"div\"},\"children\":[]}]}}}},\"children\":[{\"props\":{},\"nodeType\":\"ObservableNode\",\"type\":\"node\",\"instanceArgs\":{\"id\":\"3156375970642245454\",\"name\":\"obs-node\"},\"children\":[]}]}]},\n",
       "        window,\n",
       "    );\n",
       "    })()\n",
       "    </script>\n",
       "</div>\n"
      ],
      "text/plain": [
       "Node{WebIO.DOM}(WebIO.DOM(:html, :div), Any[Node{WebIO.DOM}(WebIO.DOM(:html, :div), Any[Scope(Node{WebIO.DOM}(WebIO.DOM(:html, :div), Any[Node{WebIO.DOM}(WebIO.DOM(:html, :div), Any[Node{WebIO.DOM}(WebIO.DOM(:html, :label), Any[\"Phase shift\"], Dict{Symbol, Any}(:className => \"interact \", :style => Dict{Any, Any}(:padding => \"5px 10px 0px 10px\")))], Dict{Symbol, Any}(:className => \"interact-flex-row-left\")), Node{WebIO.DOM}(WebIO.DOM(:html, :div), Any[Node{WebIO.DOM}(WebIO.DOM(:html, :input), Any[], Dict{Symbol, Any}(:max => 19, :min => 1, :attributes => Dict{Any, Any}(:type => \"range\", Symbol(\"data-bind\") => \"numericValue: index, valueUpdate: 'input', event: {change: function (){this.changes(this.changes()+1)}}\", \"orient\" => \"horizontal\"), :step => 1, :className => \"slider slider is-fullwidth\", :style => Dict{Any, Any}()))], Dict{Symbol, Any}(:className => \"interact-flex-row-center\")), Node{WebIO.DOM}(WebIO.DOM(:html, :div), Any[Node{WebIO.DOM}(WebIO.DOM(:html, :p), Any[], Dict{Symbol, Any}(:attributes => Dict(\"data-bind\" => \"text: formatted_val\")))], Dict{Symbol, Any}(:className => \"interact-flex-row-right\"))], Dict{Symbol, Any}(:className => \"interact-flex-row interact-widget\")), Dict{String, Tuple{Observables.AbstractObservable, Union{Nothing, Bool}}}(\"changes\" => (Observable{Int64} with 1 listeners. Value:\n",
       "0, nothing), \"index\" => (Observable{Any} with 2 listeners. Value:\n",
       "10, nothing)), Set{String}(), nothing, Asset[Asset(\"js\", \"knockout\", \"C:\\\\Users\\\\hunterw\\\\.julia\\\\packages\\\\Knockout\\\\3gjS1\\\\src\\\\..\\\\assets\\\\knockout.js\"), Asset(\"js\", \"knockout_punches\", \"C:\\\\Users\\\\hunterw\\\\.julia\\\\packages\\\\Knockout\\\\3gjS1\\\\src\\\\..\\\\assets\\\\knockout_punches.js\"), Asset(\"js\", nothing, \"C:\\\\Users\\\\hunterw\\\\.julia\\\\packages\\\\InteractBase\\\\h8Fwe\\\\src\\\\..\\\\assets\\\\all.js\"), Asset(\"css\", nothing, \"C:\\\\Users\\\\hunterw\\\\.julia\\\\packages\\\\InteractBase\\\\h8Fwe\\\\src\\\\..\\\\assets\\\\style.css\"), Asset(\"css\", nothing, \"C:\\\\Users\\\\hunterw\\\\.julia\\\\packages\\\\Interact\\\\pVyN2\\\\src\\\\..\\\\assets\\\\bulma_confined.min.css\")], Dict{Any, Any}(\"changes\" => Any[WebIO.JSString(\"(function (val){return (val!=this.model[\\\"changes\\\"]()) ? (this.valueFromJulia[\\\"changes\\\"]=true, this.model[\\\"changes\\\"](val)) : undefined})\")], \"index\" => Any[WebIO.JSString(\"(function (val){return (val!=this.model[\\\"index\\\"]()) ? (this.valueFromJulia[\\\"index\\\"]=true, this.model[\\\"index\\\"](val)) : undefined})\")]), WebIO.ConnectionPool(Channel{Any}(32), Set{AbstractConnection}(), Condition(Base.InvasiveLinkedList{Task}(Task (runnable) @0x000000000ca2a100, Task (runnable) @0x000000000ca2a100), Base.AlwaysLockedST(1))), WebIO.JSString[WebIO.JSString(\"function () {\\n    var handler = (function (ko, koPunches) {\\n    ko.punches.enableAll();\\n    ko.bindingHandlers.numericValue = {\\n        init: function(element, valueAccessor, allBindings, data, context) {\\n            var stringified = ko.observable(ko.unwrap(valueAccessor()));\\n            stringified.subscribe(function(value) {\\n                var val = parseFloat(value);\\n                if (!isNaN(val)) {\\n                    valueAccessor()(val);\\n                }\\n            });\\n            valueAccessor().subscribe(function(value) {\\n                var str = JSON.stringify(value);\\n                if ((str == \\\"0\\\") && ([\\\"-0\\\", \\\"-0.\\\"].indexOf(stringified()) >= 0))\\n                     return;\\n                 if ([\\\"null\\\", \\\"\\\"].indexOf(str) >= 0)\\n                     return;\\n                stringified(str);\\n            });\\n            ko.applyBindingsToNode(\\n                element,\\n                {\\n                    value: stringified,\\n                    valueUpdate: allBindings.get('valueUpdate'),\\n                },\\n                context,\\n            );\\n        }\\n    };\\n    var json_data = {\\\"formatted_vals\\\":[\\\"0\\\",\\\"10\\\",\\\"20\\\",\\\"30\\\",\\\"40\\\",\\\"50\\\",\\\"60\\\",\\\"70\\\",\\\"80\\\",\\\"90\\\",\\\"100\\\",\\\"110\\\",\\\"120\\\",\\\"130\\\",\\\"140\\\",\\\"150\\\",\\\"160\\\",\\\"170\\\",\\\"180\\\"],\\\"changes\\\":WebIO.getval({\\\"name\\\":\\\"changes\\\",\\\"scope\\\":\\\"7022968363668310744\\\",\\\"id\\\":\\\"9491916090165757532\\\",\\\"type\\\":\\\"observable\\\"}),\\\"index\\\":WebIO.getval({\\\"name\\\":\\\"index\\\",\\\"scope\\\":\\\"7022968363668310744\\\",\\\"id\\\":\\\"4380652452879748752\\\",\\\"type\\\":\\\"observable\\\"})};\\n    var self = this;\\n    function AppViewModel() {\\n        for (var key in json_data) {\\n            var el = json_data[key];\\n            this[key] = Array.isArray(el) ? ko.observableArray(el) : ko.observable(el);\\n        }\\n        \\n        [this[\\\"formatted_val\\\"]=ko.computed(    function(){\\n        return this.formatted_vals()[parseInt(this.index())-(1)];\\n    }\\n,this)]\\n        [this[\\\"changes\\\"].subscribe((function (val){!(this.valueFromJulia[\\\"changes\\\"]) ? (WebIO.setval({\\\"name\\\":\\\"changes\\\",\\\"scope\\\":\\\"7022968363668310744\\\",\\\"id\\\":\\\"9491916090165757532\\\",\\\"type\\\":\\\"observable\\\"},val)) : undefined; return this.valueFromJulia[\\\"changes\\\"]=false}),self),this[\\\"index\\\"].subscribe((function (val){!(this.valueFromJulia[\\\"index\\\"]) ? (WebIO.setval({\\\"name\\\":\\\"index\\\",\\\"scope\\\":\\\"7022968363668310744\\\",\\\"id\\\":\\\"4380652452879748752\\\",\\\"type\\\":\\\"observable\\\"},val)) : undefined; return this.valueFromJulia[\\\"index\\\"]=false}),self)]\\n        \\n    }\\n    self.model = new AppViewModel();\\n    self.valueFromJulia = {};\\n    for (var key in json_data) {\\n        self.valueFromJulia[key] = false;\\n    }\\n    ko.applyBindings(self.model, self.dom);\\n}\\n);\\n    (WebIO.importBlock({\\\"data\\\":[{\\\"name\\\":\\\"knockout\\\",\\\"type\\\":\\\"js\\\",\\\"url\\\":\\\"/assetserver/b06b1d10f9a22ed58d41d733179ca1f7324f1691-knockout.js\\\"},{\\\"name\\\":\\\"knockout_punches\\\",\\\"type\\\":\\\"js\\\",\\\"url\\\":\\\"/assetserver/8b802bee336af6b9ad8d794ceaaab92b93e96af6-knockout_punches.js\\\"}],\\\"type\\\":\\\"async_block\\\"})).then((imports) => handler.apply(this, imports));\\n}\\n\")])], Dict{Symbol, Any}(:className => \"field interact-widget\")), Observable{Node{WebIO.DOM}} with 0 listeners. Value:\n",
       "Node{WebIO.DOM}(WebIO.DOM(:html, :div), Any[Plot{Plots.GRBackend() n=1}], Dict{Symbol, Any}(:className => \"interact-flex-row interact-widget\"))], Dict{Symbol, Any}())"
      ]
     },
     "execution_count": 16,
     "metadata": {
      "application/vnd.webio.node+json": {
       "kernelId": "b055c6ba-bceb-4b24-a48f-f03bb564cc9b"
      }
     },
     "output_type": "execute_result"
    }
   ],
   "source": [
    "s = 0:10:180 # phase shift\n",
    "x = 0:1:360\n",
    "\n",
    "p1 = @manipulate for shift in slider(s; label=\"Phase shift\")\n",
    "    y = sind.(x .+ shift)\n",
    "    plot(x, y, label=false)\n",
    "end"
   ]
  },
  {
   "cell_type": "markdown",
   "id": "ba4c56ca",
   "metadata": {},
   "source": [
    "# Frequency shifts"
   ]
  },
  {
   "cell_type": "code",
   "execution_count": 17,
   "id": "77208290",
   "metadata": {},
   "outputs": [
    {
     "data": {
      "application/vnd.webio.node+json": {
       "children": [
        {
         "children": [
          {
           "children": [
            {
             "children": [
              {
               "children": [
                {
                 "children": [
                  "freq1"
                 ],
                 "instanceArgs": {
                  "namespace": "html",
                  "tag": "label"
                 },
                 "nodeType": "DOM",
                 "props": {
                  "className": "interact ",
                  "style": {
                   "padding": "5px 10px 0px 10px"
                  }
                 },
                 "type": "node"
                }
               ],
               "instanceArgs": {
                "namespace": "html",
                "tag": "div"
               },
               "nodeType": "DOM",
               "props": {
                "className": "interact-flex-row-left"
               },
               "type": "node"
              },
              {
               "children": [
                {
                 "children": [
                  {
                   "children": [
                    {
                     "children": [],
                     "instanceArgs": {
                      "namespace": "html",
                      "tag": "label"
                     },
                     "nodeType": "DOM",
                     "props": {
                      "attributes": {
                       "data-bind": "text : key"
                      }
                     },
                     "type": "node"
                    }
                   ],
                   "instanceArgs": {
                    "namespace": "html",
                    "tag": "span"
                   },
                   "nodeType": "DOM",
                   "props": {
                    "attributes": {
                     "data-bind": "click: function (){$root.update(val)}, css: {'is-primary is-selected' : $root.index() == val, 'interact-widget is-medium button ' : true}"
                    }
                   },
                   "type": "node"
                  }
                 ],
                 "instanceArgs": {
                  "namespace": "html",
                  "tag": "div"
                 },
                 "nodeType": "DOM",
                 "props": {
                  "attributes": {
                   "data-bind": "foreach : options_js"
                  },
                  "className": "buttons has-addons is-centered"
                 },
                 "type": "node"
                }
               ],
               "instanceArgs": {
                "namespace": "html",
                "tag": "div"
               },
               "nodeType": "DOM",
               "props": {
                "className": "interact-flex-row-center"
               },
               "type": "node"
              },
              {
               "children": [
                {
                 "children": [],
                 "instanceArgs": {
                  "namespace": "html",
                  "tag": "div"
                 },
                 "nodeType": "DOM",
                 "props": {},
                 "type": "node"
                }
               ],
               "instanceArgs": {
                "namespace": "html",
                "tag": "div"
               },
               "nodeType": "DOM",
               "props": {
                "className": "interact-flex-row-right"
               },
               "type": "node"
              }
             ],
             "instanceArgs": {
              "namespace": "html",
              "tag": "div"
             },
             "nodeType": "DOM",
             "props": {
              "className": "interact-flex-row interact-widget"
             },
             "type": "node"
            }
           ],
           "instanceArgs": {
            "handlers": {
             "index": [
              "(function (val){return (val!=this.model[\"index\"]()) ? (this.valueFromJulia[\"index\"]=true, this.model[\"index\"](val)) : undefined})"
             ],
             "options_js": [
              "(function (val){return (val!=this.model[\"options_js\"]()) ? (this.valueFromJulia[\"options_js\"]=true, this.model[\"options_js\"](val)) : undefined})"
             ]
            },
            "id": "8311651145263808875",
            "imports": {
             "data": [
              {
               "name": "knockout",
               "type": "js",
               "url": "/assetserver/b06b1d10f9a22ed58d41d733179ca1f7324f1691-knockout.js"
              },
              {
               "name": "knockout_punches",
               "type": "js",
               "url": "/assetserver/8b802bee336af6b9ad8d794ceaaab92b93e96af6-knockout_punches.js"
              },
              {
               "name": null,
               "type": "js",
               "url": "/assetserver/69fa1b1e372cfc111090896336dbb1a716187f6c-all.js"
              },
              {
               "name": null,
               "type": "css",
               "url": "/assetserver/fa4819bd9f6af153420bbb94b51c68520cecda0b-style.css"
              },
              {
               "name": null,
               "type": "css",
               "url": "/assetserver/2899be340498081a6535ce0ea18fe2d17b6e93b7-bulma_confined.min.css"
              }
             ],
             "type": "async_block"
            },
            "mount_callbacks": [
             "function () {\n    var handler = (function (ko, koPunches) {\n    ko.punches.enableAll();\n    ko.bindingHandlers.numericValue = {\n        init: function(element, valueAccessor, allBindings, data, context) {\n            var stringified = ko.observable(ko.unwrap(valueAccessor()));\n            stringified.subscribe(function(value) {\n                var val = parseFloat(value);\n                if (!isNaN(val)) {\n                    valueAccessor()(val);\n                }\n            });\n            valueAccessor().subscribe(function(value) {\n                var str = JSON.stringify(value);\n                if ((str == \"0\") && ([\"-0\", \"-0.\"].indexOf(stringified()) >= 0))\n                     return;\n                 if ([\"null\", \"\"].indexOf(str) >= 0)\n                     return;\n                stringified(str);\n            });\n            ko.applyBindingsToNode(\n                element,\n                {\n                    value: stringified,\n                    valueUpdate: allBindings.get('valueUpdate'),\n                },\n                context,\n            );\n        }\n    };\n    var json_data = {\"options_js\":WebIO.getval({\"name\":\"options_js\",\"scope\":\"8311651145263808875\",\"id\":\"10587499600676641772\",\"type\":\"observable\"}),\"index\":WebIO.getval({\"name\":\"index\",\"scope\":\"8311651145263808875\",\"id\":\"2851777326007847081\",\"type\":\"observable\"})};\n    var self = this;\n    function AppViewModel() {\n        for (var key in json_data) {\n            var el = json_data[key];\n            this[key] = Array.isArray(el) ? ko.observableArray(el) : ko.observable(el);\n        }\n        [this[\"update\"]=function (val) {this.index(val)}]\n        \n        [this[\"options_js\"].subscribe((function (val){!(this.valueFromJulia[\"options_js\"]) ? (WebIO.setval({\"name\":\"options_js\",\"scope\":\"8311651145263808875\",\"id\":\"10587499600676641772\",\"type\":\"observable\"},val)) : undefined; return this.valueFromJulia[\"options_js\"]=false}),self),this[\"index\"].subscribe((function (val){!(this.valueFromJulia[\"index\"]) ? (WebIO.setval({\"name\":\"index\",\"scope\":\"8311651145263808875\",\"id\":\"2851777326007847081\",\"type\":\"observable\"},val)) : undefined; return this.valueFromJulia[\"index\"]=false}),self)]\n        \n    }\n    self.model = new AppViewModel();\n    self.valueFromJulia = {};\n    for (var key in json_data) {\n        self.valueFromJulia[key] = false;\n    }\n    ko.applyBindings(self.model, self.dom);\n}\n);\n    (WebIO.importBlock({\"data\":[{\"name\":\"knockout\",\"type\":\"js\",\"url\":\"/assetserver/b06b1d10f9a22ed58d41d733179ca1f7324f1691-knockout.js\"},{\"name\":\"knockout_punches\",\"type\":\"js\",\"url\":\"/assetserver/8b802bee336af6b9ad8d794ceaaab92b93e96af6-knockout_punches.js\"}],\"type\":\"async_block\"})).then((imports) => handler.apply(this, imports));\n}\n"
            ],
            "observables": {
             "index": {
              "id": "2851777326007847081",
              "sync": true,
              "value": 1
             },
             "options_js": {
              "id": "10587499600676641772",
              "sync": false,
              "value": [
               {
                "id": "id6hkLAT6J",
                "key": "π/4",
                "val": 1
               },
               {
                "id": "idvSyXrZMV",
                "key": "π/2",
                "val": 2
               },
               {
                "id": "idXAkolzHR",
                "key": "3π/4",
                "val": 3
               },
               {
                "id": "idxvxBfGCF",
                "key": "π",
                "val": 4
               }
              ]
             }
            },
            "systemjs_options": null
           },
           "nodeType": "Scope",
           "props": {},
           "type": "node"
          }
         ],
         "instanceArgs": {
          "namespace": "html",
          "tag": "div"
         },
         "nodeType": "DOM",
         "props": {
          "className": "interact-widget"
         },
         "type": "node"
        },
        {
         "children": [
          {
           "children": [
            {
             "children": [
              {
               "children": [
                {
                 "children": [
                  "freq2"
                 ],
                 "instanceArgs": {
                  "namespace": "html",
                  "tag": "label"
                 },
                 "nodeType": "DOM",
                 "props": {
                  "className": "interact ",
                  "style": {
                   "padding": "5px 10px 0px 10px"
                  }
                 },
                 "type": "node"
                }
               ],
               "instanceArgs": {
                "namespace": "html",
                "tag": "div"
               },
               "nodeType": "DOM",
               "props": {
                "className": "interact-flex-row-left"
               },
               "type": "node"
              },
              {
               "children": [
                {
                 "children": [],
                 "instanceArgs": {
                  "namespace": "html",
                  "tag": "input"
                 },
                 "nodeType": "DOM",
                 "props": {
                  "attributes": {
                   "data-bind": "numericValue: index, valueUpdate: 'input', event: {change: function (){this.changes(this.changes()+1)}}",
                   "orient": "horizontal",
                   "type": "range"
                  },
                  "className": "slider slider is-fullwidth",
                  "max": 126,
                  "min": 1,
                  "step": 1,
                  "style": {}
                 },
                 "type": "node"
                }
               ],
               "instanceArgs": {
                "namespace": "html",
                "tag": "div"
               },
               "nodeType": "DOM",
               "props": {
                "className": "interact-flex-row-center"
               },
               "type": "node"
              },
              {
               "children": [
                {
                 "children": [],
                 "instanceArgs": {
                  "namespace": "html",
                  "tag": "p"
                 },
                 "nodeType": "DOM",
                 "props": {
                  "attributes": {
                   "data-bind": "text: formatted_val"
                  }
                 },
                 "type": "node"
                }
               ],
               "instanceArgs": {
                "namespace": "html",
                "tag": "div"
               },
               "nodeType": "DOM",
               "props": {
                "className": "interact-flex-row-right"
               },
               "type": "node"
              }
             ],
             "instanceArgs": {
              "namespace": "html",
              "tag": "div"
             },
             "nodeType": "DOM",
             "props": {
              "className": "interact-flex-row interact-widget"
             },
             "type": "node"
            }
           ],
           "instanceArgs": {
            "handlers": {
             "changes": [
              "(function (val){return (val!=this.model[\"changes\"]()) ? (this.valueFromJulia[\"changes\"]=true, this.model[\"changes\"](val)) : undefined})"
             ],
             "index": [
              "(function (val){return (val!=this.model[\"index\"]()) ? (this.valueFromJulia[\"index\"]=true, this.model[\"index\"](val)) : undefined})"
             ]
            },
            "id": "8792799276343691673",
            "imports": {
             "data": [
              {
               "name": "knockout",
               "type": "js",
               "url": "/assetserver/b06b1d10f9a22ed58d41d733179ca1f7324f1691-knockout.js"
              },
              {
               "name": "knockout_punches",
               "type": "js",
               "url": "/assetserver/8b802bee336af6b9ad8d794ceaaab92b93e96af6-knockout_punches.js"
              },
              {
               "name": null,
               "type": "js",
               "url": "/assetserver/69fa1b1e372cfc111090896336dbb1a716187f6c-all.js"
              },
              {
               "name": null,
               "type": "css",
               "url": "/assetserver/fa4819bd9f6af153420bbb94b51c68520cecda0b-style.css"
              },
              {
               "name": null,
               "type": "css",
               "url": "/assetserver/2899be340498081a6535ce0ea18fe2d17b6e93b7-bulma_confined.min.css"
              }
             ],
             "type": "async_block"
            },
            "mount_callbacks": [
             "function () {\n    var handler = (function (ko, koPunches) {\n    ko.punches.enableAll();\n    ko.bindingHandlers.numericValue = {\n        init: function(element, valueAccessor, allBindings, data, context) {\n            var stringified = ko.observable(ko.unwrap(valueAccessor()));\n            stringified.subscribe(function(value) {\n                var val = parseFloat(value);\n                if (!isNaN(val)) {\n                    valueAccessor()(val);\n                }\n            });\n            valueAccessor().subscribe(function(value) {\n                var str = JSON.stringify(value);\n                if ((str == \"0\") && ([\"-0\", \"-0.\"].indexOf(stringified()) >= 0))\n                     return;\n                 if ([\"null\", \"\"].indexOf(str) >= 0)\n                     return;\n                stringified(str);\n            });\n            ko.applyBindingsToNode(\n                element,\n                {\n                    value: stringified,\n                    valueUpdate: allBindings.get('valueUpdate'),\n                },\n                context,\n            );\n        }\n    };\n    var json_data = {\"formatted_vals\":[\"0.01\",\"0.11\",\"0.21\",\"0.31\",\"0.41\",\"0.51\",\"0.61\",\"0.71\",\"0.81\",\"0.91\",\"1.01\",\"1.11\",\"1.21\",\"1.31\",\"1.41\",\"1.51\",\"1.61\",\"1.71\",\"1.81\",\"1.91\",\"2.01\",\"2.11\",\"2.21\",\"2.31\",\"2.41\",\"2.51\",\"2.61\",\"2.71\",\"2.81\",\"2.91\",\"3.01\",\"3.11\",\"3.21\",\"3.31\",\"3.41\",\"3.51\",\"3.61\",\"3.71\",\"3.81\",\"3.91\",\"4.01\",\"4.11\",\"4.21\",\"4.31\",\"4.41\",\"4.51\",\"4.61\",\"4.71\",\"4.81\",\"4.91\",\"5.01\",\"5.11\",\"5.21\",\"5.31\",\"5.41\",\"5.51\",\"5.61\",\"5.71\",\"5.81\",\"5.91\",\"6.01\",\"6.11\",\"6.21\",\"6.31\",\"6.41\",\"6.51\",\"6.61\",\"6.71\",\"6.81\",\"6.91\",\"7.01\",\"7.11\",\"7.21\",\"7.31\",\"7.41\",\"7.51\",\"7.61\",\"7.71\",\"7.81\",\"7.91\",\"8.01\",\"8.11\",\"8.21\",\"8.31\",\"8.41\",\"8.51\",\"8.61\",\"8.71\",\"8.81\",\"8.91\",\"9.01\",\"9.11\",\"9.21\",\"9.31\",\"9.41\",\"9.51\",\"9.61\",\"9.71\",\"9.81\",\"9.91\",\"10.01\",\"10.11\",\"10.21\",\"10.31\",\"10.41\",\"10.51\",\"10.61\",\"10.71\",\"10.81\",\"10.91\",\"11.01\",\"11.11\",\"11.21\",\"11.31\",\"11.41\",\"11.51\",\"11.61\",\"11.71\",\"11.81\",\"11.91\",\"12.01\",\"12.11\",\"12.21\",\"12.31\",\"12.41\",\"12.51\"],\"changes\":WebIO.getval({\"name\":\"changes\",\"scope\":\"8792799276343691673\",\"id\":\"9654733334633210576\",\"type\":\"observable\"}),\"index\":WebIO.getval({\"name\":\"index\",\"scope\":\"8792799276343691673\",\"id\":\"5151649953792330105\",\"type\":\"observable\"})};\n    var self = this;\n    function AppViewModel() {\n        for (var key in json_data) {\n            var el = json_data[key];\n            this[key] = Array.isArray(el) ? ko.observableArray(el) : ko.observable(el);\n        }\n        \n        [this[\"formatted_val\"]=ko.computed(    function(){\n        return this.formatted_vals()[parseInt(this.index())-(1)];\n    }\n,this)]\n        [this[\"changes\"].subscribe((function (val){!(this.valueFromJulia[\"changes\"]) ? (WebIO.setval({\"name\":\"changes\",\"scope\":\"8792799276343691673\",\"id\":\"9654733334633210576\",\"type\":\"observable\"},val)) : undefined; return this.valueFromJulia[\"changes\"]=false}),self),this[\"index\"].subscribe((function (val){!(this.valueFromJulia[\"index\"]) ? (WebIO.setval({\"name\":\"index\",\"scope\":\"8792799276343691673\",\"id\":\"5151649953792330105\",\"type\":\"observable\"},val)) : undefined; return this.valueFromJulia[\"index\"]=false}),self)]\n        \n    }\n    self.model = new AppViewModel();\n    self.valueFromJulia = {};\n    for (var key in json_data) {\n        self.valueFromJulia[key] = false;\n    }\n    ko.applyBindings(self.model, self.dom);\n}\n);\n    (WebIO.importBlock({\"data\":[{\"name\":\"knockout\",\"type\":\"js\",\"url\":\"/assetserver/b06b1d10f9a22ed58d41d733179ca1f7324f1691-knockout.js\"},{\"name\":\"knockout_punches\",\"type\":\"js\",\"url\":\"/assetserver/8b802bee336af6b9ad8d794ceaaab92b93e96af6-knockout_punches.js\"}],\"type\":\"async_block\"})).then((imports) => handler.apply(this, imports));\n}\n"
            ],
            "observables": {
             "changes": {
              "id": "9654733334633210576",
              "sync": false,
              "value": 0
             },
             "index": {
              "id": "5151649953792330105",
              "sync": true,
              "value": 63
             }
            },
            "systemjs_options": null
           },
           "nodeType": "Scope",
           "props": {},
           "type": "node"
          }
         ],
         "instanceArgs": {
          "namespace": "html",
          "tag": "div"
         },
         "nodeType": "DOM",
         "props": {
          "className": "field interact-widget"
         },
         "type": "node"
        },
        {
         "children": [
          {
           "children": [],
           "instanceArgs": {
            "id": "13802721372048798744",
            "name": "obs-node"
           },
           "nodeType": "ObservableNode",
           "props": {},
           "type": "node"
          }
         ],
         "instanceArgs": {
          "handlers": {},
          "id": "11496553664458086045",
          "imports": {
           "data": [],
           "type": "async_block"
          },
          "mount_callbacks": [],
          "observables": {
           "obs-node": {
            "id": "13802721372048798744",
            "sync": false,
            "value": {
             "children": [
              {
               "children": [],
               "instanceArgs": {
                "namespace": "html",
                "tag": "div"
               },
               "nodeType": "DOM",
               "props": {
                "setInnerHtml": "<?xml version=\"1.0\" encoding=\"utf-8\"?>\n<svg xmlns=\"http://www.w3.org/2000/svg\" xmlns:xlink=\"http://www.w3.org/1999/xlink\" width=\"600\" height=\"400\" viewBox=\"0 0 2400 1600\">\n<defs>\n  <clipPath id=\"clip360\">\n    <rect x=\"0\" y=\"0\" width=\"2400\" height=\"1600\"/>\n  </clipPath>\n</defs>\n<path clip-path=\"url(#clip360)\" d=\"\nM0 1600 L2400 1600 L2400 0 L0 0  Z\n  \" fill=\"#ffffff\" fill-rule=\"evenodd\" fill-opacity=\"1\"/>\n<defs>\n  <clipPath id=\"clip361\">\n    <rect x=\"480\" y=\"0\" width=\"1681\" height=\"1600\"/>\n  </clipPath>\n</defs>\n<path clip-path=\"url(#clip360)\" d=\"\nM193.936 1486.45 L2352.76 1486.45 L2352.76 47.2441 L193.936 47.2441  Z\n  \" fill=\"#ffffff\" fill-rule=\"evenodd\" fill-opacity=\"1\"/>\n<defs>\n  <clipPath id=\"clip362\">\n    <rect x=\"193\" y=\"47\" width=\"2160\" height=\"1440\"/>\n  </clipPath>\n</defs>\n<polyline clip-path=\"url(#clip362)\" style=\"stroke:#000000; stroke-linecap:butt; stroke-linejoin:round; stroke-width:2; stroke-opacity:0.1; fill:none\" points=\"\n  255.035,1486.45 255.035,47.2441 \n  \"/>\n<polyline clip-path=\"url(#clip362)\" style=\"stroke:#000000; stroke-linecap:butt; stroke-linejoin:round; stroke-width:2; stroke-opacity:0.1; fill:none\" points=\"\n  933.909,1486.45 933.909,47.2441 \n  \"/>\n<polyline clip-path=\"url(#clip362)\" style=\"stroke:#000000; stroke-linecap:butt; stroke-linejoin:round; stroke-width:2; stroke-opacity:0.1; fill:none\" points=\"\n  1612.78,1486.45 1612.78,47.2441 \n  \"/>\n<polyline clip-path=\"url(#clip362)\" style=\"stroke:#000000; stroke-linecap:butt; stroke-linejoin:round; stroke-width:2; stroke-opacity:0.1; fill:none\" points=\"\n  2291.66,1486.45 2291.66,47.2441 \n  \"/>\n<polyline clip-path=\"url(#clip360)\" style=\"stroke:#000000; stroke-linecap:butt; stroke-linejoin:round; stroke-width:4; stroke-opacity:1; fill:none\" points=\"\n  193.936,1486.45 2352.76,1486.45 \n  \"/>\n<polyline clip-path=\"url(#clip360)\" style=\"stroke:#000000; stroke-linecap:butt; stroke-linejoin:round; stroke-width:4; stroke-opacity:1; fill:none\" points=\"\n  255.035,1486.45 255.035,1467.55 \n  \"/>\n<polyline clip-path=\"url(#clip360)\" style=\"stroke:#000000; stroke-linecap:butt; stroke-linejoin:round; stroke-width:4; stroke-opacity:1; fill:none\" points=\"\n  933.909,1486.45 933.909,1467.55 \n  \"/>\n<polyline clip-path=\"url(#clip360)\" style=\"stroke:#000000; stroke-linecap:butt; stroke-linejoin:round; stroke-width:4; stroke-opacity:1; fill:none\" points=\"\n  1612.78,1486.45 1612.78,1467.55 \n  \"/>\n<polyline clip-path=\"url(#clip360)\" style=\"stroke:#000000; stroke-linecap:butt; stroke-linejoin:round; stroke-width:4; stroke-opacity:1; fill:none\" points=\"\n  2291.66,1486.45 2291.66,1467.55 \n  \"/>\n<path clip-path=\"url(#clip360)\" d=\"M255.035 1517.37 Q251.424 1517.37 249.595 1520.93 Q247.789 1524.47 247.789 1531.6 Q247.789 1538.71 249.595 1542.27 Q251.424 1545.82 255.035 1545.82 Q258.669 1545.82 260.474 1542.27 Q262.303 1538.71 262.303 1531.6 Q262.303 1524.47 260.474 1520.93 Q258.669 1517.37 255.035 1517.37 M255.035 1513.66 Q260.845 1513.66 263.9 1518.27 Q266.979 1522.85 266.979 1531.6 Q266.979 1540.33 263.9 1544.94 Q260.845 1549.52 255.035 1549.52 Q249.225 1549.52 246.146 1544.94 Q243.09 1540.33 243.09 1531.6 Q243.09 1522.85 246.146 1518.27 Q249.225 1513.66 255.035 1513.66 Z\" fill=\"#000000\" fill-rule=\"evenodd\" fill-opacity=\"1\" /><path clip-path=\"url(#clip360)\" d=\"M908.596 1544.91 L916.235 1544.91 L916.235 1518.55 L907.925 1520.21 L907.925 1515.95 L916.189 1514.29 L920.865 1514.29 L920.865 1544.91 L928.504 1544.91 L928.504 1548.85 L908.596 1548.85 L908.596 1544.91 Z\" fill=\"#000000\" fill-rule=\"evenodd\" fill-opacity=\"1\" /><path clip-path=\"url(#clip360)\" d=\"M947.948 1517.37 Q944.337 1517.37 942.508 1520.93 Q940.703 1524.47 940.703 1531.6 Q940.703 1538.71 942.508 1542.27 Q944.337 1545.82 947.948 1545.82 Q951.582 1545.82 953.388 1542.27 Q955.217 1538.71 955.217 1531.6 Q955.217 1524.47 953.388 1520.93 Q951.582 1517.37 947.948 1517.37 M947.948 1513.66 Q953.758 1513.66 956.814 1518.27 Q959.893 1522.85 959.893 1531.6 Q959.893 1540.33 956.814 1544.94 Q953.758 1549.52 947.948 1549.52 Q942.138 1549.52 939.059 1544.94 Q936.004 1540.33 936.004 1531.6 Q936.004 1522.85 939.059 1518.27 Q942.138 1513.66 947.948 1513.66 Z\" fill=\"#000000\" fill-rule=\"evenodd\" fill-opacity=\"1\" /><path clip-path=\"url(#clip360)\" d=\"M1591.56 1544.91 L1607.88 1544.91 L1607.88 1548.85 L1585.93 1548.85 L1585.93 1544.91 Q1588.59 1542.16 1593.18 1537.53 Q1597.78 1532.88 1598.96 1531.53 Q1601.21 1529.01 1602.09 1527.27 Q1602.99 1525.51 1602.99 1523.82 Q1602.99 1521.07 1601.05 1519.33 Q1599.13 1517.6 1596.02 1517.6 Q1593.82 1517.6 1591.37 1518.36 Q1588.94 1519.13 1586.16 1520.68 L1586.16 1515.95 Q1588.99 1514.82 1591.44 1514.24 Q1593.89 1513.66 1595.93 1513.66 Q1601.3 1513.66 1604.5 1516.35 Q1607.69 1519.03 1607.69 1523.52 Q1607.69 1525.65 1606.88 1527.57 Q1606.09 1529.47 1603.99 1532.07 Q1603.41 1532.74 1600.31 1535.95 Q1597.2 1539.15 1591.56 1544.91 Z\" fill=\"#000000\" fill-rule=\"evenodd\" fill-opacity=\"1\" /><path clip-path=\"url(#clip360)\" d=\"M1627.69 1517.37 Q1624.08 1517.37 1622.25 1520.93 Q1620.45 1524.47 1620.45 1531.6 Q1620.45 1538.71 1622.25 1542.27 Q1624.08 1545.82 1627.69 1545.82 Q1631.32 1545.82 1633.13 1542.27 Q1634.96 1538.71 1634.96 1531.6 Q1634.96 1524.47 1633.13 1520.93 Q1631.32 1517.37 1627.69 1517.37 M1627.69 1513.66 Q1633.5 1513.66 1636.56 1518.27 Q1639.63 1522.85 1639.63 1531.6 Q1639.63 1540.33 1636.56 1544.94 Q1633.5 1549.52 1627.69 1549.52 Q1621.88 1549.52 1618.8 1544.94 Q1615.75 1540.33 1615.75 1531.6 Q1615.75 1522.85 1618.8 1518.27 Q1621.88 1513.66 1627.69 1513.66 Z\" fill=\"#000000\" fill-rule=\"evenodd\" fill-opacity=\"1\" /><path clip-path=\"url(#clip360)\" d=\"M2280.5 1530.21 Q2283.86 1530.93 2285.73 1533.2 Q2287.63 1535.47 2287.63 1538.8 Q2287.63 1543.92 2284.11 1546.72 Q2280.59 1549.52 2274.11 1549.52 Q2271.94 1549.52 2269.62 1549.08 Q2267.33 1548.66 2264.87 1547.81 L2264.87 1543.29 Q2266.82 1544.43 2269.13 1545.01 Q2271.45 1545.58 2273.97 1545.58 Q2278.37 1545.58 2280.66 1543.85 Q2282.98 1542.11 2282.98 1538.8 Q2282.98 1535.75 2280.82 1534.03 Q2278.69 1532.3 2274.87 1532.3 L2270.85 1532.3 L2270.85 1528.45 L2275.06 1528.45 Q2278.51 1528.45 2280.34 1527.09 Q2282.17 1525.7 2282.17 1523.11 Q2282.17 1520.45 2280.27 1519.03 Q2278.39 1517.6 2274.87 1517.6 Q2272.95 1517.6 2270.75 1518.01 Q2268.56 1518.43 2265.92 1519.31 L2265.92 1515.14 Q2268.58 1514.4 2270.89 1514.03 Q2273.23 1513.66 2275.29 1513.66 Q2280.62 1513.66 2283.72 1516.09 Q2286.82 1518.5 2286.82 1522.62 Q2286.82 1525.49 2285.18 1527.48 Q2283.53 1529.45 2280.5 1530.21 Z\" fill=\"#000000\" fill-rule=\"evenodd\" fill-opacity=\"1\" /><path clip-path=\"url(#clip360)\" d=\"M2306.5 1517.37 Q2302.88 1517.37 2301.06 1520.93 Q2299.25 1524.47 2299.25 1531.6 Q2299.25 1538.71 2301.06 1542.27 Q2302.88 1545.82 2306.5 1545.82 Q2310.13 1545.82 2311.93 1542.27 Q2313.76 1538.71 2313.76 1531.6 Q2313.76 1524.47 2311.93 1520.93 Q2310.13 1517.37 2306.5 1517.37 M2306.5 1513.66 Q2312.31 1513.66 2315.36 1518.27 Q2318.44 1522.85 2318.44 1531.6 Q2318.44 1540.33 2315.36 1544.94 Q2312.31 1549.52 2306.5 1549.52 Q2300.68 1549.52 2297.61 1544.94 Q2294.55 1540.33 2294.55 1531.6 Q2294.55 1522.85 2297.61 1518.27 Q2300.68 1513.66 2306.5 1513.66 Z\" fill=\"#000000\" fill-rule=\"evenodd\" fill-opacity=\"1\" /><polyline clip-path=\"url(#clip362)\" style=\"stroke:#000000; stroke-linecap:butt; stroke-linejoin:round; stroke-width:2; stroke-opacity:0.1; fill:none\" points=\"\n  193.936,1464.07 2352.76,1464.07 \n  \"/>\n<polyline clip-path=\"url(#clip362)\" style=\"stroke:#000000; stroke-linecap:butt; stroke-linejoin:round; stroke-width:2; stroke-opacity:0.1; fill:none\" points=\"\n  193.936,1119.91 2352.76,1119.91 \n  \"/>\n<polyline clip-path=\"url(#clip362)\" style=\"stroke:#000000; stroke-linecap:butt; stroke-linejoin:round; stroke-width:2; stroke-opacity:0.1; fill:none\" points=\"\n  193.936,775.758 2352.76,775.758 \n  \"/>\n<polyline clip-path=\"url(#clip362)\" style=\"stroke:#000000; stroke-linecap:butt; stroke-linejoin:round; stroke-width:2; stroke-opacity:0.1; fill:none\" points=\"\n  193.936,431.601 2352.76,431.601 \n  \"/>\n<polyline clip-path=\"url(#clip362)\" style=\"stroke:#000000; stroke-linecap:butt; stroke-linejoin:round; stroke-width:2; stroke-opacity:0.1; fill:none\" points=\"\n  193.936,87.4453 2352.76,87.4453 \n  \"/>\n<polyline clip-path=\"url(#clip360)\" style=\"stroke:#000000; stroke-linecap:butt; stroke-linejoin:round; stroke-width:4; stroke-opacity:1; fill:none\" points=\"\n  193.936,1486.45 193.936,47.2441 \n  \"/>\n<polyline clip-path=\"url(#clip360)\" style=\"stroke:#000000; stroke-linecap:butt; stroke-linejoin:round; stroke-width:4; stroke-opacity:1; fill:none\" points=\"\n  193.936,1464.07 212.834,1464.07 \n  \"/>\n<polyline clip-path=\"url(#clip360)\" style=\"stroke:#000000; stroke-linecap:butt; stroke-linejoin:round; stroke-width:4; stroke-opacity:1; fill:none\" points=\"\n  193.936,1119.91 212.834,1119.91 \n  \"/>\n<polyline clip-path=\"url(#clip360)\" style=\"stroke:#000000; stroke-linecap:butt; stroke-linejoin:round; stroke-width:4; stroke-opacity:1; fill:none\" points=\"\n  193.936,775.758 212.834,775.758 \n  \"/>\n<polyline clip-path=\"url(#clip360)\" style=\"stroke:#000000; stroke-linecap:butt; stroke-linejoin:round; stroke-width:4; stroke-opacity:1; fill:none\" points=\"\n  193.936,431.601 212.834,431.601 \n  \"/>\n<polyline clip-path=\"url(#clip360)\" style=\"stroke:#000000; stroke-linecap:butt; stroke-linejoin:round; stroke-width:4; stroke-opacity:1; fill:none\" points=\"\n  193.936,87.4453 212.834,87.4453 \n  \"/>\n<path clip-path=\"url(#clip360)\" d=\"M50.9921 1464.52 L80.6679 1464.52 L80.6679 1468.46 L50.9921 1468.46 L50.9921 1464.52 Z\" fill=\"#000000\" fill-rule=\"evenodd\" fill-opacity=\"1\" /><path clip-path=\"url(#clip360)\" d=\"M91.5706 1477.41 L99.2095 1477.41 L99.2095 1451.05 L90.8993 1452.72 L90.8993 1448.46 L99.1632 1446.79 L103.839 1446.79 L103.839 1477.41 L111.478 1477.41 L111.478 1481.35 L91.5706 1481.35 L91.5706 1477.41 Z\" fill=\"#000000\" fill-rule=\"evenodd\" fill-opacity=\"1\" /><path clip-path=\"url(#clip360)\" d=\"M120.922 1475.47 L125.807 1475.47 L125.807 1481.35 L120.922 1481.35 L120.922 1475.47 Z\" fill=\"#000000\" fill-rule=\"evenodd\" fill-opacity=\"1\" /><path clip-path=\"url(#clip360)\" d=\"M145.992 1449.87 Q142.381 1449.87 140.552 1453.43 Q138.746 1456.98 138.746 1464.1 Q138.746 1471.21 140.552 1474.78 Q142.381 1478.32 145.992 1478.32 Q149.626 1478.32 151.431 1474.78 Q153.26 1471.21 153.26 1464.1 Q153.26 1456.98 151.431 1453.43 Q149.626 1449.87 145.992 1449.87 M145.992 1446.16 Q151.802 1446.16 154.857 1450.77 Q157.936 1455.35 157.936 1464.1 Q157.936 1472.83 154.857 1477.44 Q151.802 1482.02 145.992 1482.02 Q140.181 1482.02 137.103 1477.44 Q134.047 1472.83 134.047 1464.1 Q134.047 1455.35 137.103 1450.77 Q140.181 1446.16 145.992 1446.16 Z\" fill=\"#000000\" fill-rule=\"evenodd\" fill-opacity=\"1\" /><path clip-path=\"url(#clip360)\" d=\"M51.9875 1120.37 L81.6633 1120.37 L81.6633 1124.3 L51.9875 1124.3 L51.9875 1120.37 Z\" fill=\"#000000\" fill-rule=\"evenodd\" fill-opacity=\"1\" /><path clip-path=\"url(#clip360)\" d=\"M101.756 1105.71 Q98.1447 1105.71 96.316 1109.28 Q94.5104 1112.82 94.5104 1119.95 Q94.5104 1127.05 96.316 1130.62 Q98.1447 1134.16 101.756 1134.16 Q105.39 1134.16 107.196 1130.62 Q109.024 1127.05 109.024 1119.95 Q109.024 1112.82 107.196 1109.28 Q105.39 1105.71 101.756 1105.71 M101.756 1102.01 Q107.566 1102.01 110.621 1106.62 Q113.7 1111.2 113.7 1119.95 Q113.7 1128.68 110.621 1133.28 Q107.566 1137.87 101.756 1137.87 Q95.9456 1137.87 92.8669 1133.28 Q89.8114 1128.68 89.8114 1119.95 Q89.8114 1111.2 92.8669 1106.62 Q95.9456 1102.01 101.756 1102.01 Z\" fill=\"#000000\" fill-rule=\"evenodd\" fill-opacity=\"1\" /><path clip-path=\"url(#clip360)\" d=\"M121.918 1131.31 L126.802 1131.31 L126.802 1137.19 L121.918 1137.19 L121.918 1131.31 Z\" fill=\"#000000\" fill-rule=\"evenodd\" fill-opacity=\"1\" /><path clip-path=\"url(#clip360)\" d=\"M137.033 1102.63 L155.39 1102.63 L155.39 1106.57 L141.316 1106.57 L141.316 1115.04 Q142.334 1114.69 143.353 1114.53 Q144.371 1114.35 145.39 1114.35 Q151.177 1114.35 154.556 1117.52 Q157.936 1120.69 157.936 1126.11 Q157.936 1131.68 154.464 1134.79 Q150.992 1137.87 144.672 1137.87 Q142.496 1137.87 140.228 1137.49 Q137.982 1137.12 135.575 1136.38 L135.575 1131.68 Q137.658 1132.82 139.881 1133.37 Q142.103 1133.93 144.58 1133.93 Q148.584 1133.93 150.922 1131.82 Q153.26 1129.72 153.26 1126.11 Q153.26 1122.49 150.922 1120.39 Q148.584 1118.28 144.58 1118.28 Q142.705 1118.28 140.83 1118.7 Q138.978 1119.12 137.033 1119.99 L137.033 1102.63 Z\" fill=\"#000000\" fill-rule=\"evenodd\" fill-opacity=\"1\" /><path clip-path=\"url(#clip360)\" d=\"M100.76 761.556 Q97.1493 761.556 95.3206 765.121 Q93.515 768.663 93.515 775.792 Q93.515 782.899 95.3206 786.464 Q97.1493 790.005 100.76 790.005 Q104.395 790.005 106.2 786.464 Q108.029 782.899 108.029 775.792 Q108.029 768.663 106.2 765.121 Q104.395 761.556 100.76 761.556 M100.76 757.853 Q106.571 757.853 109.626 762.459 Q112.705 767.042 112.705 775.792 Q112.705 784.519 109.626 789.126 Q106.571 793.709 100.76 793.709 Q94.9502 793.709 91.8715 789.126 Q88.816 784.519 88.816 775.792 Q88.816 767.042 91.8715 762.459 Q94.9502 757.853 100.76 757.853 Z\" fill=\"#000000\" fill-rule=\"evenodd\" fill-opacity=\"1\" /><path clip-path=\"url(#clip360)\" d=\"M120.922 787.158 L125.807 787.158 L125.807 793.038 L120.922 793.038 L120.922 787.158 Z\" fill=\"#000000\" fill-rule=\"evenodd\" fill-opacity=\"1\" /><path clip-path=\"url(#clip360)\" d=\"M145.992 761.556 Q142.381 761.556 140.552 765.121 Q138.746 768.663 138.746 775.792 Q138.746 782.899 140.552 786.464 Q142.381 790.005 145.992 790.005 Q149.626 790.005 151.431 786.464 Q153.26 782.899 153.26 775.792 Q153.26 768.663 151.431 765.121 Q149.626 761.556 145.992 761.556 M145.992 757.853 Q151.802 757.853 154.857 762.459 Q157.936 767.042 157.936 775.792 Q157.936 784.519 154.857 789.126 Q151.802 793.709 145.992 793.709 Q140.181 793.709 137.103 789.126 Q134.047 784.519 134.047 775.792 Q134.047 767.042 137.103 762.459 Q140.181 757.853 145.992 757.853 Z\" fill=\"#000000\" fill-rule=\"evenodd\" fill-opacity=\"1\" /><path clip-path=\"url(#clip360)\" d=\"M101.756 417.4 Q98.1447 417.4 96.316 420.965 Q94.5104 424.507 94.5104 431.636 Q94.5104 438.743 96.316 442.307 Q98.1447 445.849 101.756 445.849 Q105.39 445.849 107.196 442.307 Q109.024 438.743 109.024 431.636 Q109.024 424.507 107.196 420.965 Q105.39 417.4 101.756 417.4 M101.756 413.696 Q107.566 413.696 110.621 418.303 Q113.7 422.886 113.7 431.636 Q113.7 440.363 110.621 444.969 Q107.566 449.553 101.756 449.553 Q95.9456 449.553 92.8669 444.969 Q89.8114 440.363 89.8114 431.636 Q89.8114 422.886 92.8669 418.303 Q95.9456 413.696 101.756 413.696 Z\" fill=\"#000000\" fill-rule=\"evenodd\" fill-opacity=\"1\" /><path clip-path=\"url(#clip360)\" d=\"M121.918 443.002 L126.802 443.002 L126.802 448.881 L121.918 448.881 L121.918 443.002 Z\" fill=\"#000000\" fill-rule=\"evenodd\" fill-opacity=\"1\" /><path clip-path=\"url(#clip360)\" d=\"M137.033 414.321 L155.39 414.321 L155.39 418.257 L141.316 418.257 L141.316 426.729 Q142.334 426.382 143.353 426.22 Q144.371 426.034 145.39 426.034 Q151.177 426.034 154.556 429.206 Q157.936 432.377 157.936 437.794 Q157.936 443.372 154.464 446.474 Q150.992 449.553 144.672 449.553 Q142.496 449.553 140.228 449.182 Q137.982 448.812 135.575 448.071 L135.575 443.372 Q137.658 444.506 139.881 445.062 Q142.103 445.618 144.58 445.618 Q148.584 445.618 150.922 443.511 Q153.26 441.405 153.26 437.794 Q153.26 434.182 150.922 432.076 Q148.584 429.97 144.58 429.97 Q142.705 429.97 140.83 430.386 Q138.978 430.803 137.033 431.682 L137.033 414.321 Z\" fill=\"#000000\" fill-rule=\"evenodd\" fill-opacity=\"1\" /><path clip-path=\"url(#clip360)\" d=\"M91.5706 100.79 L99.2095 100.79 L99.2095 74.4246 L90.8993 76.0912 L90.8993 71.832 L99.1632 70.1653 L103.839 70.1653 L103.839 100.79 L111.478 100.79 L111.478 104.725 L91.5706 104.725 L91.5706 100.79 Z\" fill=\"#000000\" fill-rule=\"evenodd\" fill-opacity=\"1\" /><path clip-path=\"url(#clip360)\" d=\"M120.922 98.8457 L125.807 98.8457 L125.807 104.725 L120.922 104.725 L120.922 98.8457 Z\" fill=\"#000000\" fill-rule=\"evenodd\" fill-opacity=\"1\" /><path clip-path=\"url(#clip360)\" d=\"M145.992 73.244 Q142.381 73.244 140.552 76.8088 Q138.746 80.3505 138.746 87.4801 Q138.746 94.5865 140.552 98.1513 Q142.381 101.693 145.992 101.693 Q149.626 101.693 151.431 98.1513 Q153.26 94.5865 153.26 87.4801 Q153.26 80.3505 151.431 76.8088 Q149.626 73.244 145.992 73.244 M145.992 69.5403 Q151.802 69.5403 154.857 74.1468 Q157.936 78.7301 157.936 87.4801 Q157.936 96.2069 154.857 100.813 Q151.802 105.397 145.992 105.397 Q140.181 105.397 137.103 100.813 Q134.047 96.2069 134.047 87.4801 Q134.047 78.7301 137.103 74.1468 Q140.181 69.5403 145.992 69.5403 Z\" fill=\"#000000\" fill-rule=\"evenodd\" fill-opacity=\"1\" /><polyline clip-path=\"url(#clip362)\" style=\"stroke:#009af9; stroke-linecap:butt; stroke-linejoin:round; stroke-width:4; stroke-opacity:1; fill:none\" points=\"\n  255.035,775.758 261.823,744.335 268.612,673.85 275.401,621.885 282.19,645.752 288.978,766.121 295.767,948.158 302.556,1111.66 309.345,1167.19 316.133,1061.74 \n  322.922,811.346 329.711,503.161 336.5,263.29 343.288,202.895 350.077,366.417 356.866,706.088 363.655,1096.03 370.443,1381.71 377.232,1444.31 384.021,1252.14 \n  390.81,876.147 397.598,462.163 404.387,171.235 411.176,113.568 417.964,304.355 424.753,660.056 431.542,1035.89 438.331,1287.45 445.119,1329.29 451.908,1165.7 \n  458.697,881.761 465.486,601.084 472.274,430.495 479.063,417.064 485.852,535.48 492.641,709.022 499.429,851.651 506.218,909.726 513.007,883.363 519.796,818.518 \n  526.584,775.758 533.373,793.168 540.162,863.296 546.951,936.441 553.739,948.813 560.528,860.946 567.317,685.902 574.106,491.231 580.894,371.457 587.683,402.79 \n  594.472,601.606 601.261,907.819 608.049,1203.55 614.838,1361.05 621.627,1299.47 628.415,1024.87 635.204,633.87 641.993,277.604 648.782,100.052 655.57,177.118 \n  662.359,483.131 669.148,899.88 675.937,1264.81 682.725,1437.84 689.514,1358.18 696.303,1066.99 703.092,686.962 709.88,368.771 716.669,228.25 723.458,301.657 \n  730.247,537.182 737.035,824.255 743.824,1045.47 750.613,1126.72 757.402,1063.47 764.19,913.187 770.979,760.433 777.768,673.092 784.557,671.61 791.345,725.298 \n  798.134,775.758 804.923,773.84 811.712,710.036 818.5,621.935 825.289,574.378 832.078,622.265 838.866,775.422 845.655,984.7 852.444,1158.52 859.233,1203.97 \n  866.021,1073.66 872.81,795.468 879.599,469.037 886.388,227.844 893.176,182.227 899.965,368.398 906.754,727.19 913.543,1123.73 920.331,1401.12 927.12,1445.72 \n  933.909,1235.72 940.698,851.668 947.486,443.789 954.275,170.113 961.064,131.869 967.853,333.783 974.641,685.658 981.43,1043.41 988.219,1270.65 995.008,1293.68 \n  1001.8,1126.61 1008.59,857.563 1015.37,604.544 1022.16,462.381 1028.95,465.097 1035.74,579.328 1042.53,729.209 1049.32,838.385 1056.11,867.586 1062.89,829.624 \n  1069.68,775.758 1076.47,762.019 1083.26,814.069 1090.05,909.631 1096.84,988.328 1103.63,984.494 1110.42,866.256 1117.2,660.177 1123.99,447.094 1130.78,328.735 \n  1137.57,379.461 1144.36,605.952 1151.15,935.307 1157.94,1239.68 1164.73,1388.6 1171.51,1306.7 1178.3,1010.65 1185.09,607.58 1191.88,253.953 1198.67,91.4858 \n  1205.46,187.592 1212.25,506.273 1219.04,922.397 1225.82,1273.43 1232.61,1426.32 1239.4,1330.87 1246.19,1037.09 1252.98,670.219 1259.77,375.591 1266.56,258.081 \n  1273.35,342.489 1280.13,570.61 1286.92,833.904 1293.71,1024.88 1300.5,1082.94 1307.29,1014.47 1314.08,880.218 1320.87,758.497 1327.66,704.062 1334.44,723.069 \n  1341.23,775.758 1348.02,803.983 1354.81,768.115 1361.6,673.225 1368.39,570.084 1375.18,529.539 1381.97,602.797 1388.75,788.142 1395.54,1022.35 1402.33,1203.55 \n  1409.12,1236.73 1415.91,1081.21 1422.7,776.955 1429.49,435.308 1436.28,195.747 1443.06,166.403 1449.85,374.53 1456.64,749.834 1463.43,1149.61 1470.22,1416.12 \n  1477.01,1442.08 1483.8,1215.89 1490.59,826.925 1497.37,428.403 1504.16,173.868 1510.95,154.736 1517.74,365.436 1524.53,710.206 1531.32,1047.15 1538.11,1249.14 \n  1544.9,1254.58 1551.68,1086.79 1558.47,835.625 1565.26,612.086 1572.05,498.197 1578.84,515.066 1585.63,622.273 1592.42,746.183 1599.21,821.22 1605.99,822.786 \n  1612.78,775.758 1619.57,735.446 1626.36,752.08 1633.15,838.226 1639.94,957.034 1646.73,1038.51 1653.52,1016.46 1660.3,867.623 1667.09,632.212 1673.88,403.587 \n  1680.67,289.327 1687.46,360.649 1694.25,613.915 1701.04,963.771 1707.83,1273.58 1714.61,1411.67 1721.4,1309.18 1728.19,993.577 1734.98,581.672 1741.77,233.79 \n  1748.56,87.9763 1755.35,202.432 1762.14,531.137 1768.92,943.239 1775.71,1277.76 1782.5,1409.85 1789.29,1300.16 1796.08,1006.82 1802.87,656.23 1809.66,386.948 \n  1816.45,292.122 1823.23,385.301 1830.02,602.969 1836.81,840.051 1843.6,1000.08 1850.39,1036.24 1857.18,965.207 1863.97,849.652 1870.76,760.397 1877.54,738.391 \n  1884.33,775.758 1891.12,824.725 1897.91,828.74 1904.7,758.669 1911.49,634.303 1918.28,518.83 1925.07,487.787 1931.85,587.458 1938.64,804.039 1945.43,1060.64 \n  1952.22,1246.25 1959.01,1265.2 1965.8,1084.47 1972.59,756.179 1979.38,402.474 1986.16,167.39 1992.95,155.522 1999.74,384.576 2006.53,773.565 2013.32,1173.21 \n  2020.11,1426.48 2026.9,1433.5 2033.69,1193.02 2040.47,802.401 2047.26,416.361 2054.05,182.556 2060.84,181.896 2067.63,398.841 2074.42,733.249 2081.21,1046.91 \n  2087.99,1223.05 2094.78,1212.41 2101.57,1046.76 2108.36,816.312 2115.15,623.755 2121.94,537.643 2128.73,566.463 2135.52,663.832 2142.3,759.71 2149.09,800.283 \n  2155.88,775.758 2162.67,722.301 2169.46,697.978 2176.25,746.013 2183.04,865.355 2189.83,1005 2196.61,1086.49 2203.4,1044.47 2210.19,865.147 2216.98,602.412 \n  2223.77,361.227 2230.56,253.622 2237.35,346.434 2244.14,625.237 2250.92,992.737 2257.71,1304.81 2264.5,1430.03 2271.29,1307.02 2278.08,974.042 2284.87,556.629 \n  2291.66,217.466 \n  \"/>\n<path clip-path=\"url(#clip360)\" d=\"\nM2015.7 198.898 L2280.8 198.898 L2280.8 95.2176 L2015.7 95.2176  Z\n  \" fill=\"#ffffff\" fill-rule=\"evenodd\" fill-opacity=\"1\"/>\n<polyline clip-path=\"url(#clip360)\" style=\"stroke:#000000; stroke-linecap:butt; stroke-linejoin:round; stroke-width:4; stroke-opacity:1; fill:none\" points=\"\n  2015.7,198.898 2280.8,198.898 2280.8,95.2176 2015.7,95.2176 2015.7,198.898 \n  \"/>\n<polyline clip-path=\"url(#clip360)\" style=\"stroke:#009af9; stroke-linecap:butt; stroke-linejoin:round; stroke-width:4; stroke-opacity:1; fill:none\" points=\"\n  2039.68,147.058 2183.6,147.058 \n  \"/>\n<path clip-path=\"url(#clip360)\" d=\"M2221.43 166.745 Q2219.63 171.375 2217.91 172.787 Q2216.2 174.199 2213.33 174.199 L2209.93 174.199 L2209.93 170.634 L2212.43 170.634 Q2214.19 170.634 2215.16 169.8 Q2216.13 168.967 2217.31 165.865 L2218.08 163.921 L2207.59 138.412 L2212.1 138.412 L2220.21 158.689 L2228.31 138.412 L2232.82 138.412 L2221.43 166.745 Z\" fill=\"#000000\" fill-rule=\"evenodd\" fill-opacity=\"1\" /></svg>\n"
               },
               "type": "node"
              }
             ],
             "instanceArgs": {
              "namespace": "html",
              "tag": "div"
             },
             "nodeType": "DOM",
             "props": {
              "className": "interact-flex-row interact-widget"
             },
             "type": "node"
            }
           }
          },
          "systemjs_options": null
         },
         "nodeType": "Scope",
         "props": {},
         "type": "node"
        }
       ],
       "instanceArgs": {
        "namespace": "html",
        "tag": "div"
       },
       "nodeType": "DOM",
       "props": {},
       "type": "node"
      },
      "text/html": [
       "<div\n",
       "    class=\"webio-mountpoint\"\n",
       "    data-webio-mountpoint=\"4406109611751218679\"\n",
       ">\n",
       "    <script>\n",
       "    (function(){\n",
       "    // Some integrations (namely, IJulia/Jupyter) use an alternate render pathway than\n",
       "    // just putting the html on the page. If WebIO isn't defined, then it's pretty likely\n",
       "    // that we're in one of those situations and the integration just isn't installed\n",
       "    // correctly.\n",
       "    if (typeof window.WebIO === \"undefined\") {\n",
       "        document\n",
       "            .querySelector('[data-webio-mountpoint=\"4406109611751218679\"]')\n",
       "            .innerHTML = (\n",
       "                '<div style=\"padding: 1em; background-color: #f8d6da; border: 1px solid #f5c6cb; font-weight: bold;\">' +\n",
       "                '<p><strong>WebIO not detected.</strong></p>' +\n",
       "                '<p>Please read ' +\n",
       "                '<a href=\"https://juliagizmos.github.io/WebIO.jl/latest/troubleshooting/not-detected/\" target=\"_blank\">the troubleshooting guide</a> ' +\n",
       "                'for more information on how to resolve this issue.</p>' +\n",
       "                '<p><a href=\"https://juliagizmos.github.io/WebIO.jl/latest/troubleshooting/not-detected/\" target=\"_blank\">https://juliagizmos.github.io/WebIO.jl/latest/troubleshooting/not-detected/</a></p>' +\n",
       "                '</div>'\n",
       "            );\n",
       "        return;\n",
       "    }\n",
       "    WebIO.mount(\n",
       "        document.querySelector('[data-webio-mountpoint=\"4406109611751218679\"]'),\n",
       "        {\"props\":{},\"nodeType\":\"DOM\",\"type\":\"node\",\"instanceArgs\":{\"namespace\":\"html\",\"tag\":\"div\"},\"children\":[{\"props\":{\"className\":\"interact-widget\"},\"nodeType\":\"DOM\",\"type\":\"node\",\"instanceArgs\":{\"namespace\":\"html\",\"tag\":\"div\"},\"children\":[{\"props\":{},\"nodeType\":\"Scope\",\"type\":\"node\",\"instanceArgs\":{\"imports\":{\"data\":[{\"name\":\"knockout\",\"type\":\"js\",\"url\":\"\\/assetserver\\/b06b1d10f9a22ed58d41d733179ca1f7324f1691-knockout.js\"},{\"name\":\"knockout_punches\",\"type\":\"js\",\"url\":\"\\/assetserver\\/8b802bee336af6b9ad8d794ceaaab92b93e96af6-knockout_punches.js\"},{\"name\":null,\"type\":\"js\",\"url\":\"\\/assetserver\\/69fa1b1e372cfc111090896336dbb1a716187f6c-all.js\"},{\"name\":null,\"type\":\"css\",\"url\":\"\\/assetserver\\/fa4819bd9f6af153420bbb94b51c68520cecda0b-style.css\"},{\"name\":null,\"type\":\"css\",\"url\":\"\\/assetserver\\/2899be340498081a6535ce0ea18fe2d17b6e93b7-bulma_confined.min.css\"}],\"type\":\"async_block\"},\"id\":\"8311651145263808875\",\"handlers\":{\"options_js\":[\"(function (val){return (val!=this.model[\\\"options_js\\\"]()) ? (this.valueFromJulia[\\\"options_js\\\"]=true, this.model[\\\"options_js\\\"](val)) : undefined})\"],\"index\":[\"(function (val){return (val!=this.model[\\\"index\\\"]()) ? (this.valueFromJulia[\\\"index\\\"]=true, this.model[\\\"index\\\"](val)) : undefined})\"]},\"systemjs_options\":null,\"mount_callbacks\":[\"function () {\\n    var handler = (function (ko, koPunches) {\\n    ko.punches.enableAll();\\n    ko.bindingHandlers.numericValue = {\\n        init: function(element, valueAccessor, allBindings, data, context) {\\n            var stringified = ko.observable(ko.unwrap(valueAccessor()));\\n            stringified.subscribe(function(value) {\\n                var val = parseFloat(value);\\n                if (!isNaN(val)) {\\n                    valueAccessor()(val);\\n                }\\n            });\\n            valueAccessor().subscribe(function(value) {\\n                var str = JSON.stringify(value);\\n                if ((str == \\\"0\\\") && ([\\\"-0\\\", \\\"-0.\\\"].indexOf(stringified()) >= 0))\\n                     return;\\n                 if ([\\\"null\\\", \\\"\\\"].indexOf(str) >= 0)\\n                     return;\\n                stringified(str);\\n            });\\n            ko.applyBindingsToNode(\\n                element,\\n                {\\n                    value: stringified,\\n                    valueUpdate: allBindings.get('valueUpdate'),\\n                },\\n                context,\\n            );\\n        }\\n    };\\n    var json_data = {\\\"options_js\\\":WebIO.getval({\\\"name\\\":\\\"options_js\\\",\\\"scope\\\":\\\"8311651145263808875\\\",\\\"id\\\":\\\"10587499600676641772\\\",\\\"type\\\":\\\"observable\\\"}),\\\"index\\\":WebIO.getval({\\\"name\\\":\\\"index\\\",\\\"scope\\\":\\\"8311651145263808875\\\",\\\"id\\\":\\\"2851777326007847081\\\",\\\"type\\\":\\\"observable\\\"})};\\n    var self = this;\\n    function AppViewModel() {\\n        for (var key in json_data) {\\n            var el = json_data[key];\\n            this[key] = Array.isArray(el) ? ko.observableArray(el) : ko.observable(el);\\n        }\\n        [this[\\\"update\\\"]=function (val) {this.index(val)}]\\n        \\n        [this[\\\"options_js\\\"].subscribe((function (val){!(this.valueFromJulia[\\\"options_js\\\"]) ? (WebIO.setval({\\\"name\\\":\\\"options_js\\\",\\\"scope\\\":\\\"8311651145263808875\\\",\\\"id\\\":\\\"10587499600676641772\\\",\\\"type\\\":\\\"observable\\\"},val)) : undefined; return this.valueFromJulia[\\\"options_js\\\"]=false}),self),this[\\\"index\\\"].subscribe((function (val){!(this.valueFromJulia[\\\"index\\\"]) ? (WebIO.setval({\\\"name\\\":\\\"index\\\",\\\"scope\\\":\\\"8311651145263808875\\\",\\\"id\\\":\\\"2851777326007847081\\\",\\\"type\\\":\\\"observable\\\"},val)) : undefined; return this.valueFromJulia[\\\"index\\\"]=false}),self)]\\n        \\n    }\\n    self.model = new AppViewModel();\\n    self.valueFromJulia = {};\\n    for (var key in json_data) {\\n        self.valueFromJulia[key] = false;\\n    }\\n    ko.applyBindings(self.model, self.dom);\\n}\\n);\\n    (WebIO.importBlock({\\\"data\\\":[{\\\"name\\\":\\\"knockout\\\",\\\"type\\\":\\\"js\\\",\\\"url\\\":\\\"\\/assetserver\\/b06b1d10f9a22ed58d41d733179ca1f7324f1691-knockout.js\\\"},{\\\"name\\\":\\\"knockout_punches\\\",\\\"type\\\":\\\"js\\\",\\\"url\\\":\\\"\\/assetserver\\/8b802bee336af6b9ad8d794ceaaab92b93e96af6-knockout_punches.js\\\"}],\\\"type\\\":\\\"async_block\\\"})).then((imports) => handler.apply(this, imports));\\n}\\n\"],\"observables\":{\"options_js\":{\"sync\":false,\"id\":\"10587499600676641772\",\"value\":[{\"key\":\"π\\/4\",\"val\":1,\"id\":\"id6hkLAT6J\"},{\"key\":\"π\\/2\",\"val\":2,\"id\":\"idvSyXrZMV\"},{\"key\":\"3π\\/4\",\"val\":3,\"id\":\"idXAkolzHR\"},{\"key\":\"π\",\"val\":4,\"id\":\"idxvxBfGCF\"}]},\"index\":{\"sync\":true,\"id\":\"2851777326007847081\",\"value\":1}}},\"children\":[{\"props\":{\"className\":\"interact-flex-row interact-widget\"},\"nodeType\":\"DOM\",\"type\":\"node\",\"instanceArgs\":{\"namespace\":\"html\",\"tag\":\"div\"},\"children\":[{\"props\":{\"className\":\"interact-flex-row-left\"},\"nodeType\":\"DOM\",\"type\":\"node\",\"instanceArgs\":{\"namespace\":\"html\",\"tag\":\"div\"},\"children\":[{\"props\":{\"className\":\"interact \",\"style\":{\"padding\":\"5px 10px 0px 10px\"}},\"nodeType\":\"DOM\",\"type\":\"node\",\"instanceArgs\":{\"namespace\":\"html\",\"tag\":\"label\"},\"children\":[\"freq1\"]}]},{\"props\":{\"className\":\"interact-flex-row-center\"},\"nodeType\":\"DOM\",\"type\":\"node\",\"instanceArgs\":{\"namespace\":\"html\",\"tag\":\"div\"},\"children\":[{\"props\":{\"attributes\":{\"data-bind\":\"foreach : options_js\"},\"className\":\"buttons has-addons is-centered\"},\"nodeType\":\"DOM\",\"type\":\"node\",\"instanceArgs\":{\"namespace\":\"html\",\"tag\":\"div\"},\"children\":[{\"props\":{\"attributes\":{\"data-bind\":\"click: function (){$root.update(val)}, css: {'is-primary is-selected' : $root.index() == val, 'interact-widget is-medium button ' : true}\"}},\"nodeType\":\"DOM\",\"type\":\"node\",\"instanceArgs\":{\"namespace\":\"html\",\"tag\":\"span\"},\"children\":[{\"props\":{\"attributes\":{\"data-bind\":\"text : key\"}},\"nodeType\":\"DOM\",\"type\":\"node\",\"instanceArgs\":{\"namespace\":\"html\",\"tag\":\"label\"},\"children\":[]}]}]}]},{\"props\":{\"className\":\"interact-flex-row-right\"},\"nodeType\":\"DOM\",\"type\":\"node\",\"instanceArgs\":{\"namespace\":\"html\",\"tag\":\"div\"},\"children\":[{\"props\":{},\"nodeType\":\"DOM\",\"type\":\"node\",\"instanceArgs\":{\"namespace\":\"html\",\"tag\":\"div\"},\"children\":[]}]}]}]}]},{\"props\":{\"className\":\"field interact-widget\"},\"nodeType\":\"DOM\",\"type\":\"node\",\"instanceArgs\":{\"namespace\":\"html\",\"tag\":\"div\"},\"children\":[{\"props\":{},\"nodeType\":\"Scope\",\"type\":\"node\",\"instanceArgs\":{\"imports\":{\"data\":[{\"name\":\"knockout\",\"type\":\"js\",\"url\":\"\\/assetserver\\/b06b1d10f9a22ed58d41d733179ca1f7324f1691-knockout.js\"},{\"name\":\"knockout_punches\",\"type\":\"js\",\"url\":\"\\/assetserver\\/8b802bee336af6b9ad8d794ceaaab92b93e96af6-knockout_punches.js\"},{\"name\":null,\"type\":\"js\",\"url\":\"\\/assetserver\\/69fa1b1e372cfc111090896336dbb1a716187f6c-all.js\"},{\"name\":null,\"type\":\"css\",\"url\":\"\\/assetserver\\/fa4819bd9f6af153420bbb94b51c68520cecda0b-style.css\"},{\"name\":null,\"type\":\"css\",\"url\":\"\\/assetserver\\/2899be340498081a6535ce0ea18fe2d17b6e93b7-bulma_confined.min.css\"}],\"type\":\"async_block\"},\"id\":\"8792799276343691673\",\"handlers\":{\"changes\":[\"(function (val){return (val!=this.model[\\\"changes\\\"]()) ? (this.valueFromJulia[\\\"changes\\\"]=true, this.model[\\\"changes\\\"](val)) : undefined})\"],\"index\":[\"(function (val){return (val!=this.model[\\\"index\\\"]()) ? (this.valueFromJulia[\\\"index\\\"]=true, this.model[\\\"index\\\"](val)) : undefined})\"]},\"systemjs_options\":null,\"mount_callbacks\":[\"function () {\\n    var handler = (function (ko, koPunches) {\\n    ko.punches.enableAll();\\n    ko.bindingHandlers.numericValue = {\\n        init: function(element, valueAccessor, allBindings, data, context) {\\n            var stringified = ko.observable(ko.unwrap(valueAccessor()));\\n            stringified.subscribe(function(value) {\\n                var val = parseFloat(value);\\n                if (!isNaN(val)) {\\n                    valueAccessor()(val);\\n                }\\n            });\\n            valueAccessor().subscribe(function(value) {\\n                var str = JSON.stringify(value);\\n                if ((str == \\\"0\\\") && ([\\\"-0\\\", \\\"-0.\\\"].indexOf(stringified()) >= 0))\\n                     return;\\n                 if ([\\\"null\\\", \\\"\\\"].indexOf(str) >= 0)\\n                     return;\\n                stringified(str);\\n            });\\n            ko.applyBindingsToNode(\\n                element,\\n                {\\n                    value: stringified,\\n                    valueUpdate: allBindings.get('valueUpdate'),\\n                },\\n                context,\\n            );\\n        }\\n    };\\n    var json_data = {\\\"formatted_vals\\\":[\\\"0.01\\\",\\\"0.11\\\",\\\"0.21\\\",\\\"0.31\\\",\\\"0.41\\\",\\\"0.51\\\",\\\"0.61\\\",\\\"0.71\\\",\\\"0.81\\\",\\\"0.91\\\",\\\"1.01\\\",\\\"1.11\\\",\\\"1.21\\\",\\\"1.31\\\",\\\"1.41\\\",\\\"1.51\\\",\\\"1.61\\\",\\\"1.71\\\",\\\"1.81\\\",\\\"1.91\\\",\\\"2.01\\\",\\\"2.11\\\",\\\"2.21\\\",\\\"2.31\\\",\\\"2.41\\\",\\\"2.51\\\",\\\"2.61\\\",\\\"2.71\\\",\\\"2.81\\\",\\\"2.91\\\",\\\"3.01\\\",\\\"3.11\\\",\\\"3.21\\\",\\\"3.31\\\",\\\"3.41\\\",\\\"3.51\\\",\\\"3.61\\\",\\\"3.71\\\",\\\"3.81\\\",\\\"3.91\\\",\\\"4.01\\\",\\\"4.11\\\",\\\"4.21\\\",\\\"4.31\\\",\\\"4.41\\\",\\\"4.51\\\",\\\"4.61\\\",\\\"4.71\\\",\\\"4.81\\\",\\\"4.91\\\",\\\"5.01\\\",\\\"5.11\\\",\\\"5.21\\\",\\\"5.31\\\",\\\"5.41\\\",\\\"5.51\\\",\\\"5.61\\\",\\\"5.71\\\",\\\"5.81\\\",\\\"5.91\\\",\\\"6.01\\\",\\\"6.11\\\",\\\"6.21\\\",\\\"6.31\\\",\\\"6.41\\\",\\\"6.51\\\",\\\"6.61\\\",\\\"6.71\\\",\\\"6.81\\\",\\\"6.91\\\",\\\"7.01\\\",\\\"7.11\\\",\\\"7.21\\\",\\\"7.31\\\",\\\"7.41\\\",\\\"7.51\\\",\\\"7.61\\\",\\\"7.71\\\",\\\"7.81\\\",\\\"7.91\\\",\\\"8.01\\\",\\\"8.11\\\",\\\"8.21\\\",\\\"8.31\\\",\\\"8.41\\\",\\\"8.51\\\",\\\"8.61\\\",\\\"8.71\\\",\\\"8.81\\\",\\\"8.91\\\",\\\"9.01\\\",\\\"9.11\\\",\\\"9.21\\\",\\\"9.31\\\",\\\"9.41\\\",\\\"9.51\\\",\\\"9.61\\\",\\\"9.71\\\",\\\"9.81\\\",\\\"9.91\\\",\\\"10.01\\\",\\\"10.11\\\",\\\"10.21\\\",\\\"10.31\\\",\\\"10.41\\\",\\\"10.51\\\",\\\"10.61\\\",\\\"10.71\\\",\\\"10.81\\\",\\\"10.91\\\",\\\"11.01\\\",\\\"11.11\\\",\\\"11.21\\\",\\\"11.31\\\",\\\"11.41\\\",\\\"11.51\\\",\\\"11.61\\\",\\\"11.71\\\",\\\"11.81\\\",\\\"11.91\\\",\\\"12.01\\\",\\\"12.11\\\",\\\"12.21\\\",\\\"12.31\\\",\\\"12.41\\\",\\\"12.51\\\"],\\\"changes\\\":WebIO.getval({\\\"name\\\":\\\"changes\\\",\\\"scope\\\":\\\"8792799276343691673\\\",\\\"id\\\":\\\"9654733334633210576\\\",\\\"type\\\":\\\"observable\\\"}),\\\"index\\\":WebIO.getval({\\\"name\\\":\\\"index\\\",\\\"scope\\\":\\\"8792799276343691673\\\",\\\"id\\\":\\\"5151649953792330105\\\",\\\"type\\\":\\\"observable\\\"})};\\n    var self = this;\\n    function AppViewModel() {\\n        for (var key in json_data) {\\n            var el = json_data[key];\\n            this[key] = Array.isArray(el) ? ko.observableArray(el) : ko.observable(el);\\n        }\\n        \\n        [this[\\\"formatted_val\\\"]=ko.computed(    function(){\\n        return this.formatted_vals()[parseInt(this.index())-(1)];\\n    }\\n,this)]\\n        [this[\\\"changes\\\"].subscribe((function (val){!(this.valueFromJulia[\\\"changes\\\"]) ? (WebIO.setval({\\\"name\\\":\\\"changes\\\",\\\"scope\\\":\\\"8792799276343691673\\\",\\\"id\\\":\\\"9654733334633210576\\\",\\\"type\\\":\\\"observable\\\"},val)) : undefined; return this.valueFromJulia[\\\"changes\\\"]=false}),self),this[\\\"index\\\"].subscribe((function (val){!(this.valueFromJulia[\\\"index\\\"]) ? (WebIO.setval({\\\"name\\\":\\\"index\\\",\\\"scope\\\":\\\"8792799276343691673\\\",\\\"id\\\":\\\"5151649953792330105\\\",\\\"type\\\":\\\"observable\\\"},val)) : undefined; return this.valueFromJulia[\\\"index\\\"]=false}),self)]\\n        \\n    }\\n    self.model = new AppViewModel();\\n    self.valueFromJulia = {};\\n    for (var key in json_data) {\\n        self.valueFromJulia[key] = false;\\n    }\\n    ko.applyBindings(self.model, self.dom);\\n}\\n);\\n    (WebIO.importBlock({\\\"data\\\":[{\\\"name\\\":\\\"knockout\\\",\\\"type\\\":\\\"js\\\",\\\"url\\\":\\\"\\/assetserver\\/b06b1d10f9a22ed58d41d733179ca1f7324f1691-knockout.js\\\"},{\\\"name\\\":\\\"knockout_punches\\\",\\\"type\\\":\\\"js\\\",\\\"url\\\":\\\"\\/assetserver\\/8b802bee336af6b9ad8d794ceaaab92b93e96af6-knockout_punches.js\\\"}],\\\"type\\\":\\\"async_block\\\"})).then((imports) => handler.apply(this, imports));\\n}\\n\"],\"observables\":{\"changes\":{\"sync\":false,\"id\":\"9654733334633210576\",\"value\":0},\"index\":{\"sync\":true,\"id\":\"5151649953792330105\",\"value\":63}}},\"children\":[{\"props\":{\"className\":\"interact-flex-row interact-widget\"},\"nodeType\":\"DOM\",\"type\":\"node\",\"instanceArgs\":{\"namespace\":\"html\",\"tag\":\"div\"},\"children\":[{\"props\":{\"className\":\"interact-flex-row-left\"},\"nodeType\":\"DOM\",\"type\":\"node\",\"instanceArgs\":{\"namespace\":\"html\",\"tag\":\"div\"},\"children\":[{\"props\":{\"className\":\"interact \",\"style\":{\"padding\":\"5px 10px 0px 10px\"}},\"nodeType\":\"DOM\",\"type\":\"node\",\"instanceArgs\":{\"namespace\":\"html\",\"tag\":\"label\"},\"children\":[\"freq2\"]}]},{\"props\":{\"className\":\"interact-flex-row-center\"},\"nodeType\":\"DOM\",\"type\":\"node\",\"instanceArgs\":{\"namespace\":\"html\",\"tag\":\"div\"},\"children\":[{\"props\":{\"max\":126,\"min\":1,\"attributes\":{\"type\":\"range\",\"data-bind\":\"numericValue: index, valueUpdate: 'input', event: {change: function (){this.changes(this.changes()+1)}}\",\"orient\":\"horizontal\"},\"step\":1,\"className\":\"slider slider is-fullwidth\",\"style\":{}},\"nodeType\":\"DOM\",\"type\":\"node\",\"instanceArgs\":{\"namespace\":\"html\",\"tag\":\"input\"},\"children\":[]}]},{\"props\":{\"className\":\"interact-flex-row-right\"},\"nodeType\":\"DOM\",\"type\":\"node\",\"instanceArgs\":{\"namespace\":\"html\",\"tag\":\"div\"},\"children\":[{\"props\":{\"attributes\":{\"data-bind\":\"text: formatted_val\"}},\"nodeType\":\"DOM\",\"type\":\"node\",\"instanceArgs\":{\"namespace\":\"html\",\"tag\":\"p\"},\"children\":[]}]}]}]}]},{\"props\":{},\"nodeType\":\"Scope\",\"type\":\"node\",\"instanceArgs\":{\"imports\":{\"data\":[],\"type\":\"async_block\"},\"id\":\"2707884138259031422\",\"handlers\":{},\"systemjs_options\":null,\"mount_callbacks\":[],\"observables\":{\"obs-node\":{\"sync\":false,\"id\":\"16647524698372456603\",\"value\":{\"props\":{\"className\":\"interact-flex-row interact-widget\"},\"nodeType\":\"DOM\",\"type\":\"node\",\"instanceArgs\":{\"namespace\":\"html\",\"tag\":\"div\"},\"children\":[{\"props\":{\"setInnerHtml\":\"<?xml version=\\\"1.0\\\" encoding=\\\"utf-8\\\"?>\\n<svg xmlns=\\\"http:\\/\\/www.w3.org\\/2000\\/svg\\\" xmlns:xlink=\\\"http:\\/\\/www.w3.org\\/1999\\/xlink\\\" width=\\\"600\\\" height=\\\"400\\\" viewBox=\\\"0 0 2400 1600\\\">\\n<defs>\\n  <clipPath id=\\\"clip320\\\">\\n    <rect x=\\\"0\\\" y=\\\"0\\\" width=\\\"2400\\\" height=\\\"1600\\\"\\/>\\n  <\\/clipPath>\\n<\\/defs>\\n<path clip-path=\\\"url(#clip320)\\\" d=\\\"\\nM0 1600 L2400 1600 L2400 0 L0 0  Z\\n  \\\" fill=\\\"#ffffff\\\" fill-rule=\\\"evenodd\\\" fill-opacity=\\\"1\\\"\\/>\\n<defs>\\n  <clipPath id=\\\"clip321\\\">\\n    <rect x=\\\"480\\\" y=\\\"0\\\" width=\\\"1681\\\" height=\\\"1600\\\"\\/>\\n  <\\/clipPath>\\n<\\/defs>\\n<path clip-path=\\\"url(#clip320)\\\" d=\\\"\\nM193.936 1486.45 L2352.76 1486.45 L2352.76 47.2441 L193.936 47.2441  Z\\n  \\\" fill=\\\"#ffffff\\\" fill-rule=\\\"evenodd\\\" fill-opacity=\\\"1\\\"\\/>\\n<defs>\\n  <clipPath id=\\\"clip322\\\">\\n    <rect x=\\\"193\\\" y=\\\"47\\\" width=\\\"2160\\\" height=\\\"1440\\\"\\/>\\n  <\\/clipPath>\\n<\\/defs>\\n<polyline clip-path=\\\"url(#clip322)\\\" style=\\\"stroke:#000000; stroke-linecap:butt; stroke-linejoin:round; stroke-width:2; stroke-opacity:0.1; fill:none\\\" points=\\\"\\n  255.035,1486.45 255.035,47.2441 \\n  \\\"\\/>\\n<polyline clip-path=\\\"url(#clip322)\\\" style=\\\"stroke:#000000; stroke-linecap:butt; stroke-linejoin:round; stroke-width:2; stroke-opacity:0.1; fill:none\\\" points=\\\"\\n  933.909,1486.45 933.909,47.2441 \\n  \\\"\\/>\\n<polyline clip-path=\\\"url(#clip322)\\\" style=\\\"stroke:#000000; stroke-linecap:butt; stroke-linejoin:round; stroke-width:2; stroke-opacity:0.1; fill:none\\\" points=\\\"\\n  1612.78,1486.45 1612.78,47.2441 \\n  \\\"\\/>\\n<polyline clip-path=\\\"url(#clip322)\\\" style=\\\"stroke:#000000; stroke-linecap:butt; stroke-linejoin:round; stroke-width:2; stroke-opacity:0.1; fill:none\\\" points=\\\"\\n  2291.66,1486.45 2291.66,47.2441 \\n  \\\"\\/>\\n<polyline clip-path=\\\"url(#clip320)\\\" style=\\\"stroke:#000000; stroke-linecap:butt; stroke-linejoin:round; stroke-width:4; stroke-opacity:1; fill:none\\\" points=\\\"\\n  193.936,1486.45 2352.76,1486.45 \\n  \\\"\\/>\\n<polyline clip-path=\\\"url(#clip320)\\\" style=\\\"stroke:#000000; stroke-linecap:butt; stroke-linejoin:round; stroke-width:4; stroke-opacity:1; fill:none\\\" points=\\\"\\n  255.035,1486.45 255.035,1467.55 \\n  \\\"\\/>\\n<polyline clip-path=\\\"url(#clip320)\\\" style=\\\"stroke:#000000; stroke-linecap:butt; stroke-linejoin:round; stroke-width:4; stroke-opacity:1; fill:none\\\" points=\\\"\\n  933.909,1486.45 933.909,1467.55 \\n  \\\"\\/>\\n<polyline clip-path=\\\"url(#clip320)\\\" style=\\\"stroke:#000000; stroke-linecap:butt; stroke-linejoin:round; stroke-width:4; stroke-opacity:1; fill:none\\\" points=\\\"\\n  1612.78,1486.45 1612.78,1467.55 \\n  \\\"\\/>\\n<polyline clip-path=\\\"url(#clip320)\\\" style=\\\"stroke:#000000; stroke-linecap:butt; stroke-linejoin:round; stroke-width:4; stroke-opacity:1; fill:none\\\" points=\\\"\\n  2291.66,1486.45 2291.66,1467.55 \\n  \\\"\\/>\\n<path clip-path=\\\"url(#clip320)\\\" d=\\\"M255.035 1517.37 Q251.424 1517.37 249.595 1520.93 Q247.789 1524.47 247.789 1531.6 Q247.789 1538.71 249.595 1542.27 Q251.424 1545.82 255.035 1545.82 Q258.669 1545.82 260.474 1542.27 Q262.303 1538.71 262.303 1531.6 Q262.303 1524.47 260.474 1520.93 Q258.669 1517.37 255.035 1517.37 M255.035 1513.66 Q260.845 1513.66 263.9 1518.27 Q266.979 1522.85 266.979 1531.6 Q266.979 1540.33 263.9 1544.94 Q260.845 1549.52 255.035 1549.52 Q249.225 1549.52 246.146 1544.94 Q243.09 1540.33 243.09 1531.6 Q243.09 1522.85 246.146 1518.27 Q249.225 1513.66 255.035 1513.66 Z\\\" fill=\\\"#000000\\\" fill-rule=\\\"evenodd\\\" fill-opacity=\\\"1\\\" \\/><path clip-path=\\\"url(#clip320)\\\" d=\\\"M908.596 1544.91 L916.235 1544.91 L916.235 1518.55 L907.925 1520.21 L907.925 1515.95 L916.189 1514.29 L920.865 1514.29 L920.865 1544.91 L928.504 1544.91 L928.504 1548.85 L908.596 1548.85 L908.596 1544.91 Z\\\" fill=\\\"#000000\\\" fill-rule=\\\"evenodd\\\" fill-opacity=\\\"1\\\" \\/><path clip-path=\\\"url(#clip320)\\\" d=\\\"M947.948 1517.37 Q944.337 1517.37 942.508 1520.93 Q940.703 1524.47 940.703 1531.6 Q940.703 1538.71 942.508 1542.27 Q944.337 1545.82 947.948 1545.82 Q951.582 1545.82 953.388 1542.27 Q955.217 1538.71 955.217 1531.6 Q955.217 1524.47 953.388 1520.93 Q951.582 1517.37 947.948 1517.37 M947.948 1513.66 Q953.758 1513.66 956.814 1518.27 Q959.893 1522.85 959.893 1531.6 Q959.893 1540.33 956.814 1544.94 Q953.758 1549.52 947.948 1549.52 Q942.138 1549.52 939.059 1544.94 Q936.004 1540.33 936.004 1531.6 Q936.004 1522.85 939.059 1518.27 Q942.138 1513.66 947.948 1513.66 Z\\\" fill=\\\"#000000\\\" fill-rule=\\\"evenodd\\\" fill-opacity=\\\"1\\\" \\/><path clip-path=\\\"url(#clip320)\\\" d=\\\"M1591.56 1544.91 L1607.88 1544.91 L1607.88 1548.85 L1585.93 1548.85 L1585.93 1544.91 Q1588.59 1542.16 1593.18 1537.53 Q1597.78 1532.88 1598.96 1531.53 Q1601.21 1529.01 1602.09 1527.27 Q1602.99 1525.51 1602.99 1523.82 Q1602.99 1521.07 1601.05 1519.33 Q1599.13 1517.6 1596.02 1517.6 Q1593.82 1517.6 1591.37 1518.36 Q1588.94 1519.13 1586.16 1520.68 L1586.16 1515.95 Q1588.99 1514.82 1591.44 1514.24 Q1593.89 1513.66 1595.93 1513.66 Q1601.3 1513.66 1604.5 1516.35 Q1607.69 1519.03 1607.69 1523.52 Q1607.69 1525.65 1606.88 1527.57 Q1606.09 1529.47 1603.99 1532.07 Q1603.41 1532.74 1600.31 1535.95 Q1597.2 1539.15 1591.56 1544.91 Z\\\" fill=\\\"#000000\\\" fill-rule=\\\"evenodd\\\" fill-opacity=\\\"1\\\" \\/><path clip-path=\\\"url(#clip320)\\\" d=\\\"M1627.69 1517.37 Q1624.08 1517.37 1622.25 1520.93 Q1620.45 1524.47 1620.45 1531.6 Q1620.45 1538.71 1622.25 1542.27 Q1624.08 1545.82 1627.69 1545.82 Q1631.32 1545.82 1633.13 1542.27 Q1634.96 1538.71 1634.96 1531.6 Q1634.96 1524.47 1633.13 1520.93 Q1631.32 1517.37 1627.69 1517.37 M1627.69 1513.66 Q1633.5 1513.66 1636.56 1518.27 Q1639.63 1522.85 1639.63 1531.6 Q1639.63 1540.33 1636.56 1544.94 Q1633.5 1549.52 1627.69 1549.52 Q1621.88 1549.52 1618.8 1544.94 Q1615.75 1540.33 1615.75 1531.6 Q1615.75 1522.85 1618.8 1518.27 Q1621.88 1513.66 1627.69 1513.66 Z\\\" fill=\\\"#000000\\\" fill-rule=\\\"evenodd\\\" fill-opacity=\\\"1\\\" \\/><path clip-path=\\\"url(#clip320)\\\" d=\\\"M2280.5 1530.21 Q2283.86 1530.93 2285.73 1533.2 Q2287.63 1535.47 2287.63 1538.8 Q2287.63 1543.92 2284.11 1546.72 Q2280.59 1549.52 2274.11 1549.52 Q2271.94 1549.52 2269.62 1549.08 Q2267.33 1548.66 2264.87 1547.81 L2264.87 1543.29 Q2266.82 1544.43 2269.13 1545.01 Q2271.45 1545.58 2273.97 1545.58 Q2278.37 1545.58 2280.66 1543.85 Q2282.98 1542.11 2282.98 1538.8 Q2282.98 1535.75 2280.82 1534.03 Q2278.69 1532.3 2274.87 1532.3 L2270.85 1532.3 L2270.85 1528.45 L2275.06 1528.45 Q2278.51 1528.45 2280.34 1527.09 Q2282.17 1525.7 2282.17 1523.11 Q2282.17 1520.45 2280.27 1519.03 Q2278.39 1517.6 2274.87 1517.6 Q2272.95 1517.6 2270.75 1518.01 Q2268.56 1518.43 2265.92 1519.31 L2265.92 1515.14 Q2268.58 1514.4 2270.89 1514.03 Q2273.23 1513.66 2275.29 1513.66 Q2280.62 1513.66 2283.72 1516.09 Q2286.82 1518.5 2286.82 1522.62 Q2286.82 1525.49 2285.18 1527.48 Q2283.53 1529.45 2280.5 1530.21 Z\\\" fill=\\\"#000000\\\" fill-rule=\\\"evenodd\\\" fill-opacity=\\\"1\\\" \\/><path clip-path=\\\"url(#clip320)\\\" d=\\\"M2306.5 1517.37 Q2302.88 1517.37 2301.06 1520.93 Q2299.25 1524.47 2299.25 1531.6 Q2299.25 1538.71 2301.06 1542.27 Q2302.88 1545.82 2306.5 1545.82 Q2310.13 1545.82 2311.93 1542.27 Q2313.76 1538.71 2313.76 1531.6 Q2313.76 1524.47 2311.93 1520.93 Q2310.13 1517.37 2306.5 1517.37 M2306.5 1513.66 Q2312.31 1513.66 2315.36 1518.27 Q2318.44 1522.85 2318.44 1531.6 Q2318.44 1540.33 2315.36 1544.94 Q2312.31 1549.52 2306.5 1549.52 Q2300.68 1549.52 2297.61 1544.94 Q2294.55 1540.33 2294.55 1531.6 Q2294.55 1522.85 2297.61 1518.27 Q2300.68 1513.66 2306.5 1513.66 Z\\\" fill=\\\"#000000\\\" fill-rule=\\\"evenodd\\\" fill-opacity=\\\"1\\\" \\/><polyline clip-path=\\\"url(#clip322)\\\" style=\\\"stroke:#000000; stroke-linecap:butt; stroke-linejoin:round; stroke-width:2; stroke-opacity:0.1; fill:none\\\" points=\\\"\\n  193.936,1464.07 2352.76,1464.07 \\n  \\\"\\/>\\n<polyline clip-path=\\\"url(#clip322)\\\" style=\\\"stroke:#000000; stroke-linecap:butt; stroke-linejoin:round; stroke-width:2; stroke-opacity:0.1; fill:none\\\" points=\\\"\\n  193.936,1119.91 2352.76,1119.91 \\n  \\\"\\/>\\n<polyline clip-path=\\\"url(#clip322)\\\" style=\\\"stroke:#000000; stroke-linecap:butt; stroke-linejoin:round; stroke-width:2; stroke-opacity:0.1; fill:none\\\" points=\\\"\\n  193.936,775.758 2352.76,775.758 \\n  \\\"\\/>\\n<polyline clip-path=\\\"url(#clip322)\\\" style=\\\"stroke:#000000; stroke-linecap:butt; stroke-linejoin:round; stroke-width:2; stroke-opacity:0.1; fill:none\\\" points=\\\"\\n  193.936,431.601 2352.76,431.601 \\n  \\\"\\/>\\n<polyline clip-path=\\\"url(#clip322)\\\" style=\\\"stroke:#000000; stroke-linecap:butt; stroke-linejoin:round; stroke-width:2; stroke-opacity:0.1; fill:none\\\" points=\\\"\\n  193.936,87.4453 2352.76,87.4453 \\n  \\\"\\/>\\n<polyline clip-path=\\\"url(#clip320)\\\" style=\\\"stroke:#000000; stroke-linecap:butt; stroke-linejoin:round; stroke-width:4; stroke-opacity:1; fill:none\\\" points=\\\"\\n  193.936,1486.45 193.936,47.2441 \\n  \\\"\\/>\\n<polyline clip-path=\\\"url(#clip320)\\\" style=\\\"stroke:#000000; stroke-linecap:butt; stroke-linejoin:round; stroke-width:4; stroke-opacity:1; fill:none\\\" points=\\\"\\n  193.936,1464.07 212.834,1464.07 \\n  \\\"\\/>\\n<polyline clip-path=\\\"url(#clip320)\\\" style=\\\"stroke:#000000; stroke-linecap:butt; stroke-linejoin:round; stroke-width:4; stroke-opacity:1; fill:none\\\" points=\\\"\\n  193.936,1119.91 212.834,1119.91 \\n  \\\"\\/>\\n<polyline clip-path=\\\"url(#clip320)\\\" style=\\\"stroke:#000000; stroke-linecap:butt; stroke-linejoin:round; stroke-width:4; stroke-opacity:1; fill:none\\\" points=\\\"\\n  193.936,775.758 212.834,775.758 \\n  \\\"\\/>\\n<polyline clip-path=\\\"url(#clip320)\\\" style=\\\"stroke:#000000; stroke-linecap:butt; stroke-linejoin:round; stroke-width:4; stroke-opacity:1; fill:none\\\" points=\\\"\\n  193.936,431.601 212.834,431.601 \\n  \\\"\\/>\\n<polyline clip-path=\\\"url(#clip320)\\\" style=\\\"stroke:#000000; stroke-linecap:butt; stroke-linejoin:round; stroke-width:4; stroke-opacity:1; fill:none\\\" points=\\\"\\n  193.936,87.4453 212.834,87.4453 \\n  \\\"\\/>\\n<path clip-path=\\\"url(#clip320)\\\" d=\\\"M50.9921 1464.52 L80.6679 1464.52 L80.6679 1468.46 L50.9921 1468.46 L50.9921 1464.52 Z\\\" fill=\\\"#000000\\\" fill-rule=\\\"evenodd\\\" fill-opacity=\\\"1\\\" \\/><path clip-path=\\\"url(#clip320)\\\" d=\\\"M91.5706 1477.41 L99.2095 1477.41 L99.2095 1451.05 L90.8993 1452.72 L90.8993 1448.46 L99.1632 1446.79 L103.839 1446.79 L103.839 1477.41 L111.478 1477.41 L111.478 1481.35 L91.5706 1481.35 L91.5706 1477.41 Z\\\" fill=\\\"#000000\\\" fill-rule=\\\"evenodd\\\" fill-opacity=\\\"1\\\" \\/><path clip-path=\\\"url(#clip320)\\\" d=\\\"M120.922 1475.47 L125.807 1475.47 L125.807 1481.35 L120.922 1481.35 L120.922 1475.47 Z\\\" fill=\\\"#000000\\\" fill-rule=\\\"evenodd\\\" fill-opacity=\\\"1\\\" \\/><path clip-path=\\\"url(#clip320)\\\" d=\\\"M145.992 1449.87 Q142.381 1449.87 140.552 1453.43 Q138.746 1456.98 138.746 1464.1 Q138.746 1471.21 140.552 1474.78 Q142.381 1478.32 145.992 1478.32 Q149.626 1478.32 151.431 1474.78 Q153.26 1471.21 153.26 1464.1 Q153.26 1456.98 151.431 1453.43 Q149.626 1449.87 145.992 1449.87 M145.992 1446.16 Q151.802 1446.16 154.857 1450.77 Q157.936 1455.35 157.936 1464.1 Q157.936 1472.83 154.857 1477.44 Q151.802 1482.02 145.992 1482.02 Q140.181 1482.02 137.103 1477.44 Q134.047 1472.83 134.047 1464.1 Q134.047 1455.35 137.103 1450.77 Q140.181 1446.16 145.992 1446.16 Z\\\" fill=\\\"#000000\\\" fill-rule=\\\"evenodd\\\" fill-opacity=\\\"1\\\" \\/><path clip-path=\\\"url(#clip320)\\\" d=\\\"M51.9875 1120.37 L81.6633 1120.37 L81.6633 1124.3 L51.9875 1124.3 L51.9875 1120.37 Z\\\" fill=\\\"#000000\\\" fill-rule=\\\"evenodd\\\" fill-opacity=\\\"1\\\" \\/><path clip-path=\\\"url(#clip320)\\\" d=\\\"M101.756 1105.71 Q98.1447 1105.71 96.316 1109.28 Q94.5104 1112.82 94.5104 1119.95 Q94.5104 1127.05 96.316 1130.62 Q98.1447 1134.16 101.756 1134.16 Q105.39 1134.16 107.196 1130.62 Q109.024 1127.05 109.024 1119.95 Q109.024 1112.82 107.196 1109.28 Q105.39 1105.71 101.756 1105.71 M101.756 1102.01 Q107.566 1102.01 110.621 1106.62 Q113.7 1111.2 113.7 1119.95 Q113.7 1128.68 110.621 1133.28 Q107.566 1137.87 101.756 1137.87 Q95.9456 1137.87 92.8669 1133.28 Q89.8114 1128.68 89.8114 1119.95 Q89.8114 1111.2 92.8669 1106.62 Q95.9456 1102.01 101.756 1102.01 Z\\\" fill=\\\"#000000\\\" fill-rule=\\\"evenodd\\\" fill-opacity=\\\"1\\\" \\/><path clip-path=\\\"url(#clip320)\\\" d=\\\"M121.918 1131.31 L126.802 1131.31 L126.802 1137.19 L121.918 1137.19 L121.918 1131.31 Z\\\" fill=\\\"#000000\\\" fill-rule=\\\"evenodd\\\" fill-opacity=\\\"1\\\" \\/><path clip-path=\\\"url(#clip320)\\\" d=\\\"M137.033 1102.63 L155.39 1102.63 L155.39 1106.57 L141.316 1106.57 L141.316 1115.04 Q142.334 1114.69 143.353 1114.53 Q144.371 1114.35 145.39 1114.35 Q151.177 1114.35 154.556 1117.52 Q157.936 1120.69 157.936 1126.11 Q157.936 1131.68 154.464 1134.79 Q150.992 1137.87 144.672 1137.87 Q142.496 1137.87 140.228 1137.49 Q137.982 1137.12 135.575 1136.38 L135.575 1131.68 Q137.658 1132.82 139.881 1133.37 Q142.103 1133.93 144.58 1133.93 Q148.584 1133.93 150.922 1131.82 Q153.26 1129.72 153.26 1126.11 Q153.26 1122.49 150.922 1120.39 Q148.584 1118.28 144.58 1118.28 Q142.705 1118.28 140.83 1118.7 Q138.978 1119.12 137.033 1119.99 L137.033 1102.63 Z\\\" fill=\\\"#000000\\\" fill-rule=\\\"evenodd\\\" fill-opacity=\\\"1\\\" \\/><path clip-path=\\\"url(#clip320)\\\" d=\\\"M100.76 761.556 Q97.1493 761.556 95.3206 765.121 Q93.515 768.663 93.515 775.792 Q93.515 782.899 95.3206 786.464 Q97.1493 790.005 100.76 790.005 Q104.395 790.005 106.2 786.464 Q108.029 782.899 108.029 775.792 Q108.029 768.663 106.2 765.121 Q104.395 761.556 100.76 761.556 M100.76 757.853 Q106.571 757.853 109.626 762.459 Q112.705 767.042 112.705 775.792 Q112.705 784.519 109.626 789.126 Q106.571 793.709 100.76 793.709 Q94.9502 793.709 91.8715 789.126 Q88.816 784.519 88.816 775.792 Q88.816 767.042 91.8715 762.459 Q94.9502 757.853 100.76 757.853 Z\\\" fill=\\\"#000000\\\" fill-rule=\\\"evenodd\\\" fill-opacity=\\\"1\\\" \\/><path clip-path=\\\"url(#clip320)\\\" d=\\\"M120.922 787.158 L125.807 787.158 L125.807 793.038 L120.922 793.038 L120.922 787.158 Z\\\" fill=\\\"#000000\\\" fill-rule=\\\"evenodd\\\" fill-opacity=\\\"1\\\" \\/><path clip-path=\\\"url(#clip320)\\\" d=\\\"M145.992 761.556 Q142.381 761.556 140.552 765.121 Q138.746 768.663 138.746 775.792 Q138.746 782.899 140.552 786.464 Q142.381 790.005 145.992 790.005 Q149.626 790.005 151.431 786.464 Q153.26 782.899 153.26 775.792 Q153.26 768.663 151.431 765.121 Q149.626 761.556 145.992 761.556 M145.992 757.853 Q151.802 757.853 154.857 762.459 Q157.936 767.042 157.936 775.792 Q157.936 784.519 154.857 789.126 Q151.802 793.709 145.992 793.709 Q140.181 793.709 137.103 789.126 Q134.047 784.519 134.047 775.792 Q134.047 767.042 137.103 762.459 Q140.181 757.853 145.992 757.853 Z\\\" fill=\\\"#000000\\\" fill-rule=\\\"evenodd\\\" fill-opacity=\\\"1\\\" \\/><path clip-path=\\\"url(#clip320)\\\" d=\\\"M101.756 417.4 Q98.1447 417.4 96.316 420.965 Q94.5104 424.507 94.5104 431.636 Q94.5104 438.743 96.316 442.307 Q98.1447 445.849 101.756 445.849 Q105.39 445.849 107.196 442.307 Q109.024 438.743 109.024 431.636 Q109.024 424.507 107.196 420.965 Q105.39 417.4 101.756 417.4 M101.756 413.696 Q107.566 413.696 110.621 418.303 Q113.7 422.886 113.7 431.636 Q113.7 440.363 110.621 444.969 Q107.566 449.553 101.756 449.553 Q95.9456 449.553 92.8669 444.969 Q89.8114 440.363 89.8114 431.636 Q89.8114 422.886 92.8669 418.303 Q95.9456 413.696 101.756 413.696 Z\\\" fill=\\\"#000000\\\" fill-rule=\\\"evenodd\\\" fill-opacity=\\\"1\\\" \\/><path clip-path=\\\"url(#clip320)\\\" d=\\\"M121.918 443.002 L126.802 443.002 L126.802 448.881 L121.918 448.881 L121.918 443.002 Z\\\" fill=\\\"#000000\\\" fill-rule=\\\"evenodd\\\" fill-opacity=\\\"1\\\" \\/><path clip-path=\\\"url(#clip320)\\\" d=\\\"M137.033 414.321 L155.39 414.321 L155.39 418.257 L141.316 418.257 L141.316 426.729 Q142.334 426.382 143.353 426.22 Q144.371 426.034 145.39 426.034 Q151.177 426.034 154.556 429.206 Q157.936 432.377 157.936 437.794 Q157.936 443.372 154.464 446.474 Q150.992 449.553 144.672 449.553 Q142.496 449.553 140.228 449.182 Q137.982 448.812 135.575 448.071 L135.575 443.372 Q137.658 444.506 139.881 445.062 Q142.103 445.618 144.58 445.618 Q148.584 445.618 150.922 443.511 Q153.26 441.405 153.26 437.794 Q153.26 434.182 150.922 432.076 Q148.584 429.97 144.58 429.97 Q142.705 429.97 140.83 430.386 Q138.978 430.803 137.033 431.682 L137.033 414.321 Z\\\" fill=\\\"#000000\\\" fill-rule=\\\"evenodd\\\" fill-opacity=\\\"1\\\" \\/><path clip-path=\\\"url(#clip320)\\\" d=\\\"M91.5706 100.79 L99.2095 100.79 L99.2095 74.4246 L90.8993 76.0912 L90.8993 71.832 L99.1632 70.1653 L103.839 70.1653 L103.839 100.79 L111.478 100.79 L111.478 104.725 L91.5706 104.725 L91.5706 100.79 Z\\\" fill=\\\"#000000\\\" fill-rule=\\\"evenodd\\\" fill-opacity=\\\"1\\\" \\/><path clip-path=\\\"url(#clip320)\\\" d=\\\"M120.922 98.8457 L125.807 98.8457 L125.807 104.725 L120.922 104.725 L120.922 98.8457 Z\\\" fill=\\\"#000000\\\" fill-rule=\\\"evenodd\\\" fill-opacity=\\\"1\\\" \\/><path clip-path=\\\"url(#clip320)\\\" d=\\\"M145.992 73.244 Q142.381 73.244 140.552 76.8088 Q138.746 80.3505 138.746 87.4801 Q138.746 94.5865 140.552 98.1513 Q142.381 101.693 145.992 101.693 Q149.626 101.693 151.431 98.1513 Q153.26 94.5865 153.26 87.4801 Q153.26 80.3505 151.431 76.8088 Q149.626 73.244 145.992 73.244 M145.992 69.5403 Q151.802 69.5403 154.857 74.1468 Q157.936 78.7301 157.936 87.4801 Q157.936 96.2069 154.857 100.813 Q151.802 105.397 145.992 105.397 Q140.181 105.397 137.103 100.813 Q134.047 96.2069 134.047 87.4801 Q134.047 78.7301 137.103 74.1468 Q140.181 69.5403 145.992 69.5403 Z\\\" fill=\\\"#000000\\\" fill-rule=\\\"evenodd\\\" fill-opacity=\\\"1\\\" \\/><polyline clip-path=\\\"url(#clip322)\\\" style=\\\"stroke:#009af9; stroke-linecap:butt; stroke-linejoin:round; stroke-width:4; stroke-opacity:1; fill:none\\\" points=\\\"\\n  255.035,775.758 261.823,744.335 268.612,673.85 275.401,621.885 282.19,645.752 288.978,766.121 295.767,948.158 302.556,1111.66 309.345,1167.19 316.133,1061.74 \\n  322.922,811.346 329.711,503.161 336.5,263.29 343.288,202.895 350.077,366.417 356.866,706.088 363.655,1096.03 370.443,1381.71 377.232,1444.31 384.021,1252.14 \\n  390.81,876.147 397.598,462.163 404.387,171.235 411.176,113.568 417.964,304.355 424.753,660.056 431.542,1035.89 438.331,1287.45 445.119,1329.29 451.908,1165.7 \\n  458.697,881.761 465.486,601.084 472.274,430.495 479.063,417.064 485.852,535.48 492.641,709.022 499.429,851.651 506.218,909.726 513.007,883.363 519.796,818.518 \\n  526.584,775.758 533.373,793.168 540.162,863.296 546.951,936.441 553.739,948.813 560.528,860.946 567.317,685.902 574.106,491.231 580.894,371.457 587.683,402.79 \\n  594.472,601.606 601.261,907.819 608.049,1203.55 614.838,1361.05 621.627,1299.47 628.415,1024.87 635.204,633.87 641.993,277.604 648.782,100.052 655.57,177.118 \\n  662.359,483.131 669.148,899.88 675.937,1264.81 682.725,1437.84 689.514,1358.18 696.303,1066.99 703.092,686.962 709.88,368.771 716.669,228.25 723.458,301.657 \\n  730.247,537.182 737.035,824.255 743.824,1045.47 750.613,1126.72 757.402,1063.47 764.19,913.187 770.979,760.433 777.768,673.092 784.557,671.61 791.345,725.298 \\n  798.134,775.758 804.923,773.84 811.712,710.036 818.5,621.935 825.289,574.378 832.078,622.265 838.866,775.422 845.655,984.7 852.444,1158.52 859.233,1203.97 \\n  866.021,1073.66 872.81,795.468 879.599,469.037 886.388,227.844 893.176,182.227 899.965,368.398 906.754,727.19 913.543,1123.73 920.331,1401.12 927.12,1445.72 \\n  933.909,1235.72 940.698,851.668 947.486,443.789 954.275,170.113 961.064,131.869 967.853,333.783 974.641,685.658 981.43,1043.41 988.219,1270.65 995.008,1293.68 \\n  1001.8,1126.61 1008.59,857.563 1015.37,604.544 1022.16,462.381 1028.95,465.097 1035.74,579.328 1042.53,729.209 1049.32,838.385 1056.11,867.586 1062.89,829.624 \\n  1069.68,775.758 1076.47,762.019 1083.26,814.069 1090.05,909.631 1096.84,988.328 1103.63,984.494 1110.42,866.256 1117.2,660.177 1123.99,447.094 1130.78,328.735 \\n  1137.57,379.461 1144.36,605.952 1151.15,935.307 1157.94,1239.68 1164.73,1388.6 1171.51,1306.7 1178.3,1010.65 1185.09,607.58 1191.88,253.953 1198.67,91.4858 \\n  1205.46,187.592 1212.25,506.273 1219.04,922.397 1225.82,1273.43 1232.61,1426.32 1239.4,1330.87 1246.19,1037.09 1252.98,670.219 1259.77,375.591 1266.56,258.081 \\n  1273.35,342.489 1280.13,570.61 1286.92,833.904 1293.71,1024.88 1300.5,1082.94 1307.29,1014.47 1314.08,880.218 1320.87,758.497 1327.66,704.062 1334.44,723.069 \\n  1341.23,775.758 1348.02,803.983 1354.81,768.115 1361.6,673.225 1368.39,570.084 1375.18,529.539 1381.97,602.797 1388.75,788.142 1395.54,1022.35 1402.33,1203.55 \\n  1409.12,1236.73 1415.91,1081.21 1422.7,776.955 1429.49,435.308 1436.28,195.747 1443.06,166.403 1449.85,374.53 1456.64,749.834 1463.43,1149.61 1470.22,1416.12 \\n  1477.01,1442.08 1483.8,1215.89 1490.59,826.925 1497.37,428.403 1504.16,173.868 1510.95,154.736 1517.74,365.436 1524.53,710.206 1531.32,1047.15 1538.11,1249.14 \\n  1544.9,1254.58 1551.68,1086.79 1558.47,835.625 1565.26,612.086 1572.05,498.197 1578.84,515.066 1585.63,622.273 1592.42,746.183 1599.21,821.22 1605.99,822.786 \\n  1612.78,775.758 1619.57,735.446 1626.36,752.08 1633.15,838.226 1639.94,957.034 1646.73,1038.51 1653.52,1016.46 1660.3,867.623 1667.09,632.212 1673.88,403.587 \\n  1680.67,289.327 1687.46,360.649 1694.25,613.915 1701.04,963.771 1707.83,1273.58 1714.61,1411.67 1721.4,1309.18 1728.19,993.577 1734.98,581.672 1741.77,233.79 \\n  1748.56,87.9763 1755.35,202.432 1762.14,531.137 1768.92,943.239 1775.71,1277.76 1782.5,1409.85 1789.29,1300.16 1796.08,1006.82 1802.87,656.23 1809.66,386.948 \\n  1816.45,292.122 1823.23,385.301 1830.02,602.969 1836.81,840.051 1843.6,1000.08 1850.39,1036.24 1857.18,965.207 1863.97,849.652 1870.76,760.397 1877.54,738.391 \\n  1884.33,775.758 1891.12,824.725 1897.91,828.74 1904.7,758.669 1911.49,634.303 1918.28,518.83 1925.07,487.787 1931.85,587.458 1938.64,804.039 1945.43,1060.64 \\n  1952.22,1246.25 1959.01,1265.2 1965.8,1084.47 1972.59,756.179 1979.38,402.474 1986.16,167.39 1992.95,155.522 1999.74,384.576 2006.53,773.565 2013.32,1173.21 \\n  2020.11,1426.48 2026.9,1433.5 2033.69,1193.02 2040.47,802.401 2047.26,416.361 2054.05,182.556 2060.84,181.896 2067.63,398.841 2074.42,733.249 2081.21,1046.91 \\n  2087.99,1223.05 2094.78,1212.41 2101.57,1046.76 2108.36,816.312 2115.15,623.755 2121.94,537.643 2128.73,566.463 2135.52,663.832 2142.3,759.71 2149.09,800.283 \\n  2155.88,775.758 2162.67,722.301 2169.46,697.978 2176.25,746.013 2183.04,865.355 2189.83,1005 2196.61,1086.49 2203.4,1044.47 2210.19,865.147 2216.98,602.412 \\n  2223.77,361.227 2230.56,253.622 2237.35,346.434 2244.14,625.237 2250.92,992.737 2257.71,1304.81 2264.5,1430.03 2271.29,1307.02 2278.08,974.042 2284.87,556.629 \\n  2291.66,217.466 \\n  \\\"\\/>\\n<path clip-path=\\\"url(#clip320)\\\" d=\\\"\\nM2015.7 198.898 L2280.8 198.898 L2280.8 95.2176 L2015.7 95.2176  Z\\n  \\\" fill=\\\"#ffffff\\\" fill-rule=\\\"evenodd\\\" fill-opacity=\\\"1\\\"\\/>\\n<polyline clip-path=\\\"url(#clip320)\\\" style=\\\"stroke:#000000; stroke-linecap:butt; stroke-linejoin:round; stroke-width:4; stroke-opacity:1; fill:none\\\" points=\\\"\\n  2015.7,198.898 2280.8,198.898 2280.8,95.2176 2015.7,95.2176 2015.7,198.898 \\n  \\\"\\/>\\n<polyline clip-path=\\\"url(#clip320)\\\" style=\\\"stroke:#009af9; stroke-linecap:butt; stroke-linejoin:round; stroke-width:4; stroke-opacity:1; fill:none\\\" points=\\\"\\n  2039.68,147.058 2183.6,147.058 \\n  \\\"\\/>\\n<path clip-path=\\\"url(#clip320)\\\" d=\\\"M2221.43 166.745 Q2219.63 171.375 2217.91 172.787 Q2216.2 174.199 2213.33 174.199 L2209.93 174.199 L2209.93 170.634 L2212.43 170.634 Q2214.19 170.634 2215.16 169.8 Q2216.13 168.967 2217.31 165.865 L2218.08 163.921 L2207.59 138.412 L2212.1 138.412 L2220.21 158.689 L2228.31 138.412 L2232.82 138.412 L2221.43 166.745 Z\\\" fill=\\\"#000000\\\" fill-rule=\\\"evenodd\\\" fill-opacity=\\\"1\\\" \\/><\\/svg>\\n\"},\"nodeType\":\"DOM\",\"type\":\"node\",\"instanceArgs\":{\"namespace\":\"html\",\"tag\":\"div\"},\"children\":[]}]}}}},\"children\":[{\"props\":{},\"nodeType\":\"ObservableNode\",\"type\":\"node\",\"instanceArgs\":{\"id\":\"16647524698372456603\",\"name\":\"obs-node\"},\"children\":[]}]}]},\n",
       "        window,\n",
       "    );\n",
       "    })()\n",
       "    </script>\n",
       "</div>\n"
      ],
      "text/plain": [
       "Node{WebIO.DOM}(WebIO.DOM(:html, :div), Any[Node{WebIO.DOM}(WebIO.DOM(:html, :div), Any[Scope(Node{WebIO.DOM}(WebIO.DOM(:html, :div), Any[Node{WebIO.DOM}(WebIO.DOM(:html, :div), Any[Node{WebIO.DOM}(WebIO.DOM(:html, :label), Any[\"freq1\"], Dict{Symbol, Any}(:className => \"interact \", :style => Dict{Any, Any}(:padding => \"5px 10px 0px 10px\")))], Dict{Symbol, Any}(:className => \"interact-flex-row-left\")), Node{WebIO.DOM}(WebIO.DOM(:html, :div), Any[Node{WebIO.DOM}(WebIO.DOM(:html, :div), Any[Node{WebIO.DOM}(WebIO.DOM(:html, :span), Any[Node{WebIO.DOM}(WebIO.DOM(:html, :label), Any[], Dict{Symbol, Any}(:attributes => Dict(\"data-bind\" => \"text : key\")))], Dict{Symbol, Any}(:attributes => Dict(\"data-bind\" => \"click: function (){\\$root.update(val)}, css: {'is-primary is-selected' : \\$root.index() == val, 'interact-widget is-medium button ' : true}\")))], Dict{Symbol, Any}(:attributes => (\"data-bind\" => \"foreach : options_js\"), :className => \"buttons has-addons is-centered\"))], Dict{Symbol, Any}(:className => \"interact-flex-row-center\")), Node{WebIO.DOM}(WebIO.DOM(:html, :div), Any[Node{WebIO.DOM}(WebIO.DOM(:html, :div), Any[], Dict{Symbol, Any}())], Dict{Symbol, Any}(:className => \"interact-flex-row-right\"))], Dict{Symbol, Any}(:className => \"interact-flex-row interact-widget\")), Dict{String, Tuple{Observables.AbstractObservable, Union{Nothing, Bool}}}(\"options_js\" => (Observable{Vector{OrderedDict}} with 1 listeners. Value:\n",
       "OrderedDict[OrderedDict{String, Any}(\"key\" => \"π/4\", \"val\" => 1, \"id\" => \"id6hkLAT6J\"), OrderedDict{String, Any}(\"key\" => \"π/2\", \"val\" => 2, \"id\" => \"idvSyXrZMV\"), OrderedDict{String, Any}(\"key\" => \"3π/4\", \"val\" => 3, \"id\" => \"idXAkolzHR\"), OrderedDict{String, Any}(\"key\" => \"π\", \"val\" => 4, \"id\" => \"idxvxBfGCF\")], nothing), \"index\" => (Observable{Any} with 2 listeners. Value:\n",
       "1, nothing)), Set{String}(), nothing, Asset[Asset(\"js\", \"knockout\", \"C:\\\\Users\\\\hunterw\\\\.julia\\\\packages\\\\Knockout\\\\3gjS1\\\\src\\\\..\\\\assets\\\\knockout.js\"), Asset(\"js\", \"knockout_punches\", \"C:\\\\Users\\\\hunterw\\\\.julia\\\\packages\\\\Knockout\\\\3gjS1\\\\src\\\\..\\\\assets\\\\knockout_punches.js\"), Asset(\"js\", nothing, \"C:\\\\Users\\\\hunterw\\\\.julia\\\\packages\\\\InteractBase\\\\h8Fwe\\\\src\\\\..\\\\assets\\\\all.js\"), Asset(\"css\", nothing, \"C:\\\\Users\\\\hunterw\\\\.julia\\\\packages\\\\InteractBase\\\\h8Fwe\\\\src\\\\..\\\\assets\\\\style.css\"), Asset(\"css\", nothing, \"C:\\\\Users\\\\hunterw\\\\.julia\\\\packages\\\\Interact\\\\pVyN2\\\\src\\\\..\\\\assets\\\\bulma_confined.min.css\")], Dict{Any, Any}(\"options_js\" => Any[WebIO.JSString(\"(function (val){return (val!=this.model[\\\"options_js\\\"]()) ? (this.valueFromJulia[\\\"options_js\\\"]=true, this.model[\\\"options_js\\\"](val)) : undefined})\")], \"index\" => Any[WebIO.JSString(\"(function (val){return (val!=this.model[\\\"index\\\"]()) ? (this.valueFromJulia[\\\"index\\\"]=true, this.model[\\\"index\\\"](val)) : undefined})\")]), WebIO.ConnectionPool(Channel{Any}(32), Set{AbstractConnection}(), Condition(Base.InvasiveLinkedList{Task}(Task (runnable) @0x00000000746ff460, Task (runnable) @0x00000000746ff460), Base.AlwaysLockedST(1))), WebIO.JSString[WebIO.JSString(\"function () {\\n    var handler = (function (ko, koPunches) {\\n    ko.punches.enableAll();\\n    ko.bindingHandlers.numericValue = {\\n        init: function(element, valueAccessor, allBindings, data, context) {\\n            var stringified = ko.observable(ko.unwrap(valueAccessor()));\\n            stringified.subscribe(function(value) {\\n                var val = parseFloat(value);\\n                if (!isNaN(val)) {\\n                    valueAccessor()(val);\\n                }\\n            });\\n            valueAccessor().subscribe(function(value) {\\n                var str = JSON.stringify(value);\\n                if ((str == \\\"0\\\") && ([\\\"-0\\\", \\\"-0.\\\"].indexOf(stringified()) >= 0))\\n                     return;\\n                 if ([\\\"null\\\", \\\"\\\"].indexOf(str) >= 0)\\n                     return;\\n                stringified(str);\\n            });\\n            ko.applyBindingsToNode(\\n                element,\\n                {\\n                    value: stringified,\\n                    valueUpdate: allBindings.get('valueUpdate'),\\n                },\\n                context,\\n            );\\n        }\\n    };\\n    var json_data = {\\\"options_js\\\":WebIO.getval({\\\"name\\\":\\\"options_js\\\",\\\"scope\\\":\\\"8311651145263808875\\\",\\\"id\\\":\\\"10587499600676641772\\\",\\\"type\\\":\\\"observable\\\"}),\\\"index\\\":WebIO.getval({\\\"name\\\":\\\"index\\\",\\\"scope\\\":\\\"8311651145263808875\\\",\\\"id\\\":\\\"2851777326007847081\\\",\\\"type\\\":\\\"observable\\\"})};\\n    var self = this;\\n    function AppViewModel() {\\n        for (var key in json_data) {\\n            var el = json_data[key];\\n            this[key] = Array.isArray(el) ? ko.observableArray(el) : ko.observable(el);\\n        }\\n        [this[\\\"update\\\"]=function (val) {this.index(val)}]\\n        \\n        [this[\\\"options_js\\\"].subscribe((function (val){!(this.valueFromJulia[\\\"options_js\\\"]) ? (WebIO.setval({\\\"name\\\":\\\"options_js\\\",\\\"scope\\\":\\\"8311651145263808875\\\",\\\"id\\\":\\\"10587499600676641772\\\",\\\"type\\\":\\\"observable\\\"},val)) : undefined; return this.valueFromJulia[\\\"options_js\\\"]=false}),self),this[\\\"index\\\"].subscribe((function (val){!(this.valueFromJulia[\\\"index\\\"]) ? (WebIO.setval({\\\"name\\\":\\\"index\\\",\\\"scope\\\":\\\"8311651145263808875\\\",\\\"id\\\":\\\"2851777326007847081\\\",\\\"type\\\":\\\"observable\\\"},val)) : undefined; return this.valueFromJulia[\\\"index\\\"]=false}),self)]\\n        \\n    }\\n    self.model = new AppViewModel();\\n    self.valueFromJulia = {};\\n    for (var key in json_data) {\\n        self.valueFromJulia[key] = false;\\n    }\\n    ko.applyBindings(self.model, self.dom);\\n}\\n);\\n    (WebIO.importBlock({\\\"data\\\":[{\\\"name\\\":\\\"knockout\\\",\\\"type\\\":\\\"js\\\",\\\"url\\\":\\\"/assetserver/b06b1d10f9a22ed58d41d733179ca1f7324f1691-knockout.js\\\"},{\\\"name\\\":\\\"knockout_punches\\\",\\\"type\\\":\\\"js\\\",\\\"url\\\":\\\"/assetserver/8b802bee336af6b9ad8d794ceaaab92b93e96af6-knockout_punches.js\\\"}],\\\"type\\\":\\\"async_block\\\"})).then((imports) => handler.apply(this, imports));\\n}\\n\")])], Dict{Symbol, Any}(:className => \"interact-widget\")), Node{WebIO.DOM}(WebIO.DOM(:html, :div), Any[Scope(Node{WebIO.DOM}(WebIO.DOM(:html, :div), Any[Node{WebIO.DOM}(WebIO.DOM(:html, :div), Any[Node{WebIO.DOM}(WebIO.DOM(:html, :label), Any[\"freq2\"], Dict{Symbol, Any}(:className => \"interact \", :style => Dict{Any, Any}(:padding => \"5px 10px 0px 10px\")))], Dict{Symbol, Any}(:className => \"interact-flex-row-left\")), Node{WebIO.DOM}(WebIO.DOM(:html, :div), Any[Node{WebIO.DOM}(WebIO.DOM(:html, :input), Any[], Dict{Symbol, Any}(:max => 126, :min => 1, :attributes => Dict{Any, Any}(:type => \"range\", Symbol(\"data-bind\") => \"numericValue: index, valueUpdate: 'input', event: {change: function (){this.changes(this.changes()+1)}}\", \"orient\" => \"horizontal\"), :step => 1, :className => \"slider slider is-fullwidth\", :style => Dict{Any, Any}()))], Dict{Symbol, Any}(:className => \"interact-flex-row-center\")), Node{WebIO.DOM}(WebIO.DOM(:html, :div), Any[Node{WebIO.DOM}(WebIO.DOM(:html, :p), Any[], Dict{Symbol, Any}(:attributes => Dict(\"data-bind\" => \"text: formatted_val\")))], Dict{Symbol, Any}(:className => \"interact-flex-row-right\"))], Dict{Symbol, Any}(:className => \"interact-flex-row interact-widget\")), Dict{String, Tuple{Observables.AbstractObservable, Union{Nothing, Bool}}}(\"changes\" => (Observable{Int64} with 1 listeners. Value:\n",
       "0, nothing), \"index\" => (Observable{Any} with 2 listeners. Value:\n",
       "63, nothing)), Set{String}(), nothing, Asset[Asset(\"js\", \"knockout\", \"C:\\\\Users\\\\hunterw\\\\.julia\\\\packages\\\\Knockout\\\\3gjS1\\\\src\\\\..\\\\assets\\\\knockout.js\"), Asset(\"js\", \"knockout_punches\", \"C:\\\\Users\\\\hunterw\\\\.julia\\\\packages\\\\Knockout\\\\3gjS1\\\\src\\\\..\\\\assets\\\\knockout_punches.js\"), Asset(\"js\", nothing, \"C:\\\\Users\\\\hunterw\\\\.julia\\\\packages\\\\InteractBase\\\\h8Fwe\\\\src\\\\..\\\\assets\\\\all.js\"), Asset(\"css\", nothing, \"C:\\\\Users\\\\hunterw\\\\.julia\\\\packages\\\\InteractBase\\\\h8Fwe\\\\src\\\\..\\\\assets\\\\style.css\"), Asset(\"css\", nothing, \"C:\\\\Users\\\\hunterw\\\\.julia\\\\packages\\\\Interact\\\\pVyN2\\\\src\\\\..\\\\assets\\\\bulma_confined.min.css\")], Dict{Any, Any}(\"changes\" => Any[WebIO.JSString(\"(function (val){return (val!=this.model[\\\"changes\\\"]()) ? (this.valueFromJulia[\\\"changes\\\"]=true, this.model[\\\"changes\\\"](val)) : undefined})\")], \"index\" => Any[WebIO.JSString(\"(function (val){return (val!=this.model[\\\"index\\\"]()) ? (this.valueFromJulia[\\\"index\\\"]=true, this.model[\\\"index\\\"](val)) : undefined})\")]), WebIO.ConnectionPool(Channel{Any}(32), Set{AbstractConnection}(), Condition(Base.InvasiveLinkedList{Task}(Task (runnable) @0x00000000746ff650, Task (runnable) @0x00000000746ff650), Base.AlwaysLockedST(1))), WebIO.JSString[WebIO.JSString(\"function () {\\n    var handler = (function (ko, koPunches) {\\n    ko.punches.enableAll();\\n    ko.bindingHandlers.numericValue = {\\n        init: function(element, valueAccessor, allBindings, data, context) {\\n            var stringified = ko.observable(ko.unwrap(valueAccessor()));\\n            stringified.subscribe(function(value) {\\n                var val = parseFloat(value);\\n                if (!isNaN(val)) {\\n                    valueAccessor()(val);\\n                }\\n            });\\n            valueAccessor().subscribe(function(value) {\\n                var str = JSON.stringify(value);\\n                if ((str == \\\"0\\\") && ([\\\"-0\\\", \\\"-0.\\\"].indexOf(stringified()) >= 0))\\n                     return;\\n                 if ([\\\"null\\\", \\\"\\\"].indexOf(str) >= 0)\\n                     return;\\n                stringified(str);\\n            });\\n            ko.applyBindingsToNode(\\n                element,\\n                {\\n                    value: stringified,\\n                    valueUpdate: allBindings.get('valueUpdate'),\\n                },\\n                context,\\n            );\\n        }\\n    };\\n    var json_data = {\\\"formatted_vals\\\":[\\\"0.01\\\",\\\"0.11\\\",\\\"0.21\\\",\\\"0.31\\\",\\\"0.41\\\",\\\"0.51\\\",\\\"0.61\\\",\\\"0.71\\\",\\\"0.81\\\",\\\"0.91\\\",\\\"1.01\\\",\\\"1.11\\\",\\\"1.21\\\",\\\"1.31\\\",\\\"1.41\\\",\\\"1.51\\\",\\\"1.61\\\",\\\"1.71\\\",\\\"1.81\\\",\\\"1.91\\\",\\\"2.01\\\",\\\"2.11\\\",\\\"2.21\\\",\\\"2.31\\\",\\\"2.41\\\",\\\"2.51\\\",\\\"2.61\\\",\\\"2.71\\\",\\\"2.81\\\",\\\"2.91\\\",\\\"3.01\\\",\\\"3.11\\\",\\\"3.21\\\",\\\"3.31\\\",\\\"3.41\\\",\\\"3.51\\\",\\\"3.61\\\",\\\"3.71\\\",\\\"3.81\\\",\\\"3.91\\\",\\\"4.01\\\",\\\"4.11\\\",\\\"4.21\\\",\\\"4.31\\\",\\\"4.41\\\",\\\"4.51\\\",\\\"4.61\\\",\\\"4.71\\\",\\\"4.81\\\",\\\"4.91\\\",\\\"5.01\\\",\\\"5.11\\\",\\\"5.21\\\",\\\"5.31\\\",\\\"5.41\\\",\\\"5.51\\\",\\\"5.61\\\",\\\"5.71\\\",\\\"5.81\\\",\\\"5.91\\\",\\\"6.01\\\",\\\"6.11\\\",\\\"6.21\\\",\\\"6.31\\\",\\\"6.41\\\",\\\"6.51\\\",\\\"6.61\\\",\\\"6.71\\\",\\\"6.81\\\",\\\"6.91\\\",\\\"7.01\\\",\\\"7.11\\\",\\\"7.21\\\",\\\"7.31\\\",\\\"7.41\\\",\\\"7.51\\\",\\\"7.61\\\",\\\"7.71\\\",\\\"7.81\\\",\\\"7.91\\\",\\\"8.01\\\",\\\"8.11\\\",\\\"8.21\\\",\\\"8.31\\\",\\\"8.41\\\",\\\"8.51\\\",\\\"8.61\\\",\\\"8.71\\\",\\\"8.81\\\",\\\"8.91\\\",\\\"9.01\\\",\\\"9.11\\\",\\\"9.21\\\",\\\"9.31\\\",\\\"9.41\\\",\\\"9.51\\\",\\\"9.61\\\",\\\"9.71\\\",\\\"9.81\\\",\\\"9.91\\\",\\\"10.01\\\",\\\"10.11\\\",\\\"10.21\\\",\\\"10.31\\\",\\\"10.41\\\",\\\"10.51\\\",\\\"10.61\\\",\\\"10.71\\\",\\\"10.81\\\",\\\"10.91\\\",\\\"11.01\\\",\\\"11.11\\\",\\\"11.21\\\",\\\"11.31\\\",\\\"11.41\\\",\\\"11.51\\\",\\\"11.61\\\",\\\"11.71\\\",\\\"11.81\\\",\\\"11.91\\\",\\\"12.01\\\",\\\"12.11\\\",\\\"12.21\\\",\\\"12.31\\\",\\\"12.41\\\",\\\"12.51\\\"],\\\"changes\\\":WebIO.getval({\\\"name\\\":\\\"changes\\\",\\\"scope\\\":\\\"8792799276343691673\\\",\\\"id\\\":\\\"9654733334633210576\\\",\\\"type\\\":\\\"observable\\\"}),\\\"index\\\":WebIO.getval({\\\"name\\\":\\\"index\\\",\\\"scope\\\":\\\"8792799276343691673\\\",\\\"id\\\":\\\"5151649953792330105\\\",\\\"type\\\":\\\"observable\\\"})};\\n    var self = this;\\n    function AppViewModel() {\\n        for (var key in json_data) {\\n            var el = json_data[key];\\n            this[key] = Array.isArray(el) ? ko.observableArray(el) : ko.observable(el);\\n        }\\n        \\n        [this[\\\"formatted_val\\\"]=ko.computed(    function(){\\n        return this.formatted_vals()[parseInt(this.index())-(1)];\\n    }\\n,this)]\\n        [this[\\\"changes\\\"].subscribe((function (val){!(this.valueFromJulia[\\\"changes\\\"]) ? (WebIO.setval({\\\"name\\\":\\\"changes\\\",\\\"scope\\\":\\\"8792799276343691673\\\",\\\"id\\\":\\\"9654733334633210576\\\",\\\"type\\\":\\\"observable\\\"},val)) : undefined; return this.valueFromJulia[\\\"changes\\\"]=false}),self),this[\\\"index\\\"].subscribe((function (val){!(this.valueFromJulia[\\\"index\\\"]) ? (WebIO.setval({\\\"name\\\":\\\"index\\\",\\\"scope\\\":\\\"8792799276343691673\\\",\\\"id\\\":\\\"5151649953792330105\\\",\\\"type\\\":\\\"observable\\\"},val)) : undefined; return this.valueFromJulia[\\\"index\\\"]=false}),self)]\\n        \\n    }\\n    self.model = new AppViewModel();\\n    self.valueFromJulia = {};\\n    for (var key in json_data) {\\n        self.valueFromJulia[key] = false;\\n    }\\n    ko.applyBindings(self.model, self.dom);\\n}\\n);\\n    (WebIO.importBlock({\\\"data\\\":[{\\\"name\\\":\\\"knockout\\\",\\\"type\\\":\\\"js\\\",\\\"url\\\":\\\"/assetserver/b06b1d10f9a22ed58d41d733179ca1f7324f1691-knockout.js\\\"},{\\\"name\\\":\\\"knockout_punches\\\",\\\"type\\\":\\\"js\\\",\\\"url\\\":\\\"/assetserver/8b802bee336af6b9ad8d794ceaaab92b93e96af6-knockout_punches.js\\\"}],\\\"type\\\":\\\"async_block\\\"})).then((imports) => handler.apply(this, imports));\\n}\\n\")])], Dict{Symbol, Any}(:className => \"field interact-widget\")), Observable{Node{WebIO.DOM}} with 0 listeners. Value:\n",
       "Node{WebIO.DOM}(WebIO.DOM(:html, :div), Any[Plot{Plots.GRBackend() n=1}], Dict{Symbol, Any}(:className => \"interact-flex-row interact-widget\"))], Dict{Symbol, Any}())"
      ]
     },
     "execution_count": 17,
     "metadata": {
      "application/vnd.webio.node+json": {
       "kernelId": "b055c6ba-bceb-4b24-a48f-f03bb564cc9b"
      }
     },
     "output_type": "execute_result"
    }
   ],
   "source": [
    "x = y = 0:0.1:30\n",
    "\n",
    "freqs = OrderedDict(zip([\"π/4\", \"π/2\", \"3π/4\", \"π\"], [π/4, π/2, 3π/4, π]))\n",
    "\n",
    "p2 = @manipulate for freq1 in freqs, freq2 in slider(0.01:0.1:4π; label=\"freq2\")\n",
    "    y = @. sin(freq1*x) * sin(freq2*x)\n",
    "    plot(x, y; label=\"y\")\n",
    "end"
   ]
  },
  {
   "cell_type": "code",
   "execution_count": null,
   "id": "f6c24987",
   "metadata": {},
   "outputs": [],
   "source": []
  }
 ],
 "metadata": {
  "@webio": {
   "lastCommId": "13baa5f01f824cb58d02081907cfae40",
   "lastKernelId": "b055c6ba-bceb-4b24-a48f-f03bb564cc9b"
  },
  "kernelspec": {
   "display_name": "Julia 1.7.3",
   "language": "julia",
   "name": "julia-1.7"
  },
  "language_info": {
   "file_extension": ".jl",
   "mimetype": "application/julia",
   "name": "julia",
   "version": "1.7.3"
  }
 },
 "nbformat": 4,
 "nbformat_minor": 5
}
